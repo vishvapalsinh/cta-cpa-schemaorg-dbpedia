{
 "cells": [
  {
   "cell_type": "markdown",
   "id": "41e05345",
   "metadata": {},
   "source": [
    "****Column Type Annotation using Schema.org terms (R2-SOTAB-CTA-SCH)****\n",
    "\n",
    "- It is based on the WDC-SOTAB benchmark and focuses on annotating table columns with predefined terms from the [Schema.org](http://schema.org/) vocabulary.\n",
    "- The goal is to annotate the semantics types of table columns using terms from predefined set of [Schema.org](http://Schema.org) terms.\n",
    "- The task is framed as a multi-class classification problem, where each column is annotated with a single type\n",
    "- The set of predefined [Schema.org](http://schema.org/) terms consists of **80** terms listed in the \"cta_labels_round2.txt\" file.\n",
    "    - Examples of these terms include \"telephone,\" \"Duration,\" or \"Place/name.”\n",
    "- Annotate the columns using the terms provided in the \"cta_labels_round2.txt\" file.\n",
    "- Submission CSV file should contain fields such as table_name, column_index, label\n",
    "- Considering input and output, it can be as below:\n",
    "\n",
    "Input:\n",
    "\n",
    "- Consider a table representing information about products:\n",
    "- table_name: Product_corememoriesco.com_September2020_CTA.json.gz\n",
    "\n",
    "|  | 0 | 1 | 2 | 3 | 4 |\n",
    "| --- | --- | --- | --- | --- | --- |\n",
    "| 0 | Memory Foam Pillow | Memory Foam Pillow | 29.99 | A comfortable memory foam pillow | Home & Garden |\n",
    "\n",
    "cta_labels_round.txt\n",
    "\n",
    "> telephone\n",
    "Duration\n",
    "Place/name\n",
    "...\n",
    "> \n",
    "\n",
    "Example Output:\n",
    "\n",
    "```sql\n",
    "table_name, column_index, label\n",
    "Product_corememoriesco.com_September2020_CTA.json.gz, 0, Thing/Product\n",
    "Product_corememoriesco.com_September2020_CTA.json.gz, 1, Thing/Organization\n",
    "Product_corememoriesco.com_September2020_CTA.json.gz, 2, Quantity/Price\n",
    "Product_corememoriesco.com_September2020_CTA.json.gz, 3, Text\n",
    "Product_corememoriesco.com_September2020_CTA.json.gz, 4, Thing/Intangible\n",
    "```\n",
    "\n",
    "In this example:\n",
    "\n",
    "- The table name is specified as \"Product_corememoriesco.com_September2020_CTA.json.gz\".\n",
    "- Each column is represented by a line in the output file.\n",
    "- The column index and predicted label are provided for each column."
   ]
  },
  {
   "cell_type": "code",
   "execution_count": 1,
   "id": "b9b1f83b",
   "metadata": {},
   "outputs": [],
   "source": [
    "import pandas as pd\n",
    "import numpy as np\n",
    "import gzip\n",
    "import json\n",
    "import matplotlib.pyplot as plt\n",
    "import os"
   ]
  },
  {
   "cell_type": "code",
   "execution_count": 2,
   "id": "f0c8f9bf",
   "metadata": {},
   "outputs": [
    {
     "name": "stdout",
     "output_type": "stream",
     "text": [
      "['CreativeWork/name\\n', 'Person/name\\n', 'Language\\n', 'CreativeWork\\n', 'telephone\\n', 'Organization\\n', 'DateTime\\n', 'Number\\n', 'Boolean\\n', 'Date\\n', 'Hotel/description\\n', 'Time\\n', 'LocationFeatureSpecification\\n', 'Hotel/name\\n', 'priceRange\\n', 'PostalAddress\\n', 'Country\\n', 'addressLocality\\n', 'paymentAccepted\\n', 'openingHours\\n', 'streetAddress\\n', 'Photograph\\n', 'postalCode\\n', 'CoordinateAT\\n', 'Review\\n', 'MonetaryAmount\\n', 'workHours\\n', 'JobPosting/description\\n', 'EducationalOccupationalCredential\\n', 'CategoryCode\\n', 'OccupationalExperienceRequirements\\n', 'JobPosting/name\\n', 'IdentifierAT\\n', 'currency\\n', 'Museum/name\\n', 'addressRegion\\n', 'MusicRecording/name\\n', 'MusicAlbum/name\\n', 'MusicArtistAT\\n', 'price\\n', 'Place/name\\n', 'DayOfWeek\\n', 'ItemList\\n', 'Energy\\n', 'Recipe/name\\n', 'QuantitativeValue\\n', 'Recipe/description\\n', 'RestrictedDiet\\n', 'Duration\\n', 'Mass\\n', 'Restaurant/name\\n', 'URL\\n', 'SportsTeam\\n', 'SportsEvent/name\\n', 'EventAttendanceModeEnumeration\\n', 'TVEpisode/name\\n', 'CreativeWorkSeries\\n', 'Book/name\\n', 'Book/description\\n', 'OfferItemCondition\\n', 'ItemAvailability\\n', 'BookFormatType\\n', 'Event/description\\n', 'Event/name\\n', 'category\\n', 'EventStatusType\\n', 'email\\n', 'LocalBusiness/name\\n', 'Movie/description\\n', 'Movie/name\\n', 'Rating\\n', 'GenderType\\n', 'Distance\\n', 'weight\\n', 'Product/description\\n', 'Brand\\n', 'ProductModel\\n', 'unitCode\\n', 'Product/name\\n', 'unitText\\n']\n",
      "\n",
      " Totle number of terms in cta_labels_round2.txt are : 80\n"
     ]
    }
   ],
   "source": [
    "# Read all 80 terms provided in cta_labels_round2.txt\n",
    "file_path_terms = 'dataset\\Round2-SOTAB-CTA-SCH-Datasets\\cta_labels_round2.txt'\n",
    "\n",
    "with open(file_path_terms, 'r') as file:\n",
    "    lines = file.readlines()\n",
    "\n",
    "print(lines)\n",
    "\n",
    "print(f'\\n Totle number of terms in cta_labels_round2.txt are : {len(lines)}')"
   ]
  },
  {
   "cell_type": "code",
   "execution_count": 3,
   "id": "95ea96e3",
   "metadata": {},
   "outputs": [],
   "source": [
    "# Read a sample file and sources residing in it : File name and data residing in it. \n",
    "file_path_gz = 'dataset/Round2-SOTAB-CTA-Tables/Book_11x17.pt_September2020_CTA.json.gz'  # Replace with the actual file path of your JSON file\n",
    "df = pd.read_json(file_path_gz, lines=True, compression='gzip')"
   ]
  },
  {
   "cell_type": "code",
   "execution_count": 4,
   "id": "f7cf4756",
   "metadata": {},
   "outputs": [
    {
     "data": {
      "text/html": [
       "<div>\n",
       "<style scoped>\n",
       "    .dataframe tbody tr th:only-of-type {\n",
       "        vertical-align: middle;\n",
       "    }\n",
       "\n",
       "    .dataframe tbody tr th {\n",
       "        vertical-align: top;\n",
       "    }\n",
       "\n",
       "    .dataframe thead th {\n",
       "        text-align: right;\n",
       "    }\n",
       "</style>\n",
       "<table border=\"1\" class=\"dataframe\">\n",
       "  <thead>\n",
       "    <tr style=\"text-align: right;\">\n",
       "      <th></th>\n",
       "      <th>0</th>\n",
       "      <th>1</th>\n",
       "      <th>2</th>\n",
       "      <th>3</th>\n",
       "    </tr>\n",
       "  </thead>\n",
       "  <tbody>\n",
       "    <tr>\n",
       "      <th>0</th>\n",
       "      <td>9789722539739</td>\n",
       "      <td>A Cidade Perdida</td>\n",
       "      <td>728</td>\n",
       "      <td>2020-07-10</td>\n",
       "    </tr>\n",
       "    <tr>\n",
       "      <th>1</th>\n",
       "      <td>9789722531924</td>\n",
       "      <td>A Cúpula - livro 1</td>\n",
       "      <td>704</td>\n",
       "      <td>2016-04-08</td>\n",
       "    </tr>\n",
       "    <tr>\n",
       "      <th>2</th>\n",
       "      <td>9789722527118</td>\n",
       "      <td>Misery</td>\n",
       "      <td>480</td>\n",
       "      <td>2013-09-13</td>\n",
       "    </tr>\n",
       "    <tr>\n",
       "      <th>3</th>\n",
       "      <td>9789722532457</td>\n",
       "      <td>A Cúpula - Livro 2</td>\n",
       "      <td>656</td>\n",
       "      <td>2016-08-05</td>\n",
       "    </tr>\n",
       "    <tr>\n",
       "      <th>4</th>\n",
       "      <td>9789722537636</td>\n",
       "      <td>O Olho de Deus</td>\n",
       "      <td>528</td>\n",
       "      <td>2019-05-10</td>\n",
       "    </tr>\n",
       "  </tbody>\n",
       "</table>\n",
       "</div>"
      ],
      "text/plain": [
       "               0                   1    2           3\n",
       "0  9789722539739    A Cidade Perdida  728  2020-07-10\n",
       "1  9789722531924  A Cúpula - livro 1  704  2016-04-08\n",
       "2  9789722527118              Misery  480  2013-09-13\n",
       "3  9789722532457  A Cúpula - Livro 2  656  2016-08-05\n",
       "4  9789722537636      O Olho de Deus  528  2019-05-10"
      ]
     },
     "execution_count": 4,
     "metadata": {},
     "output_type": "execute_result"
    }
   ],
   "source": [
    "df.head()"
   ]
  },
  {
   "cell_type": "code",
   "execution_count": 5,
   "id": "6ff41144",
   "metadata": {},
   "outputs": [
    {
     "name": "stdout",
     "output_type": "stream",
     "text": [
      "\n",
      " Dimension of the train dataframe are (115562, 3)\n",
      "\n",
      " Dimension of the validaiton dataframe are (1172, 3)\n",
      "\n",
      " Dimension of the test dataframe are (1112, 2)\n"
     ]
    }
   ],
   "source": [
    "# Reading the provided training dataset\n",
    "file_path_train = 'dataset\\Round2-SOTAB-CTA-SCH-Datasets\\sotab_cta_train_round2.csv'\n",
    "file_path_validate = 'dataset\\Round2-SOTAB-CTA-SCH-Datasets\\sotab_cta_validation_round2.csv' \n",
    "file_path_test = 'dataset\\Round2-SOTAB-CTA-SCH-Datasets\\sotab_cta_test_targets_round2.csv'\n",
    "\n",
    "df_train = pd.read_csv(file_path_train)\n",
    "df_validate = pd.read_csv(file_path_validate)\n",
    "df_test = pd.read_csv(file_path_test)\n",
    "\n",
    "print(f'\\n Dimension of the train dataframe are {df_train.shape}')\n",
    "print(f'\\n Dimension of the validaiton dataframe are {df_validate.shape}')\n",
    "print(f'\\n Dimension of the test dataframe are {df_test.shape}')"
   ]
  },
  {
   "cell_type": "code",
   "execution_count": 6,
   "id": "97cf21fb",
   "metadata": {},
   "outputs": [
    {
     "name": "stdout",
     "output_type": "stream",
     "text": [
      "Training dataset\n"
     ]
    },
    {
     "data": {
      "text/html": [
       "<div>\n",
       "<style scoped>\n",
       "    .dataframe tbody tr th:only-of-type {\n",
       "        vertical-align: middle;\n",
       "    }\n",
       "\n",
       "    .dataframe tbody tr th {\n",
       "        vertical-align: top;\n",
       "    }\n",
       "\n",
       "    .dataframe thead th {\n",
       "        text-align: right;\n",
       "    }\n",
       "</style>\n",
       "<table border=\"1\" class=\"dataframe\">\n",
       "  <thead>\n",
       "    <tr style=\"text-align: right;\">\n",
       "      <th></th>\n",
       "      <th>table_name</th>\n",
       "      <th>column_index</th>\n",
       "      <th>label</th>\n",
       "    </tr>\n",
       "  </thead>\n",
       "  <tbody>\n",
       "    <tr>\n",
       "      <th>0</th>\n",
       "      <td>Book_11x17.pt_September2020_CTA.json.gz</td>\n",
       "      <td>3</td>\n",
       "      <td>Date</td>\n",
       "    </tr>\n",
       "    <tr>\n",
       "      <th>1</th>\n",
       "      <td>Book_12min.com_September2020_CTA.json.gz</td>\n",
       "      <td>0</td>\n",
       "      <td>Book/name</td>\n",
       "    </tr>\n",
       "    <tr>\n",
       "      <th>2</th>\n",
       "      <td>Book_12min.com_September2020_CTA.json.gz</td>\n",
       "      <td>2</td>\n",
       "      <td>Language</td>\n",
       "    </tr>\n",
       "    <tr>\n",
       "      <th>3</th>\n",
       "      <td>Book_1carpetcleaning.co.uk_September2020_CTA.j...</td>\n",
       "      <td>0</td>\n",
       "      <td>Organization</td>\n",
       "    </tr>\n",
       "    <tr>\n",
       "      <th>4</th>\n",
       "      <td>Book_1carpetcleaning.co.uk_September2020_CTA.j...</td>\n",
       "      <td>7</td>\n",
       "      <td>Person/name</td>\n",
       "    </tr>\n",
       "  </tbody>\n",
       "</table>\n",
       "</div>"
      ],
      "text/plain": [
       "                                          table_name  column_index  \\\n",
       "0            Book_11x17.pt_September2020_CTA.json.gz             3   \n",
       "1           Book_12min.com_September2020_CTA.json.gz             0   \n",
       "2           Book_12min.com_September2020_CTA.json.gz             2   \n",
       "3  Book_1carpetcleaning.co.uk_September2020_CTA.j...             0   \n",
       "4  Book_1carpetcleaning.co.uk_September2020_CTA.j...             7   \n",
       "\n",
       "          label  \n",
       "0          Date  \n",
       "1     Book/name  \n",
       "2      Language  \n",
       "3  Organization  \n",
       "4   Person/name  "
      ]
     },
     "execution_count": 6,
     "metadata": {},
     "output_type": "execute_result"
    }
   ],
   "source": [
    "print('Training dataset')\n",
    "df_train.head()"
   ]
  },
  {
   "cell_type": "code",
   "execution_count": 7,
   "id": "78e10a29",
   "metadata": {},
   "outputs": [
    {
     "name": "stdout",
     "output_type": "stream",
     "text": [
      "Validaiton dataset\n"
     ]
    },
    {
     "data": {
      "text/html": [
       "<div>\n",
       "<style scoped>\n",
       "    .dataframe tbody tr th:only-of-type {\n",
       "        vertical-align: middle;\n",
       "    }\n",
       "\n",
       "    .dataframe tbody tr th {\n",
       "        vertical-align: top;\n",
       "    }\n",
       "\n",
       "    .dataframe thead th {\n",
       "        text-align: right;\n",
       "    }\n",
       "</style>\n",
       "<table border=\"1\" class=\"dataframe\">\n",
       "  <thead>\n",
       "    <tr style=\"text-align: right;\">\n",
       "      <th></th>\n",
       "      <th>table_name</th>\n",
       "      <th>column_index</th>\n",
       "      <th>label</th>\n",
       "    </tr>\n",
       "  </thead>\n",
       "  <tbody>\n",
       "    <tr>\n",
       "      <th>0</th>\n",
       "      <td>CreativeWork_1stpreschurchionia.com_September2...</td>\n",
       "      <td>0</td>\n",
       "      <td>CreativeWork/name</td>\n",
       "    </tr>\n",
       "    <tr>\n",
       "      <th>1</th>\n",
       "      <td>CreativeWork_1stpreschurchionia.com_September2...</td>\n",
       "      <td>1</td>\n",
       "      <td>CreativeWork</td>\n",
       "    </tr>\n",
       "    <tr>\n",
       "      <th>2</th>\n",
       "      <td>CreativeWork_1stpreschurchionia.com_September2...</td>\n",
       "      <td>2</td>\n",
       "      <td>Person/name</td>\n",
       "    </tr>\n",
       "    <tr>\n",
       "      <th>3</th>\n",
       "      <td>CreativeWork_221plus.ie_September2020_CTA.json.gz</td>\n",
       "      <td>2</td>\n",
       "      <td>DateTime</td>\n",
       "    </tr>\n",
       "    <tr>\n",
       "      <th>4</th>\n",
       "      <td>CreativeWork_221plus.ie_September2020_CTA.json.gz</td>\n",
       "      <td>3</td>\n",
       "      <td>DateTime</td>\n",
       "    </tr>\n",
       "  </tbody>\n",
       "</table>\n",
       "</div>"
      ],
      "text/plain": [
       "                                          table_name  column_index  \\\n",
       "0  CreativeWork_1stpreschurchionia.com_September2...             0   \n",
       "1  CreativeWork_1stpreschurchionia.com_September2...             1   \n",
       "2  CreativeWork_1stpreschurchionia.com_September2...             2   \n",
       "3  CreativeWork_221plus.ie_September2020_CTA.json.gz             2   \n",
       "4  CreativeWork_221plus.ie_September2020_CTA.json.gz             3   \n",
       "\n",
       "               label  \n",
       "0  CreativeWork/name  \n",
       "1       CreativeWork  \n",
       "2        Person/name  \n",
       "3           DateTime  \n",
       "4           DateTime  "
      ]
     },
     "execution_count": 7,
     "metadata": {},
     "output_type": "execute_result"
    }
   ],
   "source": [
    "print('Validaiton dataset')\n",
    "df_validate.head()"
   ]
  },
  {
   "cell_type": "code",
   "execution_count": 8,
   "id": "5272e91c",
   "metadata": {},
   "outputs": [
    {
     "name": "stdout",
     "output_type": "stream",
     "text": [
      "Test dataset\n"
     ]
    },
    {
     "data": {
      "text/html": [
       "<div>\n",
       "<style scoped>\n",
       "    .dataframe tbody tr th:only-of-type {\n",
       "        vertical-align: middle;\n",
       "    }\n",
       "\n",
       "    .dataframe tbody tr th {\n",
       "        vertical-align: top;\n",
       "    }\n",
       "\n",
       "    .dataframe thead th {\n",
       "        text-align: right;\n",
       "    }\n",
       "</style>\n",
       "<table border=\"1\" class=\"dataframe\">\n",
       "  <thead>\n",
       "    <tr style=\"text-align: right;\">\n",
       "      <th></th>\n",
       "      <th>table_name</th>\n",
       "      <th>column_index</th>\n",
       "    </tr>\n",
       "  </thead>\n",
       "  <tbody>\n",
       "    <tr>\n",
       "      <th>0</th>\n",
       "      <td>CreativeWork_2agenten.com_September2020_CTA.js...</td>\n",
       "      <td>1</td>\n",
       "    </tr>\n",
       "    <tr>\n",
       "      <th>1</th>\n",
       "      <td>CreativeWork_biliranisland.com_September2020_C...</td>\n",
       "      <td>3</td>\n",
       "    </tr>\n",
       "    <tr>\n",
       "      <th>2</th>\n",
       "      <td>CreativeWork_biliranisland.com_September2020_C...</td>\n",
       "      <td>4</td>\n",
       "    </tr>\n",
       "    <tr>\n",
       "      <th>3</th>\n",
       "      <td>CreativeWork_biodiversitylibrary.org_September...</td>\n",
       "      <td>2</td>\n",
       "    </tr>\n",
       "    <tr>\n",
       "      <th>4</th>\n",
       "      <td>CreativeWork_bloominggreenflowers.co.uk_Septem...</td>\n",
       "      <td>3</td>\n",
       "    </tr>\n",
       "  </tbody>\n",
       "</table>\n",
       "</div>"
      ],
      "text/plain": [
       "                                          table_name  column_index\n",
       "0  CreativeWork_2agenten.com_September2020_CTA.js...             1\n",
       "1  CreativeWork_biliranisland.com_September2020_C...             3\n",
       "2  CreativeWork_biliranisland.com_September2020_C...             4\n",
       "3  CreativeWork_biodiversitylibrary.org_September...             2\n",
       "4  CreativeWork_bloominggreenflowers.co.uk_Septem...             3"
      ]
     },
     "execution_count": 8,
     "metadata": {},
     "output_type": "execute_result"
    }
   ],
   "source": [
    "print('Test dataset')\n",
    "df_test.head()"
   ]
  },
  {
   "cell_type": "markdown",
   "id": "ac5d4d95",
   "metadata": {},
   "source": [
    "### Functional Data Analysis (FDA) on Train dataset"
   ]
  },
  {
   "cell_type": "code",
   "execution_count": 9,
   "id": "5116db31",
   "metadata": {},
   "outputs": [
    {
     "data": {
      "text/html": [
       "<div>\n",
       "<style scoped>\n",
       "    .dataframe tbody tr th:only-of-type {\n",
       "        vertical-align: middle;\n",
       "    }\n",
       "\n",
       "    .dataframe tbody tr th {\n",
       "        vertical-align: top;\n",
       "    }\n",
       "\n",
       "    .dataframe thead th {\n",
       "        text-align: right;\n",
       "    }\n",
       "</style>\n",
       "<table border=\"1\" class=\"dataframe\">\n",
       "  <thead>\n",
       "    <tr style=\"text-align: right;\">\n",
       "      <th></th>\n",
       "      <th>table_name</th>\n",
       "      <th>column_index</th>\n",
       "      <th>label</th>\n",
       "    </tr>\n",
       "  </thead>\n",
       "  <tbody>\n",
       "    <tr>\n",
       "      <th>0</th>\n",
       "      <td>Book_11x17.pt_September2020_CTA.json.gz</td>\n",
       "      <td>3</td>\n",
       "      <td>Date</td>\n",
       "    </tr>\n",
       "    <tr>\n",
       "      <th>1</th>\n",
       "      <td>Book_12min.com_September2020_CTA.json.gz</td>\n",
       "      <td>0</td>\n",
       "      <td>Book/name</td>\n",
       "    </tr>\n",
       "    <tr>\n",
       "      <th>2</th>\n",
       "      <td>Book_12min.com_September2020_CTA.json.gz</td>\n",
       "      <td>2</td>\n",
       "      <td>Language</td>\n",
       "    </tr>\n",
       "    <tr>\n",
       "      <th>3</th>\n",
       "      <td>Book_1carpetcleaning.co.uk_September2020_CTA.j...</td>\n",
       "      <td>0</td>\n",
       "      <td>Organization</td>\n",
       "    </tr>\n",
       "    <tr>\n",
       "      <th>4</th>\n",
       "      <td>Book_1carpetcleaning.co.uk_September2020_CTA.j...</td>\n",
       "      <td>7</td>\n",
       "      <td>Person/name</td>\n",
       "    </tr>\n",
       "  </tbody>\n",
       "</table>\n",
       "</div>"
      ],
      "text/plain": [
       "                                          table_name  column_index  \\\n",
       "0            Book_11x17.pt_September2020_CTA.json.gz             3   \n",
       "1           Book_12min.com_September2020_CTA.json.gz             0   \n",
       "2           Book_12min.com_September2020_CTA.json.gz             2   \n",
       "3  Book_1carpetcleaning.co.uk_September2020_CTA.j...             0   \n",
       "4  Book_1carpetcleaning.co.uk_September2020_CTA.j...             7   \n",
       "\n",
       "          label  \n",
       "0          Date  \n",
       "1     Book/name  \n",
       "2      Language  \n",
       "3  Organization  \n",
       "4   Person/name  "
      ]
     },
     "execution_count": 9,
     "metadata": {},
     "output_type": "execute_result"
    }
   ],
   "source": [
    "# Look at the head of the train dataset\n",
    "df_train.head()"
   ]
  },
  {
   "cell_type": "code",
   "execution_count": 10,
   "id": "03de122e",
   "metadata": {},
   "outputs": [
    {
     "data": {
      "text/plain": [
       "<pandas.core.groupby.generic.DataFrameGroupBy object at 0x0000020D836426A0>"
      ]
     },
     "execution_count": 10,
     "metadata": {},
     "output_type": "execute_result"
    }
   ],
   "source": [
    "# Create a sample with labels which occures atleast 2 or 3 times\n",
    "\n",
    "# Make a groupby with the specific column --> here it is label\n",
    "grouped = df_train.groupby('label')\n",
    "grouped"
   ]
  },
  {
   "cell_type": "code",
   "execution_count": 11,
   "id": "4bc50120",
   "metadata": {},
   "outputs": [],
   "source": [
    "# Capturing specific raws which can be processed on the machine\n",
    "\n",
    "# df_train_5 = df_train[:1000]\n",
    "df_train_5 = grouped.apply(lambda x: x.sample(n=15))\n",
    "df_train_5 = df_train_5.reset_index(drop=True)"
   ]
  },
  {
   "cell_type": "code",
   "execution_count": 12,
   "id": "d83c0b7d",
   "metadata": {},
   "outputs": [
    {
     "data": {
      "text/html": [
       "<div>\n",
       "<style scoped>\n",
       "    .dataframe tbody tr th:only-of-type {\n",
       "        vertical-align: middle;\n",
       "    }\n",
       "\n",
       "    .dataframe tbody tr th {\n",
       "        vertical-align: top;\n",
       "    }\n",
       "\n",
       "    .dataframe thead th {\n",
       "        text-align: right;\n",
       "    }\n",
       "</style>\n",
       "<table border=\"1\" class=\"dataframe\">\n",
       "  <thead>\n",
       "    <tr style=\"text-align: right;\">\n",
       "      <th></th>\n",
       "      <th>table_name</th>\n",
       "      <th>column_index</th>\n",
       "      <th>label</th>\n",
       "    </tr>\n",
       "  </thead>\n",
       "  <tbody>\n",
       "    <tr>\n",
       "      <th>0</th>\n",
       "      <td>Book_hytrol.com_September2020_CTA.json.gz</td>\n",
       "      <td>1</td>\n",
       "      <td>Book/description</td>\n",
       "    </tr>\n",
       "    <tr>\n",
       "      <th>1</th>\n",
       "      <td>Book_krakencollectivebooks.com_September2020_C...</td>\n",
       "      <td>1</td>\n",
       "      <td>Book/description</td>\n",
       "    </tr>\n",
       "    <tr>\n",
       "      <th>2</th>\n",
       "      <td>Book_shilka.uk_September2020_CTA.json.gz</td>\n",
       "      <td>1</td>\n",
       "      <td>Book/description</td>\n",
       "    </tr>\n",
       "    <tr>\n",
       "      <th>3</th>\n",
       "      <td>Book_mulhollandbooks.com_September2020_CTA.jso...</td>\n",
       "      <td>1</td>\n",
       "      <td>Book/description</td>\n",
       "    </tr>\n",
       "    <tr>\n",
       "      <th>4</th>\n",
       "      <td>Book_kamaladevi.com_September2020_CTA.json.gz</td>\n",
       "      <td>0</td>\n",
       "      <td>Book/description</td>\n",
       "    </tr>\n",
       "    <tr>\n",
       "      <th>...</th>\n",
       "      <td>...</td>\n",
       "      <td>...</td>\n",
       "      <td>...</td>\n",
       "    </tr>\n",
       "    <tr>\n",
       "      <th>1195</th>\n",
       "      <td>JobPosting_crtcare.co.uk_September2020_CTA.jso...</td>\n",
       "      <td>4</td>\n",
       "      <td>workHours</td>\n",
       "    </tr>\n",
       "    <tr>\n",
       "      <th>1196</th>\n",
       "      <td>JobPosting_sweetjobspnw.com_September2020_CTA....</td>\n",
       "      <td>5</td>\n",
       "      <td>workHours</td>\n",
       "    </tr>\n",
       "    <tr>\n",
       "      <th>1197</th>\n",
       "      <td>JobPosting_wholefoodsmarket.com_September2020_...</td>\n",
       "      <td>5</td>\n",
       "      <td>workHours</td>\n",
       "    </tr>\n",
       "    <tr>\n",
       "      <th>1198</th>\n",
       "      <td>JobPosting_abbvie.com_September2020_CTA.json.gz</td>\n",
       "      <td>9</td>\n",
       "      <td>workHours</td>\n",
       "    </tr>\n",
       "    <tr>\n",
       "      <th>1199</th>\n",
       "      <td>JobPosting_akronchildrens.org_September2020_CT...</td>\n",
       "      <td>5</td>\n",
       "      <td>workHours</td>\n",
       "    </tr>\n",
       "  </tbody>\n",
       "</table>\n",
       "<p>1200 rows × 3 columns</p>\n",
       "</div>"
      ],
      "text/plain": [
       "                                             table_name  column_index  \\\n",
       "0             Book_hytrol.com_September2020_CTA.json.gz             1   \n",
       "1     Book_krakencollectivebooks.com_September2020_C...             1   \n",
       "2              Book_shilka.uk_September2020_CTA.json.gz             1   \n",
       "3     Book_mulhollandbooks.com_September2020_CTA.jso...             1   \n",
       "4         Book_kamaladevi.com_September2020_CTA.json.gz             0   \n",
       "...                                                 ...           ...   \n",
       "1195  JobPosting_crtcare.co.uk_September2020_CTA.jso...             4   \n",
       "1196  JobPosting_sweetjobspnw.com_September2020_CTA....             5   \n",
       "1197  JobPosting_wholefoodsmarket.com_September2020_...             5   \n",
       "1198    JobPosting_abbvie.com_September2020_CTA.json.gz             9   \n",
       "1199  JobPosting_akronchildrens.org_September2020_CT...             5   \n",
       "\n",
       "                 label  \n",
       "0     Book/description  \n",
       "1     Book/description  \n",
       "2     Book/description  \n",
       "3     Book/description  \n",
       "4     Book/description  \n",
       "...                ...  \n",
       "1195         workHours  \n",
       "1196         workHours  \n",
       "1197         workHours  \n",
       "1198         workHours  \n",
       "1199         workHours  \n",
       "\n",
       "[1200 rows x 3 columns]"
      ]
     },
     "execution_count": 12,
     "metadata": {},
     "output_type": "execute_result"
    }
   ],
   "source": [
    "df_train_5"
   ]
  },
  {
   "cell_type": "code",
   "execution_count": 13,
   "id": "42b2cf7a",
   "metadata": {},
   "outputs": [
    {
     "name": "stdout",
     "output_type": "stream",
     "text": [
      "Index(['table_name', 'column_index', 'label'], dtype='object')\n"
     ]
    }
   ],
   "source": [
    "print(df_train_5.columns)"
   ]
  },
  {
   "cell_type": "code",
   "execution_count": 14,
   "id": "230aa3c3",
   "metadata": {},
   "outputs": [
    {
     "name": "stdout",
     "output_type": "stream",
     "text": [
      "Total number of samples in dataset are: 346686\n",
      "Total number of unique tables present in training dataset: 43825\n",
      "Total number of unique labels present in training dataset: 80\n"
     ]
    }
   ],
   "source": [
    "print(f\"Total number of samples in dataset are: {df_train.size}\")\n",
    "print(f\"Total number of unique tables present in training dataset: {df_train['table_name'].nunique()}\")\n",
    "print(f\"Total number of unique labels present in training dataset: {df_train['label'].nunique()}\")\n",
    "\n",
    "# print(f'Highest number of column idex is: {df_train[\"column_index\"].max}')"
   ]
  },
  {
   "cell_type": "code",
   "execution_count": 15,
   "id": "1deb7814",
   "metadata": {},
   "outputs": [],
   "source": [
    "# Maximum number of column_index a table can have\n",
    "maximum_no_of_column_by_table = df_train.groupby('table_name')['column_index'].max() + 1"
   ]
  },
  {
   "cell_type": "code",
   "execution_count": 16,
   "id": "375e371c",
   "metadata": {},
   "outputs": [],
   "source": [
    "maximum_no_of_column_by_table_to_df = maximum_no_of_column_by_table.reset_index()"
   ]
  },
  {
   "cell_type": "code",
   "execution_count": 17,
   "id": "5fc094c1",
   "metadata": {},
   "outputs": [
    {
     "data": {
      "text/html": [
       "<div>\n",
       "<style scoped>\n",
       "    .dataframe tbody tr th:only-of-type {\n",
       "        vertical-align: middle;\n",
       "    }\n",
       "\n",
       "    .dataframe tbody tr th {\n",
       "        vertical-align: top;\n",
       "    }\n",
       "\n",
       "    .dataframe thead th {\n",
       "        text-align: right;\n",
       "    }\n",
       "</style>\n",
       "<table border=\"1\" class=\"dataframe\">\n",
       "  <thead>\n",
       "    <tr style=\"text-align: right;\">\n",
       "      <th></th>\n",
       "      <th>table_name</th>\n",
       "      <th>column_index</th>\n",
       "    </tr>\n",
       "  </thead>\n",
       "  <tbody>\n",
       "    <tr>\n",
       "      <th>0</th>\n",
       "      <td>Book_11x17.pt_September2020_CTA.json.gz</td>\n",
       "      <td>4</td>\n",
       "    </tr>\n",
       "    <tr>\n",
       "      <th>1</th>\n",
       "      <td>Book_12min.com_September2020_CTA.json.gz</td>\n",
       "      <td>3</td>\n",
       "    </tr>\n",
       "    <tr>\n",
       "      <th>2</th>\n",
       "      <td>Book_1carpetcleaning.co.uk_September2020_CTA.j...</td>\n",
       "      <td>8</td>\n",
       "    </tr>\n",
       "    <tr>\n",
       "      <th>3</th>\n",
       "      <td>Book_247creative.de_September2020_CTA.json.gz</td>\n",
       "      <td>7</td>\n",
       "    </tr>\n",
       "    <tr>\n",
       "      <th>4</th>\n",
       "      <td>Book_24symbols.com_September2020_CTA.json.gz</td>\n",
       "      <td>5</td>\n",
       "    </tr>\n",
       "  </tbody>\n",
       "</table>\n",
       "</div>"
      ],
      "text/plain": [
       "                                          table_name  column_index\n",
       "0            Book_11x17.pt_September2020_CTA.json.gz             4\n",
       "1           Book_12min.com_September2020_CTA.json.gz             3\n",
       "2  Book_1carpetcleaning.co.uk_September2020_CTA.j...             8\n",
       "3      Book_247creative.de_September2020_CTA.json.gz             7\n",
       "4       Book_24symbols.com_September2020_CTA.json.gz             5"
      ]
     },
     "execution_count": 17,
     "metadata": {},
     "output_type": "execute_result"
    }
   ],
   "source": [
    "maximum_no_of_column_by_table_to_df.head()"
   ]
  },
  {
   "cell_type": "code",
   "execution_count": 18,
   "id": "0cfae287",
   "metadata": {},
   "outputs": [],
   "source": [
    "value_counts = maximum_no_of_column_by_table_to_df['column_index'].value_counts().sort_index()"
   ]
  },
  {
   "cell_type": "code",
   "execution_count": 19,
   "id": "707294e1",
   "metadata": {},
   "outputs": [
    {
     "data": {
      "image/png": "[encoded data removed]",
      "text/plain": [
       "<Figure size 1000x600 with 1 Axes>"
      ]
     },
     "metadata": {},
     "output_type": "display_data"
    }
   ],
   "source": [
    "# setting a figure size\n",
    "plt.figure(figsize=(10, 6))\n",
    "\n",
    "# plotting the bar chart\n",
    "ax = value_counts.plot(kind='bar', width=0.8)\n",
    "\n",
    "# settting the labels and title\n",
    "plt.xlabel('Total number of coulumns')\n",
    "plt.ylabel('Number of tables')\n",
    "plt.title('Number of columns, tables have')\n",
    "\n",
    "# Add count values on top of each bar\n",
    "for i, v in enumerate(value_counts):\n",
    "    ax.text(i, v, str(v), ha='center', va='bottom', rotation=45, fontsize=8)\n",
    "\n",
    "# displaying the chart\n",
    "plt.show()\n",
    "\n",
    "# # Print the value counts\n",
    "# print(\"Value Counts:\")\n",
    "# print(value_counts)"
   ]
  },
  {
   "cell_type": "code",
   "execution_count": 21,
   "id": "d9d8daa0",
   "metadata": {},
   "outputs": [
    {
     "name": "stdout",
     "output_type": "stream",
     "text": [
      "Data type of column header: object\n"
     ]
    }
   ],
   "source": [
    "# Access the column header and check its data type\n",
    "column_header = df_train_5.columns[0]\n",
    "data_type = df_train_5[column_header].dtype\n",
    "\n",
    "print(\"Data type of column header:\", data_type)"
   ]
  },
  {
   "cell_type": "markdown",
   "id": "1c117018",
   "metadata": {},
   "source": [
    "#### Preparing the file dataset using which we can train a model \n",
    "* Henceforth it would be having two major column 1. data_value and 2. label "
   ]
  },
  {
   "cell_type": "code",
   "execution_count": 22,
   "id": "1e3d63a6",
   "metadata": {},
   "outputs": [],
   "source": [
    "# Path to the folder where the tables are stored\n",
    "folder_path = 'dataset/Round2-SOTAB-CTA-Tables/'\n",
    "\n",
    "# A column 'data_value' will work as a input dataset to our model\n",
    "df_train_5['data_value'] = None\n",
    "\n",
    "# Iterate over each row in the dataframe\n",
    "for index, row in df_train_5.iterrows():\n",
    "    table_name = row['table_name']\n",
    "    column_name = row['column_index']\n",
    "    \n",
    "    # Check if the table file exists in the folder\n",
    "    table_file_path = os.path.join(folder_path, table_name)  # Assuming the tables are stored as CSV files\n",
    "    \n",
    "    if os.path.isfile(table_file_path):\n",
    "        # Load the table file into a dataframe\n",
    "        table_df = pd.read_json(table_file_path, lines=True, compression='gzip')\n",
    "        \n",
    "        # Check if the column exists in the table dataframe\n",
    "        if column_name in table_df.columns:\n",
    "            # Fetch the column data\n",
    "            column_data = table_df[column_name]\n",
    "            \n",
    "            # Assign the column data to the 'data_value' column in the original dataframe\n",
    "            df_train_5.at[index, 'data_value'] = column_data.tolist()\n",
    "            \n",
    "            # Do something with the column data\n",
    "            # For example, print the first 5 values\n",
    "#             print(f\"Table: {table_name}, Column: {column_name}\")\n",
    "#             print(column_data.head())\n",
    "#             print()\n",
    "        else:\n",
    "            print(f\"Column '{column_name}' does not exist in table '{table_name}'.\")\n",
    "    else:\n",
    "        print(f\"Table '{table_name}' does not exist in the folder.\")\n",
    "\n"
   ]
  },
  {
   "cell_type": "code",
   "execution_count": 23,
   "id": "f1c53d14",
   "metadata": {},
   "outputs": [
    {
     "data": {
      "text/html": [
       "<div>\n",
       "<style scoped>\n",
       "    .dataframe tbody tr th:only-of-type {\n",
       "        vertical-align: middle;\n",
       "    }\n",
       "\n",
       "    .dataframe tbody tr th {\n",
       "        vertical-align: top;\n",
       "    }\n",
       "\n",
       "    .dataframe thead th {\n",
       "        text-align: right;\n",
       "    }\n",
       "</style>\n",
       "<table border=\"1\" class=\"dataframe\">\n",
       "  <thead>\n",
       "    <tr style=\"text-align: right;\">\n",
       "      <th></th>\n",
       "      <th>table_name</th>\n",
       "      <th>column_index</th>\n",
       "      <th>label</th>\n",
       "      <th>data_value</th>\n",
       "    </tr>\n",
       "  </thead>\n",
       "  <tbody>\n",
       "    <tr>\n",
       "      <th>0</th>\n",
       "      <td>Book_hytrol.com_September2020_CTA.json.gz</td>\n",
       "      <td>1</td>\n",
       "      <td>Book/description</td>\n",
       "      <td>[A compilation of Hytrol products, including r...</td>\n",
       "    </tr>\n",
       "    <tr>\n",
       "      <th>1</th>\n",
       "      <td>Book_krakencollectivebooks.com_September2020_C...</td>\n",
       "      <td>1</td>\n",
       "      <td>Book/description</td>\n",
       "      <td>[Stake Sauce is a serial novel from author RoA...</td>\n",
       "    </tr>\n",
       "    <tr>\n",
       "      <th>2</th>\n",
       "      <td>Book_shilka.uk_September2020_CTA.json.gz</td>\n",
       "      <td>1</td>\n",
       "      <td>Book/description</td>\n",
       "      <td>[This compendium edition brings together the c...</td>\n",
       "    </tr>\n",
       "    <tr>\n",
       "      <th>3</th>\n",
       "      <td>Book_mulhollandbooks.com_September2020_CTA.jso...</td>\n",
       "      <td>1</td>\n",
       "      <td>Book/description</td>\n",
       "      <td>[A woman returns home to find a stranger livin...</td>\n",
       "    </tr>\n",
       "    <tr>\n",
       "      <th>4</th>\n",
       "      <td>Book_kamaladevi.com_September2020_CTA.json.gz</td>\n",
       "      <td>0</td>\n",
       "      <td>Book/description</td>\n",
       "      <td>[KamalaDevi's Sacred Slut Sutras are a collect...</td>\n",
       "    </tr>\n",
       "    <tr>\n",
       "      <th>...</th>\n",
       "      <td>...</td>\n",
       "      <td>...</td>\n",
       "      <td>...</td>\n",
       "      <td>...</td>\n",
       "    </tr>\n",
       "    <tr>\n",
       "      <th>1195</th>\n",
       "      <td>JobPosting_crtcare.co.uk_September2020_CTA.jso...</td>\n",
       "      <td>4</td>\n",
       "      <td>workHours</td>\n",
       "      <td>[Flexible hours available, Flexible hours avai...</td>\n",
       "    </tr>\n",
       "    <tr>\n",
       "      <th>1196</th>\n",
       "      <td>JobPosting_sweetjobspnw.com_September2020_CTA....</td>\n",
       "      <td>5</td>\n",
       "      <td>workHours</td>\n",
       "      <td>[schedule which may include nights, weekends a...</td>\n",
       "    </tr>\n",
       "    <tr>\n",
       "      <th>1197</th>\n",
       "      <td>JobPosting_wholefoodsmarket.com_September2020_...</td>\n",
       "      <td>5</td>\n",
       "      <td>workHours</td>\n",
       "      <td>[40 hours per week, 40 hours per week, 40 hour...</td>\n",
       "    </tr>\n",
       "    <tr>\n",
       "      <th>1198</th>\n",
       "      <td>JobPosting_abbvie.com_September2020_CTA.json.gz</td>\n",
       "      <td>9</td>\n",
       "      <td>workHours</td>\n",
       "      <td>[UNAVAILABLE, UNAVAILABLE, UNAVAILABLE, UNAVAI...</td>\n",
       "    </tr>\n",
       "    <tr>\n",
       "      <th>1199</th>\n",
       "      <td>JobPosting_akronchildrens.org_September2020_CT...</td>\n",
       "      <td>5</td>\n",
       "      <td>workHours</td>\n",
       "      <td>[UNAVAILABLE, UNAVAILABLE, UNAVAILABLE, UNAVAI...</td>\n",
       "    </tr>\n",
       "  </tbody>\n",
       "</table>\n",
       "<p>1200 rows × 4 columns</p>\n",
       "</div>"
      ],
      "text/plain": [
       "                                             table_name  column_index  \\\n",
       "0             Book_hytrol.com_September2020_CTA.json.gz             1   \n",
       "1     Book_krakencollectivebooks.com_September2020_C...             1   \n",
       "2              Book_shilka.uk_September2020_CTA.json.gz             1   \n",
       "3     Book_mulhollandbooks.com_September2020_CTA.jso...             1   \n",
       "4         Book_kamaladevi.com_September2020_CTA.json.gz             0   \n",
       "...                                                 ...           ...   \n",
       "1195  JobPosting_crtcare.co.uk_September2020_CTA.jso...             4   \n",
       "1196  JobPosting_sweetjobspnw.com_September2020_CTA....             5   \n",
       "1197  JobPosting_wholefoodsmarket.com_September2020_...             5   \n",
       "1198    JobPosting_abbvie.com_September2020_CTA.json.gz             9   \n",
       "1199  JobPosting_akronchildrens.org_September2020_CT...             5   \n",
       "\n",
       "                 label                                         data_value  \n",
       "0     Book/description  [A compilation of Hytrol products, including r...  \n",
       "1     Book/description  [Stake Sauce is a serial novel from author RoA...  \n",
       "2     Book/description  [This compendium edition brings together the c...  \n",
       "3     Book/description  [A woman returns home to find a stranger livin...  \n",
       "4     Book/description  [KamalaDevi's Sacred Slut Sutras are a collect...  \n",
       "...                ...                                                ...  \n",
       "1195         workHours  [Flexible hours available, Flexible hours avai...  \n",
       "1196         workHours  [schedule which may include nights, weekends a...  \n",
       "1197         workHours  [40 hours per week, 40 hours per week, 40 hour...  \n",
       "1198         workHours  [UNAVAILABLE, UNAVAILABLE, UNAVAILABLE, UNAVAI...  \n",
       "1199         workHours  [UNAVAILABLE, UNAVAILABLE, UNAVAILABLE, UNAVAI...  \n",
       "\n",
       "[1200 rows x 4 columns]"
      ]
     },
     "execution_count": 23,
     "metadata": {},
     "output_type": "execute_result"
    }
   ],
   "source": [
    "df_train_5"
   ]
  },
  {
   "cell_type": "code",
   "execution_count": 24,
   "id": "32e31e76",
   "metadata": {},
   "outputs": [
    {
     "data": {
      "text/html": [
       "<div>\n",
       "<style scoped>\n",
       "    .dataframe tbody tr th:only-of-type {\n",
       "        vertical-align: middle;\n",
       "    }\n",
       "\n",
       "    .dataframe tbody tr th {\n",
       "        vertical-align: top;\n",
       "    }\n",
       "\n",
       "    .dataframe thead th {\n",
       "        text-align: right;\n",
       "    }\n",
       "</style>\n",
       "<table border=\"1\" class=\"dataframe\">\n",
       "  <thead>\n",
       "    <tr style=\"text-align: right;\">\n",
       "      <th></th>\n",
       "      <th>label</th>\n",
       "      <th>data_value</th>\n",
       "    </tr>\n",
       "  </thead>\n",
       "  <tbody>\n",
       "    <tr>\n",
       "      <th>0</th>\n",
       "      <td>Book/description</td>\n",
       "      <td>[A compilation of Hytrol products, including r...</td>\n",
       "    </tr>\n",
       "    <tr>\n",
       "      <th>1</th>\n",
       "      <td>Book/description</td>\n",
       "      <td>[Stake Sauce is a serial novel from author RoA...</td>\n",
       "    </tr>\n",
       "    <tr>\n",
       "      <th>2</th>\n",
       "      <td>Book/description</td>\n",
       "      <td>[This compendium edition brings together the c...</td>\n",
       "    </tr>\n",
       "    <tr>\n",
       "      <th>3</th>\n",
       "      <td>Book/description</td>\n",
       "      <td>[A woman returns home to find a stranger livin...</td>\n",
       "    </tr>\n",
       "    <tr>\n",
       "      <th>4</th>\n",
       "      <td>Book/description</td>\n",
       "      <td>[KamalaDevi's Sacred Slut Sutras are a collect...</td>\n",
       "    </tr>\n",
       "    <tr>\n",
       "      <th>...</th>\n",
       "      <td>...</td>\n",
       "      <td>...</td>\n",
       "    </tr>\n",
       "    <tr>\n",
       "      <th>1195</th>\n",
       "      <td>workHours</td>\n",
       "      <td>[Flexible hours available, Flexible hours avai...</td>\n",
       "    </tr>\n",
       "    <tr>\n",
       "      <th>1196</th>\n",
       "      <td>workHours</td>\n",
       "      <td>[schedule which may include nights, weekends a...</td>\n",
       "    </tr>\n",
       "    <tr>\n",
       "      <th>1197</th>\n",
       "      <td>workHours</td>\n",
       "      <td>[40 hours per week, 40 hours per week, 40 hour...</td>\n",
       "    </tr>\n",
       "    <tr>\n",
       "      <th>1198</th>\n",
       "      <td>workHours</td>\n",
       "      <td>[UNAVAILABLE, UNAVAILABLE, UNAVAILABLE, UNAVAI...</td>\n",
       "    </tr>\n",
       "    <tr>\n",
       "      <th>1199</th>\n",
       "      <td>workHours</td>\n",
       "      <td>[UNAVAILABLE, UNAVAILABLE, UNAVAILABLE, UNAVAI...</td>\n",
       "    </tr>\n",
       "  </tbody>\n",
       "</table>\n",
       "<p>1200 rows × 2 columns</p>\n",
       "</div>"
      ],
      "text/plain": [
       "                 label                                         data_value\n",
       "0     Book/description  [A compilation of Hytrol products, including r...\n",
       "1     Book/description  [Stake Sauce is a serial novel from author RoA...\n",
       "2     Book/description  [This compendium edition brings together the c...\n",
       "3     Book/description  [A woman returns home to find a stranger livin...\n",
       "4     Book/description  [KamalaDevi's Sacred Slut Sutras are a collect...\n",
       "...                ...                                                ...\n",
       "1195         workHours  [Flexible hours available, Flexible hours avai...\n",
       "1196         workHours  [schedule which may include nights, weekends a...\n",
       "1197         workHours  [40 hours per week, 40 hours per week, 40 hour...\n",
       "1198         workHours  [UNAVAILABLE, UNAVAILABLE, UNAVAILABLE, UNAVAI...\n",
       "1199         workHours  [UNAVAILABLE, UNAVAILABLE, UNAVAILABLE, UNAVAI...\n",
       "\n",
       "[1200 rows x 2 columns]"
      ]
     },
     "execution_count": 24,
     "metadata": {},
     "output_type": "execute_result"
    }
   ],
   "source": [
    "df_train_5_ml = df_train_5[['label','data_value']]\n",
    "df_train_5_ml"
   ]
  },
  {
   "cell_type": "code",
   "execution_count": null,
   "id": "51abdd52",
   "metadata": {},
   "outputs": [],
   "source": []
  },
  {
   "cell_type": "code",
   "execution_count": null,
   "id": "89f00825",
   "metadata": {},
   "outputs": [],
   "source": []
  },
  {
   "cell_type": "code",
   "execution_count": null,
   "id": "d6aa1d0e",
   "metadata": {},
   "outputs": [],
   "source": []
  },
  {
   "cell_type": "code",
   "execution_count": null,
   "id": "dea7a589",
   "metadata": {},
   "outputs": [],
   "source": []
  },
  {
   "cell_type": "code",
   "execution_count": null,
   "id": "cc9a5814",
   "metadata": {},
   "outputs": [],
   "source": []
  },
  {
   "cell_type": "code",
   "execution_count": null,
   "id": "0b892893",
   "metadata": {},
   "outputs": [],
   "source": []
  },
  {
   "cell_type": "code",
   "execution_count": null,
   "id": "b41487fe",
   "metadata": {},
   "outputs": [],
   "source": []
  },
  {
   "cell_type": "code",
   "execution_count": null,
   "id": "67655626",
   "metadata": {},
   "outputs": [],
   "source": []
  },
  {
   "cell_type": "code",
   "execution_count": null,
   "id": "fc23cb0b",
   "metadata": {},
   "outputs": [],
   "source": []
  },
  {
   "cell_type": "code",
   "execution_count": null,
   "id": "e763305b",
   "metadata": {},
   "outputs": [],
   "source": []
  },
  {
   "cell_type": "markdown",
   "id": "c324c963",
   "metadata": {},
   "source": [
    "## Do some ML "
   ]
  },
  {
   "cell_type": "code",
   "execution_count": 26,
   "id": "b89b958c",
   "metadata": {},
   "outputs": [],
   "source": [
    "from sklearn.model_selection import train_test_split\n",
    "from sklearn.feature_extraction.text import CountVectorizer\n",
    "from sklearn.linear_model import LogisticRegression\n",
    "from sklearn.metrics import precision_score, recall_score, f1_score, classification_report"
   ]
  },
  {
   "cell_type": "code",
   "execution_count": 27,
   "id": "334dbb90",
   "metadata": {},
   "outputs": [],
   "source": [
    "new_df = df_train_5_ml.explode('data_value', ignore_index=True).apply(pd.Series.explode)"
   ]
  },
  {
   "cell_type": "code",
   "execution_count": 28,
   "id": "1bf5cc69",
   "metadata": {},
   "outputs": [
    {
     "data": {
      "text/plain": [
       "80"
      ]
     },
     "execution_count": 28,
     "metadata": {},
     "output_type": "execute_result"
    }
   ],
   "source": [
    "new_df['label'].nunique()"
   ]
  },
  {
   "cell_type": "code",
   "execution_count": 29,
   "id": "17d67b12",
   "metadata": {},
   "outputs": [
    {
     "name": "stdout",
     "output_type": "stream",
     "text": [
      "['Book/description' 'Book/name' 'BookFormatType' 'Boolean' 'Brand'\n",
      " 'CategoryCode' 'CoordinateAT' 'Country' 'CreativeWork'\n",
      " 'CreativeWork/name' 'CreativeWorkSeries' 'Date' 'DateTime' 'DayOfWeek'\n",
      " 'Distance' 'Duration' 'EducationalOccupationalCredential' 'Energy'\n",
      " 'Event/description' 'Event/name' 'EventAttendanceModeEnumeration'\n",
      " 'EventStatusType' 'GenderType' 'Hotel/description' 'Hotel/name'\n",
      " 'IdentifierAT' 'ItemAvailability' 'ItemList' 'JobPosting/description'\n",
      " 'JobPosting/name' 'Language' 'LocalBusiness/name'\n",
      " 'LocationFeatureSpecification' 'Mass' 'MonetaryAmount'\n",
      " 'Movie/description' 'Movie/name' 'Museum/name' 'MusicAlbum/name'\n",
      " 'MusicArtistAT' 'MusicRecording/name' 'Number'\n",
      " 'OccupationalExperienceRequirements' 'OfferItemCondition' 'Organization'\n",
      " 'Person/name' 'Photograph' 'Place/name' 'PostalAddress'\n",
      " 'Product/description' 'Product/name' 'ProductModel' 'QuantitativeValue'\n",
      " 'Rating' 'Recipe/description' 'Recipe/name' 'Restaurant/name'\n",
      " 'RestrictedDiet' 'Review' 'SportsEvent/name' 'SportsTeam'\n",
      " 'TVEpisode/name' 'Time' 'URL' 'addressLocality' 'addressRegion'\n",
      " 'category' 'currency' 'email' 'openingHours' 'paymentAccepted'\n",
      " 'postalCode' 'price' 'priceRange' 'streetAddress' 'telephone' 'unitCode'\n",
      " 'unitText' 'weight' 'workHours']\n"
     ]
    }
   ],
   "source": [
    "unique_labels = new_df['label'].unique()\n",
    "print(unique_labels)"
   ]
  },
  {
   "cell_type": "code",
   "execution_count": 30,
   "id": "f73334c8",
   "metadata": {},
   "outputs": [],
   "source": [
    "# Split the data into training and testing sets\n",
    "X_train, X_test, y_train, y_test = train_test_split(new_df['data_value'], new_df['label'], test_size=0.2, stratify=new_df['label'], random_state=42)"
   ]
  },
  {
   "cell_type": "code",
   "execution_count": 31,
   "id": "049f0ed2",
   "metadata": {},
   "outputs": [
    {
     "name": "stdout",
     "output_type": "stream",
     "text": [
      "(337632,)\n"
     ]
    }
   ],
   "source": [
    "print(y_train.shape)"
   ]
  },
  {
   "cell_type": "raw",
   "id": "16e03cf4",
   "metadata": {},
   "source": [
    "y_train"
   ]
  },
  {
   "cell_type": "code",
   "execution_count": 32,
   "id": "df94fe34",
   "metadata": {},
   "outputs": [],
   "source": [
    "# Convert X_train and X_test to lists of strings\n",
    "X_train = [str(x) for x in X_train]\n",
    "X_test = [str(x) for x in X_test]\n",
    "\n",
    "# Create an instance of CountVectorizer\n",
    "vectorizer = CountVectorizer()\n",
    "\n",
    "# Fit the vectorizer on the training data and transform the training and testing data\n",
    "X_train_vec = vectorizer.fit_transform(X_train)\n",
    "X_test_vec = vectorizer.transform(X_test)"
   ]
  },
  {
   "cell_type": "code",
   "execution_count": 33,
   "id": "30b90c89",
   "metadata": {},
   "outputs": [
    {
     "name": "stderr",
     "output_type": "stream",
     "text": [
      "C:\\Users\\Administrator\\anaconda3\\lib\\site-packages\\sklearn\\linear_model\\_logistic.py:814: ConvergenceWarning: lbfgs failed to converge (status=1):\n",
      "STOP: TOTAL NO. of ITERATIONS REACHED LIMIT.\n",
      "\n",
      "Increase the number of iterations (max_iter) or scale the data as shown in:\n",
      "    https://scikit-learn.org/stable/modules/preprocessing.html\n",
      "Please also refer to the documentation for alternative solver options:\n",
      "    https://scikit-learn.org/stable/modules/linear_model.html#logistic-regression\n",
      "  n_iter_i = _check_optimize_result(\n"
     ]
    },
    {
     "data": {
      "text/plain": [
       "LogisticRegression()"
      ]
     },
     "execution_count": 33,
     "metadata": {},
     "output_type": "execute_result"
    }
   ],
   "source": [
    "# Create an instance of the Logistic Regression model\n",
    "model = LogisticRegression()\n",
    "\n",
    "# Train the model\n",
    "model.fit(X_train_vec, y_train)"
   ]
  },
  {
   "cell_type": "code",
   "execution_count": 34,
   "id": "b5db9224",
   "metadata": {},
   "outputs": [
    {
     "name": "stdout",
     "output_type": "stream",
     "text": [
      "Accuracy: 0.8523599658800114\n"
     ]
    }
   ],
   "source": [
    "# Evaluate the model\n",
    "accuracy = model.score(X_test_vec, y_test)\n",
    "print(f\"Accuracy: {accuracy}\")"
   ]
  },
  {
   "cell_type": "code",
   "execution_count": 35,
   "id": "23893604",
   "metadata": {},
   "outputs": [],
   "source": [
    "# Make predictions on the test data\n",
    "y_pred = model.predict(X_test_vec)"
   ]
  },
  {
   "cell_type": "code",
   "execution_count": null,
   "id": "3f3b3bdd",
   "metadata": {},
   "outputs": [],
   "source": []
  },
  {
   "cell_type": "code",
   "execution_count": 36,
   "id": "78ba8495",
   "metadata": {},
   "outputs": [
    {
     "name": "stdout",
     "output_type": "stream",
     "text": [
      "Precision: 0.8947857518322643\n",
      "Recall: 0.735091011940905\n",
      "F1 score: 0.7795637919922864\n"
     ]
    }
   ],
   "source": [
    "# Calculate precision, recall, and F1 score\n",
    "precision_macro = precision_score(y_test, y_pred, average='macro')\n",
    "recall_macro = recall_score(y_test, y_pred, average='macro')\n",
    "f1_macro = f1_score(y_test, y_pred, average='macro')\n",
    "\n",
    "print(f\"Precision: {precision_macro}\")\n",
    "print(f\"Recall: {recall_macro}\")\n",
    "print(f\"F1 score: {f1_macro}\")"
   ]
  },
  {
   "cell_type": "code",
   "execution_count": 37,
   "id": "cd6daf86",
   "metadata": {},
   "outputs": [
    {
     "name": "stdout",
     "output_type": "stream",
     "text": [
      "                                    precision    recall  f1-score   support\n",
      "\n",
      "                  Book/description       0.90      0.85      0.87       233\n",
      "                         Book/name       0.86      0.57      0.69       852\n",
      "                    BookFormatType       0.99      0.98      0.99       684\n",
      "                           Boolean       0.91      0.51      0.65       244\n",
      "                             Brand       0.90      0.64      0.75       896\n",
      "                      CategoryCode       0.98      0.98      0.98      1828\n",
      "                      CoordinateAT       0.66      0.70      0.68       385\n",
      "                           Country       0.95      0.92      0.93       616\n",
      "                      CreativeWork       1.00      0.00      0.01       334\n",
      "                 CreativeWork/name       0.91      0.77      0.83       722\n",
      "                CreativeWorkSeries       0.86      0.79      0.82      1584\n",
      "                              Date       0.81      0.79      0.80       106\n",
      "                          DateTime       1.00      0.97      0.99       151\n",
      "                         DayOfWeek       1.00      0.97      0.99      2661\n",
      "                          Distance       0.99      0.91      0.95       576\n",
      "                          Duration       0.81      0.65      0.73       620\n",
      " EducationalOccupationalCredential       0.89      0.81      0.85       415\n",
      "                            Energy       0.42      0.91      0.58      2987\n",
      "                 Event/description       1.00      0.84      0.91       124\n",
      "                        Event/name       0.98      0.54      0.70       118\n",
      "    EventAttendanceModeEnumeration       0.99      1.00      0.99        93\n",
      "                   EventStatusType       1.00      0.99      0.99       175\n",
      "                        GenderType       1.00      0.95      0.97      1542\n",
      "                 Hotel/description       0.98      0.89      0.93       183\n",
      "                        Hotel/name       0.91      0.89      0.90      4258\n",
      "                      IdentifierAT       0.97      0.32      0.48       450\n",
      "                  ItemAvailability       1.00      0.96      0.98       293\n",
      "                          ItemList       0.97      0.94      0.95      1000\n",
      "            JobPosting/description       0.99      0.99      0.99       370\n",
      "                   JobPosting/name       0.94      0.84      0.89       380\n",
      "                          Language       0.98      0.74      0.85      1086\n",
      "                LocalBusiness/name       0.93      0.56      0.70       266\n",
      "      LocationFeatureSpecification       0.98      0.94      0.96     16386\n",
      "                              Mass       0.59      0.10      0.17       285\n",
      "                    MonetaryAmount       0.79      0.74      0.77       609\n",
      "                 Movie/description       0.93      0.89      0.91       976\n",
      "                        Movie/name       0.54      0.40      0.46      1832\n",
      "                       Museum/name       0.90      0.63      0.74       157\n",
      "                   MusicAlbum/name       1.00      0.53      0.69        57\n",
      "                     MusicArtistAT       1.00      0.80      0.89        56\n",
      "               MusicRecording/name       1.00      0.08      0.14        66\n",
      "                            Number       0.66      0.48      0.56       558\n",
      "OccupationalExperienceRequirements       0.94      0.95      0.95       824\n",
      "                OfferItemCondition       0.98      0.96      0.97      1180\n",
      "                      Organization       0.95      0.70      0.81       172\n",
      "                       Person/name       0.91      0.60      0.73       197\n",
      "                        Photograph       1.00      0.88      0.94       192\n",
      "                        Place/name       0.96      0.78      0.86       421\n",
      "                     PostalAddress       0.97      0.95      0.96       905\n",
      "               Product/description       1.00      0.87      0.93       129\n",
      "                      Product/name       0.98      0.86      0.92       425\n",
      "                      ProductModel       0.87      0.56      0.68       982\n",
      "                 QuantitativeValue       0.61      0.28      0.38       269\n",
      "                            Rating       0.23      0.98      0.37       957\n",
      "                Recipe/description       0.85      0.61      0.71       160\n",
      "                       Recipe/name       0.89      0.83      0.86       329\n",
      "                   Restaurant/name       0.90      0.48      0.63       258\n",
      "                    RestrictedDiet       0.99      0.85      0.92       518\n",
      "                            Review       0.94      0.85      0.89       896\n",
      "                  SportsEvent/name       0.96      0.86      0.91       531\n",
      "                        SportsTeam       0.96      0.95      0.96      4613\n",
      "                    TVEpisode/name       0.73      0.81      0.77      5803\n",
      "                              Time       0.82      0.51      0.62       296\n",
      "                               URL       1.00      0.93      0.96       585\n",
      "                   addressLocality       0.93      0.84      0.88       170\n",
      "                     addressRegion       0.84      0.63      0.72       202\n",
      "                          category       0.96      0.76      0.85       414\n",
      "                          currency       1.00      0.89      0.94       452\n",
      "                             email       0.97      0.72      0.82        92\n",
      "                      openingHours       0.99      0.92      0.95      1278\n",
      "                   paymentAccepted       1.00      1.00      1.00      9585\n",
      "                        postalCode       1.00      0.28      0.44       465\n",
      "                             price       0.61      0.53      0.57       746\n",
      "                        priceRange       0.97      0.27      0.42       631\n",
      "                     streetAddress       0.83      0.59      0.69       138\n",
      "                         telephone       0.87      0.62      0.72       112\n",
      "                          unitCode       0.74      0.97      0.84       540\n",
      "                          unitText       0.74      0.52      0.61       379\n",
      "                            weight       0.85      0.50      0.63       446\n",
      "                         workHours       0.97      0.96      0.96       902\n",
      "\n",
      "                          accuracy                           0.85     84408\n",
      "                         macro avg       0.89      0.74      0.78     84408\n",
      "                      weighted avg       0.90      0.85      0.86     84408\n",
      "\n"
     ]
    }
   ],
   "source": [
    "report = classification_report(y_test, y_pred)\n",
    "print(report)"
   ]
  },
  {
   "cell_type": "code",
   "execution_count": null,
   "id": "92506850",
   "metadata": {},
   "outputs": [],
   "source": []
  },
  {
   "cell_type": "code",
   "execution_count": null,
   "id": "bfc3d4a9",
   "metadata": {},
   "outputs": [],
   "source": []
  },
  {
   "cell_type": "code",
   "execution_count": null,
   "id": "a10ab812",
   "metadata": {},
   "outputs": [],
   "source": []
  },
  {
   "cell_type": "code",
   "execution_count": null,
   "id": "583390da",
   "metadata": {},
   "outputs": [],
   "source": []
  },
  {
   "cell_type": "code",
   "execution_count": null,
   "id": "668ae0f7",
   "metadata": {},
   "outputs": [],
   "source": []
  },
  {
   "cell_type": "code",
   "execution_count": null,
   "id": "f52e9929",
   "metadata": {},
   "outputs": [],
   "source": []
  },
  {
   "cell_type": "code",
   "execution_count": null,
   "id": "9cd9d094",
   "metadata": {},
   "outputs": [],
   "source": []
  },
  {
   "cell_type": "markdown",
   "id": "17cf2af1",
   "metadata": {},
   "source": [
    "### Preparing the submission files for the competition"
   ]
  },
  {
   "cell_type": "code",
   "execution_count": 82,
   "id": "f2d1c5eb",
   "metadata": {},
   "outputs": [],
   "source": [
    "df_test_4 = df_test[:]"
   ]
  },
  {
   "cell_type": "code",
   "execution_count": 83,
   "id": "3565bbd3",
   "metadata": {},
   "outputs": [
    {
     "data": {
      "text/html": [
       "<div>\n",
       "<style scoped>\n",
       "    .dataframe tbody tr th:only-of-type {\n",
       "        vertical-align: middle;\n",
       "    }\n",
       "\n",
       "    .dataframe tbody tr th {\n",
       "        vertical-align: top;\n",
       "    }\n",
       "\n",
       "    .dataframe thead th {\n",
       "        text-align: right;\n",
       "    }\n",
       "</style>\n",
       "<table border=\"1\" class=\"dataframe\">\n",
       "  <thead>\n",
       "    <tr style=\"text-align: right;\">\n",
       "      <th></th>\n",
       "      <th>table_name</th>\n",
       "      <th>column_index</th>\n",
       "    </tr>\n",
       "  </thead>\n",
       "  <tbody>\n",
       "    <tr>\n",
       "      <th>0</th>\n",
       "      <td>CreativeWork_2agenten.com_September2020_CTA.js...</td>\n",
       "      <td>1</td>\n",
       "    </tr>\n",
       "    <tr>\n",
       "      <th>1</th>\n",
       "      <td>CreativeWork_biliranisland.com_September2020_C...</td>\n",
       "      <td>3</td>\n",
       "    </tr>\n",
       "    <tr>\n",
       "      <th>2</th>\n",
       "      <td>CreativeWork_biliranisland.com_September2020_C...</td>\n",
       "      <td>4</td>\n",
       "    </tr>\n",
       "    <tr>\n",
       "      <th>3</th>\n",
       "      <td>CreativeWork_biodiversitylibrary.org_September...</td>\n",
       "      <td>2</td>\n",
       "    </tr>\n",
       "    <tr>\n",
       "      <th>4</th>\n",
       "      <td>CreativeWork_bloominggreenflowers.co.uk_Septem...</td>\n",
       "      <td>3</td>\n",
       "    </tr>\n",
       "    <tr>\n",
       "      <th>...</th>\n",
       "      <td>...</td>\n",
       "      <td>...</td>\n",
       "    </tr>\n",
       "    <tr>\n",
       "      <th>1107</th>\n",
       "      <td>Product_badcattoys.com_September2020_CTA.json.gz</td>\n",
       "      <td>26</td>\n",
       "    </tr>\n",
       "    <tr>\n",
       "      <th>1108</th>\n",
       "      <td>Product_badcattoys.com_September2020_CTA.json.gz</td>\n",
       "      <td>27</td>\n",
       "    </tr>\n",
       "    <tr>\n",
       "      <th>1109</th>\n",
       "      <td>Product_badcattoys.com_September2020_CTA.json.gz</td>\n",
       "      <td>5</td>\n",
       "    </tr>\n",
       "    <tr>\n",
       "      <th>1110</th>\n",
       "      <td>SportsEvent_cuescore.com_September2020_CTA.jso...</td>\n",
       "      <td>1</td>\n",
       "    </tr>\n",
       "    <tr>\n",
       "      <th>1111</th>\n",
       "      <td>SportsEvent_cuescore.com_September2020_CTA.jso...</td>\n",
       "      <td>3</td>\n",
       "    </tr>\n",
       "  </tbody>\n",
       "</table>\n",
       "<p>1112 rows × 2 columns</p>\n",
       "</div>"
      ],
      "text/plain": [
       "                                             table_name  column_index\n",
       "0     CreativeWork_2agenten.com_September2020_CTA.js...             1\n",
       "1     CreativeWork_biliranisland.com_September2020_C...             3\n",
       "2     CreativeWork_biliranisland.com_September2020_C...             4\n",
       "3     CreativeWork_biodiversitylibrary.org_September...             2\n",
       "4     CreativeWork_bloominggreenflowers.co.uk_Septem...             3\n",
       "...                                                 ...           ...\n",
       "1107   Product_badcattoys.com_September2020_CTA.json.gz            26\n",
       "1108   Product_badcattoys.com_September2020_CTA.json.gz            27\n",
       "1109   Product_badcattoys.com_September2020_CTA.json.gz             5\n",
       "1110  SportsEvent_cuescore.com_September2020_CTA.jso...             1\n",
       "1111  SportsEvent_cuescore.com_September2020_CTA.jso...             3\n",
       "\n",
       "[1112 rows x 2 columns]"
      ]
     },
     "execution_count": 83,
     "metadata": {},
     "output_type": "execute_result"
    }
   ],
   "source": [
    "df_test_4 "
   ]
  },
  {
   "cell_type": "code",
   "execution_count": null,
   "id": "e3bc5141",
   "metadata": {},
   "outputs": [],
   "source": []
  },
  {
   "cell_type": "code",
   "execution_count": 84,
   "id": "c9502531",
   "metadata": {},
   "outputs": [
    {
     "name": "stderr",
     "output_type": "stream",
     "text": [
      "C:\\Users\\Administrator\\AppData\\Local\\Temp\\ipykernel_21224\\1498760386.py:4: SettingWithCopyWarning: \n",
      "A value is trying to be set on a copy of a slice from a DataFrame.\n",
      "Try using .loc[row_indexer,col_indexer] = value instead\n",
      "\n",
      "See the caveats in the documentation: https://pandas.pydata.org/pandas-docs/stable/user_guide/indexing.html#returning-a-view-versus-a-copy\n",
      "  df_test_4['data_value'] = None\n"
     ]
    }
   ],
   "source": [
    "# Path to the folder where the tables are stored\n",
    "folder_path = 'dataset/Round2-SOTAB-CTA-Tables/'\n",
    "# A column 'data_value' will work as a input dataset to our model\n",
    "df_test_4['data_value'] = None\n",
    "\n",
    "# Iterate over each row in the dataframe\n",
    "for index, row in df_test_4.iterrows():\n",
    "    table_name = row['table_name']\n",
    "    column_name = row['column_index']\n",
    "    \n",
    "    # Check if the table file exists in the folder\n",
    "    table_file_path = os.path.join(folder_path, table_name)  # Assuming the tables are stored as CSV files\n",
    "    \n",
    "    if os.path.isfile(table_file_path):\n",
    "        # Load the table file into a dataframe\n",
    "        table_df = pd.read_json(table_file_path, lines=True, compression='gzip')\n",
    "        \n",
    "        # Check if the column exists in the table dataframe\n",
    "        if column_name in table_df.columns:\n",
    "            # Fetch the column data\n",
    "            column_data = table_df[column_name]\n",
    "            \n",
    "            # Assign the column data to the 'data_value' column in the original dataframe\n",
    "            df_test_4.at[index, 'data_value'] = column_data.tolist()\n",
    "            \n",
    "            # Do something with the column data\n",
    "            # For example, print the first 5 values\n",
    "#             print(f\"Table: {table_name}, Column: {column_name}\")\n",
    "#             print(column_data.head())\n",
    "#             print()\n",
    "        else:\n",
    "            print(f\"Column '{column_name}' does not exist in table '{table_name}'.\")\n",
    "    else:\n",
    "        print(f\"Table '{table_name}' does not exist in the folder.\")"
   ]
  },
  {
   "cell_type": "code",
   "execution_count": 86,
   "id": "9191372a",
   "metadata": {},
   "outputs": [
    {
     "name": "stdout",
     "output_type": "stream",
     "text": [
      "CreativeWork_2agenten.com_September2020_CTA.json.gz\n"
     ]
    },
    {
     "data": {
      "text/html": [
       "<div>\n",
       "<style scoped>\n",
       "    .dataframe tbody tr th:only-of-type {\n",
       "        vertical-align: middle;\n",
       "    }\n",
       "\n",
       "    .dataframe tbody tr th {\n",
       "        vertical-align: top;\n",
       "    }\n",
       "\n",
       "    .dataframe thead th {\n",
       "        text-align: right;\n",
       "    }\n",
       "</style>\n",
       "<table border=\"1\" class=\"dataframe\">\n",
       "  <thead>\n",
       "    <tr style=\"text-align: right;\">\n",
       "      <th></th>\n",
       "      <th>table_name</th>\n",
       "      <th>column_index</th>\n",
       "      <th>data_value</th>\n",
       "    </tr>\n",
       "  </thead>\n",
       "  <tbody>\n",
       "    <tr>\n",
       "      <th>0</th>\n",
       "      <td>CreativeWork_2agenten.com_September2020_CTA.js...</td>\n",
       "      <td>1</td>\n",
       "      <td>[[JACOBIN MAGAZINE, PANDA EXPRESS RESTAURANTS,...</td>\n",
       "    </tr>\n",
       "    <tr>\n",
       "      <th>1</th>\n",
       "      <td>CreativeWork_biliranisland.com_September2020_C...</td>\n",
       "      <td>3</td>\n",
       "      <td>[None, Caibiran Jingle, 2ND MAYOR GERARD ROGER...</td>\n",
       "    </tr>\n",
       "    <tr>\n",
       "      <th>2</th>\n",
       "      <td>CreativeWork_biliranisland.com_September2020_C...</td>\n",
       "      <td>4</td>\n",
       "      <td>[None, Jalmz, Jalmz, Jalmz, None, Jalmz, Jalmz...</td>\n",
       "    </tr>\n",
       "    <tr>\n",
       "      <th>3</th>\n",
       "      <td>CreativeWork_biodiversitylibrary.org_September...</td>\n",
       "      <td>2</td>\n",
       "      <td>[English, English, English, None, English, Eng...</td>\n",
       "    </tr>\n",
       "    <tr>\n",
       "      <th>4</th>\n",
       "      <td>CreativeWork_bloominggreenflowers.co.uk_Septem...</td>\n",
       "      <td>3</td>\n",
       "      <td>[None, None, None, None, The Shed, The Shed, N...</td>\n",
       "    </tr>\n",
       "    <tr>\n",
       "      <th>...</th>\n",
       "      <td>...</td>\n",
       "      <td>...</td>\n",
       "      <td>...</td>\n",
       "    </tr>\n",
       "    <tr>\n",
       "      <th>1107</th>\n",
       "      <td>Product_badcattoys.com_September2020_CTA.json.gz</td>\n",
       "      <td>26</td>\n",
       "      <td>[2.5, 23.6, 3.0, 34.0, 3.9, nan, 6.25, 8.27, 6...</td>\n",
       "    </tr>\n",
       "    <tr>\n",
       "      <th>1108</th>\n",
       "      <td>Product_badcattoys.com_September2020_CTA.json.gz</td>\n",
       "      <td>27</td>\n",
       "      <td>[INH, INH, INH, INH, INH, None, INH, INH, INH,...</td>\n",
       "    </tr>\n",
       "    <tr>\n",
       "      <th>1109</th>\n",
       "      <td>Product_badcattoys.com_September2020_CTA.json.gz</td>\n",
       "      <td>5</td>\n",
       "      <td>[192959807547, UPCT60H, OMEGAHPL250, Folding D...</td>\n",
       "    </tr>\n",
       "    <tr>\n",
       "      <th>1110</th>\n",
       "      <td>SportsEvent_cuescore.com_September2020_CTA.jso...</td>\n",
       "      <td>1</td>\n",
       "      <td>[Rack N Roll In-House Handicap 9 Ball Series 2...</td>\n",
       "    </tr>\n",
       "    <tr>\n",
       "      <th>1111</th>\n",
       "      <td>SportsEvent_cuescore.com_September2020_CTA.jso...</td>\n",
       "      <td>3</td>\n",
       "      <td>[OfflineEventAttendanceMode, OfflineEventAtten...</td>\n",
       "    </tr>\n",
       "  </tbody>\n",
       "</table>\n",
       "<p>1112 rows × 3 columns</p>\n",
       "</div>"
      ],
      "text/plain": [
       "                                             table_name  column_index  \\\n",
       "0     CreativeWork_2agenten.com_September2020_CTA.js...             1   \n",
       "1     CreativeWork_biliranisland.com_September2020_C...             3   \n",
       "2     CreativeWork_biliranisland.com_September2020_C...             4   \n",
       "3     CreativeWork_biodiversitylibrary.org_September...             2   \n",
       "4     CreativeWork_bloominggreenflowers.co.uk_Septem...             3   \n",
       "...                                                 ...           ...   \n",
       "1107   Product_badcattoys.com_September2020_CTA.json.gz            26   \n",
       "1108   Product_badcattoys.com_September2020_CTA.json.gz            27   \n",
       "1109   Product_badcattoys.com_September2020_CTA.json.gz             5   \n",
       "1110  SportsEvent_cuescore.com_September2020_CTA.jso...             1   \n",
       "1111  SportsEvent_cuescore.com_September2020_CTA.jso...             3   \n",
       "\n",
       "                                             data_value  \n",
       "0     [[JACOBIN MAGAZINE, PANDA EXPRESS RESTAURANTS,...  \n",
       "1     [None, Caibiran Jingle, 2ND MAYOR GERARD ROGER...  \n",
       "2     [None, Jalmz, Jalmz, Jalmz, None, Jalmz, Jalmz...  \n",
       "3     [English, English, English, None, English, Eng...  \n",
       "4     [None, None, None, None, The Shed, The Shed, N...  \n",
       "...                                                 ...  \n",
       "1107  [2.5, 23.6, 3.0, 34.0, 3.9, nan, 6.25, 8.27, 6...  \n",
       "1108  [INH, INH, INH, INH, INH, None, INH, INH, INH,...  \n",
       "1109  [192959807547, UPCT60H, OMEGAHPL250, Folding D...  \n",
       "1110  [Rack N Roll In-House Handicap 9 Ball Series 2...  \n",
       "1111  [OfflineEventAttendanceMode, OfflineEventAtten...  \n",
       "\n",
       "[1112 rows x 3 columns]"
      ]
     },
     "execution_count": 86,
     "metadata": {},
     "output_type": "execute_result"
    }
   ],
   "source": [
    "print(df_test_4.iloc[0,0])\n",
    "df_test_4"
   ]
  },
  {
   "cell_type": "code",
   "execution_count": 87,
   "id": "5ce89f3f",
   "metadata": {},
   "outputs": [],
   "source": [
    "# # Read a sample file and sources residing in it : File name and data residing in it. \n",
    "# file_path_gz = 'dataset/Round2-SOTAB-CTA-Tables/CreativeWork_2agenten.com_September2020_CTA.json.gz'  # Replace with the actual file path of your JSON file\n",
    "# df = pd.read_json(file_path_gz, lines=True, compression='gzip')"
   ]
  },
  {
   "cell_type": "code",
   "execution_count": 88,
   "id": "0cbf5cf7",
   "metadata": {},
   "outputs": [],
   "source": [
    "df_test_4 = df_test_4.explode('data_value')"
   ]
  },
  {
   "cell_type": "code",
   "execution_count": 89,
   "id": "35741a7e",
   "metadata": {},
   "outputs": [
    {
     "data": {
      "text/html": [
       "<div>\n",
       "<style scoped>\n",
       "    .dataframe tbody tr th:only-of-type {\n",
       "        vertical-align: middle;\n",
       "    }\n",
       "\n",
       "    .dataframe tbody tr th {\n",
       "        vertical-align: top;\n",
       "    }\n",
       "\n",
       "    .dataframe thead th {\n",
       "        text-align: right;\n",
       "    }\n",
       "</style>\n",
       "<table border=\"1\" class=\"dataframe\">\n",
       "  <thead>\n",
       "    <tr style=\"text-align: right;\">\n",
       "      <th></th>\n",
       "      <th>table_name</th>\n",
       "      <th>column_index</th>\n",
       "      <th>data_value</th>\n",
       "    </tr>\n",
       "  </thead>\n",
       "  <tbody>\n",
       "    <tr>\n",
       "      <th>0</th>\n",
       "      <td>CreativeWork_2agenten.com_September2020_CTA.js...</td>\n",
       "      <td>1</td>\n",
       "      <td>[JACOBIN MAGAZINE, PANDA EXPRESS RESTAURANTS, ...</td>\n",
       "    </tr>\n",
       "    <tr>\n",
       "      <th>0</th>\n",
       "      <td>CreativeWork_2agenten.com_September2020_CTA.js...</td>\n",
       "      <td>1</td>\n",
       "      <td>[HANDSOME FRANK, AIRBNB MAGAZINE, DE BUITENKAN...</td>\n",
       "    </tr>\n",
       "    <tr>\n",
       "      <th>0</th>\n",
       "      <td>CreativeWork_2agenten.com_September2020_CTA.js...</td>\n",
       "      <td>1</td>\n",
       "      <td>[DEVK, BAHN, WAGEN EINS MAGAZINE, LIBERAL MAGA...</td>\n",
       "    </tr>\n",
       "    <tr>\n",
       "      <th>0</th>\n",
       "      <td>CreativeWork_2agenten.com_September2020_CTA.js...</td>\n",
       "      <td>1</td>\n",
       "      <td>[DEVIANNE, ROOSTER, BIG TOOL, SKINBIOTIC, HIGH...</td>\n",
       "    </tr>\n",
       "    <tr>\n",
       "      <th>0</th>\n",
       "      <td>CreativeWork_2agenten.com_September2020_CTA.js...</td>\n",
       "      <td>1</td>\n",
       "      <td>[PERSONAL WORK, ABSOLUT VODKA, ACNE, BONAFYDE,...</td>\n",
       "    </tr>\n",
       "    <tr>\n",
       "      <th>...</th>\n",
       "      <td>...</td>\n",
       "      <td>...</td>\n",
       "      <td>...</td>\n",
       "    </tr>\n",
       "    <tr>\n",
       "      <th>1111</th>\n",
       "      <td>SportsEvent_cuescore.com_September2020_CTA.jso...</td>\n",
       "      <td>3</td>\n",
       "      <td>OfflineEventAttendanceMode</td>\n",
       "    </tr>\n",
       "    <tr>\n",
       "      <th>1111</th>\n",
       "      <td>SportsEvent_cuescore.com_September2020_CTA.jso...</td>\n",
       "      <td>3</td>\n",
       "      <td>OfflineEventAttendanceMode</td>\n",
       "    </tr>\n",
       "    <tr>\n",
       "      <th>1111</th>\n",
       "      <td>SportsEvent_cuescore.com_September2020_CTA.jso...</td>\n",
       "      <td>3</td>\n",
       "      <td>OfflineEventAttendanceMode</td>\n",
       "    </tr>\n",
       "    <tr>\n",
       "      <th>1111</th>\n",
       "      <td>SportsEvent_cuescore.com_September2020_CTA.jso...</td>\n",
       "      <td>3</td>\n",
       "      <td>OfflineEventAttendanceMode</td>\n",
       "    </tr>\n",
       "    <tr>\n",
       "      <th>1111</th>\n",
       "      <td>SportsEvent_cuescore.com_September2020_CTA.jso...</td>\n",
       "      <td>3</td>\n",
       "      <td>OfflineEventAttendanceMode</td>\n",
       "    </tr>\n",
       "  </tbody>\n",
       "</table>\n",
       "<p>408117 rows × 3 columns</p>\n",
       "</div>"
      ],
      "text/plain": [
       "                                             table_name  column_index  \\\n",
       "0     CreativeWork_2agenten.com_September2020_CTA.js...             1   \n",
       "0     CreativeWork_2agenten.com_September2020_CTA.js...             1   \n",
       "0     CreativeWork_2agenten.com_September2020_CTA.js...             1   \n",
       "0     CreativeWork_2agenten.com_September2020_CTA.js...             1   \n",
       "0     CreativeWork_2agenten.com_September2020_CTA.js...             1   \n",
       "...                                                 ...           ...   \n",
       "1111  SportsEvent_cuescore.com_September2020_CTA.jso...             3   \n",
       "1111  SportsEvent_cuescore.com_September2020_CTA.jso...             3   \n",
       "1111  SportsEvent_cuescore.com_September2020_CTA.jso...             3   \n",
       "1111  SportsEvent_cuescore.com_September2020_CTA.jso...             3   \n",
       "1111  SportsEvent_cuescore.com_September2020_CTA.jso...             3   \n",
       "\n",
       "                                             data_value  \n",
       "0     [JACOBIN MAGAZINE, PANDA EXPRESS RESTAURANTS, ...  \n",
       "0     [HANDSOME FRANK, AIRBNB MAGAZINE, DE BUITENKAN...  \n",
       "0     [DEVK, BAHN, WAGEN EINS MAGAZINE, LIBERAL MAGA...  \n",
       "0     [DEVIANNE, ROOSTER, BIG TOOL, SKINBIOTIC, HIGH...  \n",
       "0     [PERSONAL WORK, ABSOLUT VODKA, ACNE, BONAFYDE,...  \n",
       "...                                                 ...  \n",
       "1111                         OfflineEventAttendanceMode  \n",
       "1111                         OfflineEventAttendanceMode  \n",
       "1111                         OfflineEventAttendanceMode  \n",
       "1111                         OfflineEventAttendanceMode  \n",
       "1111                         OfflineEventAttendanceMode  \n",
       "\n",
       "[408117 rows x 3 columns]"
      ]
     },
     "execution_count": 89,
     "metadata": {},
     "output_type": "execute_result"
    }
   ],
   "source": [
    "df_test_4"
   ]
  },
  {
   "cell_type": "code",
   "execution_count": 90,
   "id": "1b355d54",
   "metadata": {},
   "outputs": [],
   "source": [
    "df_explosion = df_test_4.explode('data_value', ignore_index=True).apply(pd.Series.explode)"
   ]
  },
  {
   "cell_type": "code",
   "execution_count": 91,
   "id": "73e69381",
   "metadata": {},
   "outputs": [
    {
     "data": {
      "text/html": [
       "<div>\n",
       "<style scoped>\n",
       "    .dataframe tbody tr th:only-of-type {\n",
       "        vertical-align: middle;\n",
       "    }\n",
       "\n",
       "    .dataframe tbody tr th {\n",
       "        vertical-align: top;\n",
       "    }\n",
       "\n",
       "    .dataframe thead th {\n",
       "        text-align: right;\n",
       "    }\n",
       "</style>\n",
       "<table border=\"1\" class=\"dataframe\">\n",
       "  <thead>\n",
       "    <tr style=\"text-align: right;\">\n",
       "      <th></th>\n",
       "      <th>table_name</th>\n",
       "      <th>column_index</th>\n",
       "      <th>data_value</th>\n",
       "    </tr>\n",
       "  </thead>\n",
       "  <tbody>\n",
       "    <tr>\n",
       "      <th>0</th>\n",
       "      <td>CreativeWork_2agenten.com_September2020_CTA.js...</td>\n",
       "      <td>1</td>\n",
       "      <td>JACOBIN MAGAZINE</td>\n",
       "    </tr>\n",
       "    <tr>\n",
       "      <th>1</th>\n",
       "      <td>CreativeWork_2agenten.com_September2020_CTA.js...</td>\n",
       "      <td>1</td>\n",
       "      <td>PANDA EXPRESS RESTAURANTS</td>\n",
       "    </tr>\n",
       "    <tr>\n",
       "      <th>2</th>\n",
       "      <td>CreativeWork_2agenten.com_September2020_CTA.js...</td>\n",
       "      <td>1</td>\n",
       "      <td>STARBUCKS</td>\n",
       "    </tr>\n",
       "    <tr>\n",
       "      <th>3</th>\n",
       "      <td>CreativeWork_2agenten.com_September2020_CTA.js...</td>\n",
       "      <td>1</td>\n",
       "      <td>CB2 FURNITURE</td>\n",
       "    </tr>\n",
       "    <tr>\n",
       "      <th>4</th>\n",
       "      <td>CreativeWork_2agenten.com_September2020_CTA.js...</td>\n",
       "      <td>1</td>\n",
       "      <td>L'OCCITANE</td>\n",
       "    </tr>\n",
       "    <tr>\n",
       "      <th>...</th>\n",
       "      <td>...</td>\n",
       "      <td>...</td>\n",
       "      <td>...</td>\n",
       "    </tr>\n",
       "    <tr>\n",
       "      <th>652886</th>\n",
       "      <td>SportsEvent_cuescore.com_September2020_CTA.jso...</td>\n",
       "      <td>3</td>\n",
       "      <td>OfflineEventAttendanceMode</td>\n",
       "    </tr>\n",
       "    <tr>\n",
       "      <th>652887</th>\n",
       "      <td>SportsEvent_cuescore.com_September2020_CTA.jso...</td>\n",
       "      <td>3</td>\n",
       "      <td>OfflineEventAttendanceMode</td>\n",
       "    </tr>\n",
       "    <tr>\n",
       "      <th>652888</th>\n",
       "      <td>SportsEvent_cuescore.com_September2020_CTA.jso...</td>\n",
       "      <td>3</td>\n",
       "      <td>OfflineEventAttendanceMode</td>\n",
       "    </tr>\n",
       "    <tr>\n",
       "      <th>652889</th>\n",
       "      <td>SportsEvent_cuescore.com_September2020_CTA.jso...</td>\n",
       "      <td>3</td>\n",
       "      <td>OfflineEventAttendanceMode</td>\n",
       "    </tr>\n",
       "    <tr>\n",
       "      <th>652890</th>\n",
       "      <td>SportsEvent_cuescore.com_September2020_CTA.jso...</td>\n",
       "      <td>3</td>\n",
       "      <td>OfflineEventAttendanceMode</td>\n",
       "    </tr>\n",
       "  </tbody>\n",
       "</table>\n",
       "<p>653007 rows × 3 columns</p>\n",
       "</div>"
      ],
      "text/plain": [
       "                                               table_name  column_index  \\\n",
       "0       CreativeWork_2agenten.com_September2020_CTA.js...             1   \n",
       "1       CreativeWork_2agenten.com_September2020_CTA.js...             1   \n",
       "2       CreativeWork_2agenten.com_September2020_CTA.js...             1   \n",
       "3       CreativeWork_2agenten.com_September2020_CTA.js...             1   \n",
       "4       CreativeWork_2agenten.com_September2020_CTA.js...             1   \n",
       "...                                                   ...           ...   \n",
       "652886  SportsEvent_cuescore.com_September2020_CTA.jso...             3   \n",
       "652887  SportsEvent_cuescore.com_September2020_CTA.jso...             3   \n",
       "652888  SportsEvent_cuescore.com_September2020_CTA.jso...             3   \n",
       "652889  SportsEvent_cuescore.com_September2020_CTA.jso...             3   \n",
       "652890  SportsEvent_cuescore.com_September2020_CTA.jso...             3   \n",
       "\n",
       "                        data_value  \n",
       "0                 JACOBIN MAGAZINE  \n",
       "1        PANDA EXPRESS RESTAURANTS  \n",
       "2                        STARBUCKS  \n",
       "3                    CB2 FURNITURE  \n",
       "4                       L'OCCITANE  \n",
       "...                            ...  \n",
       "652886  OfflineEventAttendanceMode  \n",
       "652887  OfflineEventAttendanceMode  \n",
       "652888  OfflineEventAttendanceMode  \n",
       "652889  OfflineEventAttendanceMode  \n",
       "652890  OfflineEventAttendanceMode  \n",
       "\n",
       "[653007 rows x 3 columns]"
      ]
     },
     "execution_count": 91,
     "metadata": {},
     "output_type": "execute_result"
    }
   ],
   "source": [
    "df_explosion"
   ]
  },
  {
   "cell_type": "code",
   "execution_count": 92,
   "id": "f6d978bf",
   "metadata": {},
   "outputs": [
    {
     "name": "stdout",
     "output_type": "stream",
     "text": [
      "table_name          0\n",
      "column_index        0\n",
      "data_value      65222\n",
      "dtype: int64\n"
     ]
    }
   ],
   "source": [
    "# Count the NaN values in each column\n",
    "nan_count_column = df_explosion.isna().sum()\n",
    "print(nan_count_column)"
   ]
  },
  {
   "cell_type": "code",
   "execution_count": 93,
   "id": "37f4313c",
   "metadata": {},
   "outputs": [
    {
     "name": "stdout",
     "output_type": "stream",
     "text": [
      "<class 'pandas.core.series.Series'>\n",
      "PANDA EXPRESS RESTAURANTS\n"
     ]
    }
   ],
   "source": [
    "X_test_test = df_explosion['data_value']\n",
    "print(type(X_test_test))\n",
    "print(X_test_test[1])"
   ]
  },
  {
   "cell_type": "code",
   "execution_count": 94,
   "id": "3d3a4a13",
   "metadata": {},
   "outputs": [],
   "source": [
    "# Convert X_train and X_test to lists of strings\n",
    "X_test_test = [str(x) for x in X_test_test]\n",
    "\n",
    "\n",
    "# Fit the vectorizer on the training data and transform the training and testing data\n",
    "X_test_test_vec = vectorizer.transform(X_test_test)"
   ]
  },
  {
   "cell_type": "code",
   "execution_count": 95,
   "id": "447a46f3",
   "metadata": {},
   "outputs": [
    {
     "name": "stdout",
     "output_type": "stream",
     "text": [
      "(653007, 81071)\n",
      "(316835, 81071)\n",
      "(1267339, 81071)\n"
     ]
    }
   ],
   "source": [
    "print(X_test_test_vec.shape)\n",
    "print(X_test_vec.shape)\n",
    "print(X_train_vec.shape)"
   ]
  },
  {
   "cell_type": "code",
   "execution_count": 96,
   "id": "80ff3d43",
   "metadata": {},
   "outputs": [],
   "source": [
    "# Make predictions on the test_test data\n",
    "y_pred_test = model.predict(X_test_test_vec)"
   ]
  },
  {
   "cell_type": "code",
   "execution_count": 97,
   "id": "2c36f36c",
   "metadata": {},
   "outputs": [
    {
     "name": "stdout",
     "output_type": "stream",
     "text": [
      "(653007,)\n",
      "<class 'numpy.ndarray'>\n"
     ]
    }
   ],
   "source": [
    "print(y_pred_test.shape)\n",
    "print(type(y_pred_test))"
   ]
  },
  {
   "cell_type": "code",
   "execution_count": 99,
   "id": "1424c992",
   "metadata": {},
   "outputs": [],
   "source": [
    "# Convert the NumPy array to a DataFrame\n",
    "y_pred_test_df = pd.DataFrame({'label': y_pred_test})\n",
    "\n",
    "# Reset the index of df_explosion\n",
    "df_explosion.reset_index(drop=True, inplace=True)\n",
    "\n",
    "# Reset the index of y_pred_test_df\n",
    "y_pred_test_df.reset_index(drop=True, inplace=True)\n",
    "\n",
    "# Concatenate the original DataFrame and the array DataFrame along the column axis\n",
    "PAAV_SCH_R2CTA = pd.concat([df_explosion, y_pred_test_df], axis=1)"
   ]
  },
  {
   "cell_type": "code",
   "execution_count": 100,
   "id": "68cc5d0a",
   "metadata": {},
   "outputs": [
    {
     "data": {
      "text/html": [
       "<div>\n",
       "<style scoped>\n",
       "    .dataframe tbody tr th:only-of-type {\n",
       "        vertical-align: middle;\n",
       "    }\n",
       "\n",
       "    .dataframe tbody tr th {\n",
       "        vertical-align: top;\n",
       "    }\n",
       "\n",
       "    .dataframe thead th {\n",
       "        text-align: right;\n",
       "    }\n",
       "</style>\n",
       "<table border=\"1\" class=\"dataframe\">\n",
       "  <thead>\n",
       "    <tr style=\"text-align: right;\">\n",
       "      <th></th>\n",
       "      <th>table_name</th>\n",
       "      <th>column_index</th>\n",
       "      <th>data_value</th>\n",
       "      <th>label</th>\n",
       "    </tr>\n",
       "  </thead>\n",
       "  <tbody>\n",
       "    <tr>\n",
       "      <th>0</th>\n",
       "      <td>CreativeWork_2agenten.com_September2020_CTA.js...</td>\n",
       "      <td>1</td>\n",
       "      <td>JACOBIN MAGAZINE</td>\n",
       "      <td>LocationFeatureSpecification</td>\n",
       "    </tr>\n",
       "    <tr>\n",
       "      <th>1</th>\n",
       "      <td>CreativeWork_2agenten.com_September2020_CTA.js...</td>\n",
       "      <td>1</td>\n",
       "      <td>PANDA EXPRESS RESTAURANTS</td>\n",
       "      <td>LocationFeatureSpecification</td>\n",
       "    </tr>\n",
       "    <tr>\n",
       "      <th>2</th>\n",
       "      <td>CreativeWork_2agenten.com_September2020_CTA.js...</td>\n",
       "      <td>1</td>\n",
       "      <td>STARBUCKS</td>\n",
       "      <td>LocationFeatureSpecification</td>\n",
       "    </tr>\n",
       "    <tr>\n",
       "      <th>3</th>\n",
       "      <td>CreativeWork_2agenten.com_September2020_CTA.js...</td>\n",
       "      <td>1</td>\n",
       "      <td>CB2 FURNITURE</td>\n",
       "      <td>LocationFeatureSpecification</td>\n",
       "    </tr>\n",
       "    <tr>\n",
       "      <th>4</th>\n",
       "      <td>CreativeWork_2agenten.com_September2020_CTA.js...</td>\n",
       "      <td>1</td>\n",
       "      <td>L'OCCITANE</td>\n",
       "      <td>LocationFeatureSpecification</td>\n",
       "    </tr>\n",
       "    <tr>\n",
       "      <th>...</th>\n",
       "      <td>...</td>\n",
       "      <td>...</td>\n",
       "      <td>...</td>\n",
       "      <td>...</td>\n",
       "    </tr>\n",
       "    <tr>\n",
       "      <th>653002</th>\n",
       "      <td>SportsEvent_cuescore.com_September2020_CTA.jso...</td>\n",
       "      <td>3</td>\n",
       "      <td>OfflineEventAttendanceMode</td>\n",
       "      <td>EventAttendanceModeEnumeration</td>\n",
       "    </tr>\n",
       "    <tr>\n",
       "      <th>653003</th>\n",
       "      <td>SportsEvent_cuescore.com_September2020_CTA.jso...</td>\n",
       "      <td>3</td>\n",
       "      <td>OfflineEventAttendanceMode</td>\n",
       "      <td>EventAttendanceModeEnumeration</td>\n",
       "    </tr>\n",
       "    <tr>\n",
       "      <th>653004</th>\n",
       "      <td>SportsEvent_cuescore.com_September2020_CTA.jso...</td>\n",
       "      <td>3</td>\n",
       "      <td>OfflineEventAttendanceMode</td>\n",
       "      <td>EventAttendanceModeEnumeration</td>\n",
       "    </tr>\n",
       "    <tr>\n",
       "      <th>653005</th>\n",
       "      <td>SportsEvent_cuescore.com_September2020_CTA.jso...</td>\n",
       "      <td>3</td>\n",
       "      <td>OfflineEventAttendanceMode</td>\n",
       "      <td>EventAttendanceModeEnumeration</td>\n",
       "    </tr>\n",
       "    <tr>\n",
       "      <th>653006</th>\n",
       "      <td>SportsEvent_cuescore.com_September2020_CTA.jso...</td>\n",
       "      <td>3</td>\n",
       "      <td>OfflineEventAttendanceMode</td>\n",
       "      <td>EventAttendanceModeEnumeration</td>\n",
       "    </tr>\n",
       "  </tbody>\n",
       "</table>\n",
       "<p>653007 rows × 4 columns</p>\n",
       "</div>"
      ],
      "text/plain": [
       "                                               table_name  column_index  \\\n",
       "0       CreativeWork_2agenten.com_September2020_CTA.js...             1   \n",
       "1       CreativeWork_2agenten.com_September2020_CTA.js...             1   \n",
       "2       CreativeWork_2agenten.com_September2020_CTA.js...             1   \n",
       "3       CreativeWork_2agenten.com_September2020_CTA.js...             1   \n",
       "4       CreativeWork_2agenten.com_September2020_CTA.js...             1   \n",
       "...                                                   ...           ...   \n",
       "653002  SportsEvent_cuescore.com_September2020_CTA.jso...             3   \n",
       "653003  SportsEvent_cuescore.com_September2020_CTA.jso...             3   \n",
       "653004  SportsEvent_cuescore.com_September2020_CTA.jso...             3   \n",
       "653005  SportsEvent_cuescore.com_September2020_CTA.jso...             3   \n",
       "653006  SportsEvent_cuescore.com_September2020_CTA.jso...             3   \n",
       "\n",
       "                        data_value                           label  \n",
       "0                 JACOBIN MAGAZINE    LocationFeatureSpecification  \n",
       "1        PANDA EXPRESS RESTAURANTS    LocationFeatureSpecification  \n",
       "2                        STARBUCKS    LocationFeatureSpecification  \n",
       "3                    CB2 FURNITURE    LocationFeatureSpecification  \n",
       "4                       L'OCCITANE    LocationFeatureSpecification  \n",
       "...                            ...                             ...  \n",
       "653002  OfflineEventAttendanceMode  EventAttendanceModeEnumeration  \n",
       "653003  OfflineEventAttendanceMode  EventAttendanceModeEnumeration  \n",
       "653004  OfflineEventAttendanceMode  EventAttendanceModeEnumeration  \n",
       "653005  OfflineEventAttendanceMode  EventAttendanceModeEnumeration  \n",
       "653006  OfflineEventAttendanceMode  EventAttendanceModeEnumeration  \n",
       "\n",
       "[653007 rows x 4 columns]"
      ]
     },
     "execution_count": 100,
     "metadata": {},
     "output_type": "execute_result"
    }
   ],
   "source": [
    "PAAV_SCH_R2CTA "
   ]
  },
  {
   "cell_type": "code",
   "execution_count": 101,
   "id": "6fab49ba",
   "metadata": {},
   "outputs": [
    {
     "data": {
      "text/html": [
       "<div>\n",
       "<style scoped>\n",
       "    .dataframe tbody tr th:only-of-type {\n",
       "        vertical-align: middle;\n",
       "    }\n",
       "\n",
       "    .dataframe tbody tr th {\n",
       "        vertical-align: top;\n",
       "    }\n",
       "\n",
       "    .dataframe thead th {\n",
       "        text-align: right;\n",
       "    }\n",
       "</style>\n",
       "<table border=\"1\" class=\"dataframe\">\n",
       "  <thead>\n",
       "    <tr style=\"text-align: right;\">\n",
       "      <th></th>\n",
       "      <th>table_name</th>\n",
       "      <th>column_index</th>\n",
       "      <th>label</th>\n",
       "    </tr>\n",
       "  </thead>\n",
       "  <tbody>\n",
       "    <tr>\n",
       "      <th>0</th>\n",
       "      <td>CreativeWork_2agenten.com_September2020_CTA.js...</td>\n",
       "      <td>1</td>\n",
       "      <td>LocationFeatureSpecification</td>\n",
       "    </tr>\n",
       "    <tr>\n",
       "      <th>1</th>\n",
       "      <td>CreativeWork_2agenten.com_September2020_CTA.js...</td>\n",
       "      <td>1</td>\n",
       "      <td>LocationFeatureSpecification</td>\n",
       "    </tr>\n",
       "    <tr>\n",
       "      <th>2</th>\n",
       "      <td>CreativeWork_2agenten.com_September2020_CTA.js...</td>\n",
       "      <td>1</td>\n",
       "      <td>LocationFeatureSpecification</td>\n",
       "    </tr>\n",
       "    <tr>\n",
       "      <th>3</th>\n",
       "      <td>CreativeWork_2agenten.com_September2020_CTA.js...</td>\n",
       "      <td>1</td>\n",
       "      <td>LocationFeatureSpecification</td>\n",
       "    </tr>\n",
       "    <tr>\n",
       "      <th>4</th>\n",
       "      <td>CreativeWork_2agenten.com_September2020_CTA.js...</td>\n",
       "      <td>1</td>\n",
       "      <td>LocationFeatureSpecification</td>\n",
       "    </tr>\n",
       "    <tr>\n",
       "      <th>...</th>\n",
       "      <td>...</td>\n",
       "      <td>...</td>\n",
       "      <td>...</td>\n",
       "    </tr>\n",
       "    <tr>\n",
       "      <th>653002</th>\n",
       "      <td>SportsEvent_cuescore.com_September2020_CTA.jso...</td>\n",
       "      <td>3</td>\n",
       "      <td>EventAttendanceModeEnumeration</td>\n",
       "    </tr>\n",
       "    <tr>\n",
       "      <th>653003</th>\n",
       "      <td>SportsEvent_cuescore.com_September2020_CTA.jso...</td>\n",
       "      <td>3</td>\n",
       "      <td>EventAttendanceModeEnumeration</td>\n",
       "    </tr>\n",
       "    <tr>\n",
       "      <th>653004</th>\n",
       "      <td>SportsEvent_cuescore.com_September2020_CTA.jso...</td>\n",
       "      <td>3</td>\n",
       "      <td>EventAttendanceModeEnumeration</td>\n",
       "    </tr>\n",
       "    <tr>\n",
       "      <th>653005</th>\n",
       "      <td>SportsEvent_cuescore.com_September2020_CTA.jso...</td>\n",
       "      <td>3</td>\n",
       "      <td>EventAttendanceModeEnumeration</td>\n",
       "    </tr>\n",
       "    <tr>\n",
       "      <th>653006</th>\n",
       "      <td>SportsEvent_cuescore.com_September2020_CTA.jso...</td>\n",
       "      <td>3</td>\n",
       "      <td>EventAttendanceModeEnumeration</td>\n",
       "    </tr>\n",
       "  </tbody>\n",
       "</table>\n",
       "<p>653007 rows × 3 columns</p>\n",
       "</div>"
      ],
      "text/plain": [
       "                                               table_name  column_index  \\\n",
       "0       CreativeWork_2agenten.com_September2020_CTA.js...             1   \n",
       "1       CreativeWork_2agenten.com_September2020_CTA.js...             1   \n",
       "2       CreativeWork_2agenten.com_September2020_CTA.js...             1   \n",
       "3       CreativeWork_2agenten.com_September2020_CTA.js...             1   \n",
       "4       CreativeWork_2agenten.com_September2020_CTA.js...             1   \n",
       "...                                                   ...           ...   \n",
       "653002  SportsEvent_cuescore.com_September2020_CTA.jso...             3   \n",
       "653003  SportsEvent_cuescore.com_September2020_CTA.jso...             3   \n",
       "653004  SportsEvent_cuescore.com_September2020_CTA.jso...             3   \n",
       "653005  SportsEvent_cuescore.com_September2020_CTA.jso...             3   \n",
       "653006  SportsEvent_cuescore.com_September2020_CTA.jso...             3   \n",
       "\n",
       "                                 label  \n",
       "0         LocationFeatureSpecification  \n",
       "1         LocationFeatureSpecification  \n",
       "2         LocationFeatureSpecification  \n",
       "3         LocationFeatureSpecification  \n",
       "4         LocationFeatureSpecification  \n",
       "...                                ...  \n",
       "653002  EventAttendanceModeEnumeration  \n",
       "653003  EventAttendanceModeEnumeration  \n",
       "653004  EventAttendanceModeEnumeration  \n",
       "653005  EventAttendanceModeEnumeration  \n",
       "653006  EventAttendanceModeEnumeration  \n",
       "\n",
       "[653007 rows x 3 columns]"
      ]
     },
     "execution_count": 101,
     "metadata": {},
     "output_type": "execute_result"
    }
   ],
   "source": [
    "PAAV_SCH_R2CTA_SUB = PAAV_SCH_R2CTA[['table_name','column_index', 'label']]\n",
    "PAAV_SCH_R2CTA_SUB"
   ]
  },
  {
   "cell_type": "code",
   "execution_count": 102,
   "id": "8a1e476c",
   "metadata": {},
   "outputs": [],
   "source": [
    "# Group by 'table_name' and 'column_index', and find the label that occurred the maximum times\n",
    "PAAV_SCH_R2CTA_SUB = PAAV_SCH_R2CTA_SUB.groupby(['table_name', 'column_index'])['label'].apply(lambda x: x.value_counts().idxmax()).reset_index()"
   ]
  },
  {
   "cell_type": "code",
   "execution_count": 103,
   "id": "52cce5eb",
   "metadata": {},
   "outputs": [
    {
     "data": {
      "text/html": [
       "<div>\n",
       "<style scoped>\n",
       "    .dataframe tbody tr th:only-of-type {\n",
       "        vertical-align: middle;\n",
       "    }\n",
       "\n",
       "    .dataframe tbody tr th {\n",
       "        vertical-align: top;\n",
       "    }\n",
       "\n",
       "    .dataframe thead th {\n",
       "        text-align: right;\n",
       "    }\n",
       "</style>\n",
       "<table border=\"1\" class=\"dataframe\">\n",
       "  <thead>\n",
       "    <tr style=\"text-align: right;\">\n",
       "      <th></th>\n",
       "      <th>table_name</th>\n",
       "      <th>column_index</th>\n",
       "      <th>label</th>\n",
       "    </tr>\n",
       "  </thead>\n",
       "  <tbody>\n",
       "    <tr>\n",
       "      <th>0</th>\n",
       "      <td>Book_artforum.sk_September2020_CTA.json.gz</td>\n",
       "      <td>0</td>\n",
       "      <td>LocationFeatureSpecification</td>\n",
       "    </tr>\n",
       "    <tr>\n",
       "      <th>1</th>\n",
       "      <td>Book_artforum.sk_September2020_CTA.json.gz</td>\n",
       "      <td>1</td>\n",
       "      <td>Book/description</td>\n",
       "    </tr>\n",
       "    <tr>\n",
       "      <th>2</th>\n",
       "      <td>Book_artforum.sk_September2020_CTA.json.gz</td>\n",
       "      <td>5</td>\n",
       "      <td>OfferItemCondition</td>\n",
       "    </tr>\n",
       "    <tr>\n",
       "      <th>3</th>\n",
       "      <td>Book_artforum.sk_September2020_CTA.json.gz</td>\n",
       "      <td>6</td>\n",
       "      <td>ItemAvailability</td>\n",
       "    </tr>\n",
       "    <tr>\n",
       "      <th>4</th>\n",
       "      <td>Book_auth-e83.co.uk_September2020_CTA.json.gz</td>\n",
       "      <td>2</td>\n",
       "      <td>BookFormatType</td>\n",
       "    </tr>\n",
       "  </tbody>\n",
       "</table>\n",
       "</div>"
      ],
      "text/plain": [
       "                                      table_name  column_index  \\\n",
       "0     Book_artforum.sk_September2020_CTA.json.gz             0   \n",
       "1     Book_artforum.sk_September2020_CTA.json.gz             1   \n",
       "2     Book_artforum.sk_September2020_CTA.json.gz             5   \n",
       "3     Book_artforum.sk_September2020_CTA.json.gz             6   \n",
       "4  Book_auth-e83.co.uk_September2020_CTA.json.gz             2   \n",
       "\n",
       "                          label  \n",
       "0  LocationFeatureSpecification  \n",
       "1              Book/description  \n",
       "2            OfferItemCondition  \n",
       "3              ItemAvailability  \n",
       "4                BookFormatType  "
      ]
     },
     "execution_count": 103,
     "metadata": {},
     "output_type": "execute_result"
    }
   ],
   "source": [
    "PAAV_SCH_R2CTA_SUB.head()"
   ]
  },
  {
   "cell_type": "code",
   "execution_count": 105,
   "id": "1a834d59",
   "metadata": {},
   "outputs": [
    {
     "data": {
      "text/html": [
       "<div>\n",
       "<style scoped>\n",
       "    .dataframe tbody tr th:only-of-type {\n",
       "        vertical-align: middle;\n",
       "    }\n",
       "\n",
       "    .dataframe tbody tr th {\n",
       "        vertical-align: top;\n",
       "    }\n",
       "\n",
       "    .dataframe thead th {\n",
       "        text-align: right;\n",
       "    }\n",
       "</style>\n",
       "<table border=\"1\" class=\"dataframe\">\n",
       "  <thead>\n",
       "    <tr style=\"text-align: right;\">\n",
       "      <th></th>\n",
       "      <th>table_name</th>\n",
       "      <th>column_index</th>\n",
       "    </tr>\n",
       "  </thead>\n",
       "  <tbody>\n",
       "    <tr>\n",
       "      <th>0</th>\n",
       "      <td>CreativeWork_2agenten.com_September2020_CTA.js...</td>\n",
       "      <td>1</td>\n",
       "    </tr>\n",
       "    <tr>\n",
       "      <th>1</th>\n",
       "      <td>CreativeWork_biliranisland.com_September2020_C...</td>\n",
       "      <td>3</td>\n",
       "    </tr>\n",
       "    <tr>\n",
       "      <th>2</th>\n",
       "      <td>CreativeWork_biliranisland.com_September2020_C...</td>\n",
       "      <td>4</td>\n",
       "    </tr>\n",
       "    <tr>\n",
       "      <th>3</th>\n",
       "      <td>CreativeWork_biodiversitylibrary.org_September...</td>\n",
       "      <td>2</td>\n",
       "    </tr>\n",
       "    <tr>\n",
       "      <th>4</th>\n",
       "      <td>CreativeWork_bloominggreenflowers.co.uk_Septem...</td>\n",
       "      <td>3</td>\n",
       "    </tr>\n",
       "  </tbody>\n",
       "</table>\n",
       "</div>"
      ],
      "text/plain": [
       "                                          table_name  column_index\n",
       "0  CreativeWork_2agenten.com_September2020_CTA.js...             1\n",
       "1  CreativeWork_biliranisland.com_September2020_C...             3\n",
       "2  CreativeWork_biliranisland.com_September2020_C...             4\n",
       "3  CreativeWork_biodiversitylibrary.org_September...             2\n",
       "4  CreativeWork_bloominggreenflowers.co.uk_Septem...             3"
      ]
     },
     "execution_count": 105,
     "metadata": {},
     "output_type": "execute_result"
    }
   ],
   "source": [
    "df_test.head()"
   ]
  },
  {
   "cell_type": "code",
   "execution_count": 107,
   "id": "b9732dd2",
   "metadata": {},
   "outputs": [
    {
     "name": "stdout",
     "output_type": "stream",
     "text": [
      "The DataFrames have the same set of values in the 'table_name' column.\n",
      "The shpae of the generated file is :(1112, 3) \n"
     ]
    }
   ],
   "source": [
    "# Get the unique values of the column in both DataFrames\n",
    "unique_values_df_test = set(df_test['table_name'])\n",
    "unique_values_PAAV_SCH_R2CTA_SUB = set(PAAV_SCH_R2CTA_SUB['table_name'])\n",
    "\n",
    "# Check if the unique values are the same\n",
    "if unique_values_df_test == unique_values_PAAV_SCH_R2CTA_SUB:\n",
    "    print(\"The DataFrames have the same set of values in the 'table_name' column.\")\n",
    "else:\n",
    "    print(\"The DataFrames do not have the same set of values in the 'table_name' column.\")\n",
    "    \n",
    "    \n",
    "# Checking the shape of the file \n",
    "print(f\"The shpae of the generated file is :{PAAV_SCH_R2CTA_SUB.shape} \")    "
   ]
  },
  {
   "cell_type": "code",
   "execution_count": 104,
   "id": "23baf863",
   "metadata": {},
   "outputs": [
    {
     "name": "stdout",
     "output_type": "stream",
     "text": [
      "(1112, 3)\n"
     ]
    }
   ],
   "source": []
  },
  {
   "cell_type": "code",
   "execution_count": 108,
   "id": "53e25184",
   "metadata": {},
   "outputs": [],
   "source": [
    "# Save the DataFrame as a CSV file\n",
    "PAAV_SCH_R2CTA_SUB.to_csv('DREIFLUSS_sotab_cta_test_targets_round2_R2-SOTAB-CTA-SCH.csv', index=False)"
   ]
  },
  {
   "cell_type": "code",
   "execution_count": null,
   "id": "a7aae09c",
   "metadata": {},
   "outputs": [],
   "source": []
  },
  {
   "cell_type": "code",
   "execution_count": null,
   "id": "58e67fab",
   "metadata": {},
   "outputs": [],
   "source": []
  },
  {
   "cell_type": "code",
   "execution_count": null,
   "id": "c9c410b6",
   "metadata": {},
   "outputs": [],
   "source": []
  },
  {
   "cell_type": "code",
   "execution_count": null,
   "id": "63df3b4b",
   "metadata": {},
   "outputs": [],
   "source": []
  },
  {
   "cell_type": "code",
   "execution_count": 54,
   "id": "1e685951",
   "metadata": {},
   "outputs": [
    {
     "name": "stderr",
     "output_type": "stream",
     "text": [
      "Some weights of the model checkpoint at bert-base-uncased were not used when initializing BertForSequenceClassification: ['cls.predictions.transform.LayerNorm.bias', 'cls.predictions.bias', 'cls.predictions.transform.LayerNorm.weight', 'cls.seq_relationship.weight', 'cls.predictions.transform.dense.weight', 'cls.seq_relationship.bias', 'cls.predictions.transform.dense.bias', 'cls.predictions.decoder.weight']\n",
      "- This IS expected if you are initializing BertForSequenceClassification from the checkpoint of a model trained on another task or with another architecture (e.g. initializing a BertForSequenceClassification model from a BertForPreTraining model).\n",
      "- This IS NOT expected if you are initializing BertForSequenceClassification from the checkpoint of a model that you expect to be exactly identical (initializing a BertForSequenceClassification model from a BertForSequenceClassification model).\n",
      "Some weights of BertForSequenceClassification were not initialized from the model checkpoint at bert-base-uncased and are newly initialized: ['classifier.weight', 'classifier.bias']\n",
      "You should probably TRAIN this model on a down-stream task to be able to use it for predictions and inference.\n"
     ]
    },
    {
     "name": "stdout",
     "output_type": "stream",
     "text": [
      "Epoch 1/3\n",
      "Batch 1/2 - Loss: 4.245355606079102\n",
      "Batch 2/2 - Loss: 3.5834102630615234\n",
      "Epoch 2/3\n",
      "Batch 1/2 - Loss: 4.132392406463623\n",
      "Batch 2/2 - Loss: 3.7615251541137695\n",
      "Epoch 3/3\n",
      "Batch 1/2 - Loss: 3.659687042236328\n",
      "Batch 2/2 - Loss: 4.410285949707031\n"
     ]
    }
   ],
   "source": [
    "import torch\n",
    "from torch.utils.data import DataLoader\n",
    "from transformers import BertTokenizer, BertForSequenceClassification\n",
    "\n",
    "# Define the BERT model and tokenizer\n",
    "model_name = 'bert-base-uncased'\n",
    "num_labels = 80\n",
    "model = BertForSequenceClassification.from_pretrained(model_name, num_labels=num_labels)\n",
    "tokenizer = BertTokenizer.from_pretrained(model_name)\n",
    "\n",
    "# Preprocess the input data\n",
    "def preprocess_data(data, labels):\n",
    "    input_ids = []\n",
    "    attention_masks = []\n",
    "    for text in data:\n",
    "        encoded_text = tokenizer.encode_plus(\n",
    "            text,\n",
    "            add_special_tokens=True,\n",
    "            max_length=128,  # Adjust as needed\n",
    "            padding='max_length',\n",
    "            truncation=True,\n",
    "            return_attention_mask=True\n",
    "        )\n",
    "        input_ids.append(encoded_text['input_ids'])\n",
    "        attention_masks.append(encoded_text['attention_mask'])\n",
    "    \n",
    "    input_ids = torch.tensor(input_ids)\n",
    "    attention_masks = torch.tensor(attention_masks)\n",
    "    labels = torch.tensor(labels)\n",
    "    \n",
    "    return input_ids, attention_masks, labels\n",
    "\n",
    "# Example input data\n",
    "data = [\n",
    "    \"This is the first text.\",\n",
    "    \"Another example text.\",\n",
    "    \"And a third text.\"\n",
    "]\n",
    "labels = [1, 2, 3]  # Example labels, adjust as needed\n",
    "\n",
    "# Preprocess the input data\n",
    "input_ids, attention_masks, labels = preprocess_data(data, labels)\n",
    "\n",
    "# Create DataLoader for batching\n",
    "batch_size = 2\n",
    "dataset = torch.utils.data.TensorDataset(input_ids, attention_masks, labels)\n",
    "dataloader = DataLoader(dataset, batch_size=batch_size, shuffle=True)\n",
    "\n",
    "# Set up optimizer and loss function\n",
    "optimizer = torch.optim.AdamW(model.parameters(), lr=1e-5)\n",
    "loss_fn = torch.nn.CrossEntropyLoss()\n",
    "\n",
    "# Training loop\n",
    "epochs = 3  # Adjust as needed\n",
    "device = torch.device('cuda' if torch.cuda.is_available() else 'cpu')\n",
    "model.to(device)\n",
    "model.train()\n",
    "\n",
    "for epoch in range(epochs):\n",
    "    print(f\"Epoch {epoch + 1}/{epochs}\")\n",
    "    \n",
    "    for batch_idx, (input_ids_batch, attention_masks_batch, labels_batch) in enumerate(dataloader):\n",
    "        input_ids_batch = input_ids_batch.to(device)\n",
    "        attention_masks_batch = attention_masks_batch.to(device)\n",
    "        labels_batch = labels_batch.to(device)\n",
    "        \n",
    "        optimizer.zero_grad()\n",
    "        \n",
    "        outputs = model(input_ids_batch, attention_mask=attention_masks_batch, labels=labels_batch)\n",
    "        \n",
    "        loss = outputs.loss\n",
    "        logits = outputs.logits\n",
    "        \n",
    "        loss.backward()\n",
    "        optimizer.step()\n",
    "        \n",
    "        print(f\"Batch {batch_idx + 1}/{len(dataloader)} - Loss: {loss.item()}\")\n",
    "\n"
   ]
  },
  {
   "cell_type": "code",
   "execution_count": 55,
   "id": "ae07b801",
   "metadata": {},
   "outputs": [
    {
     "name": "stdout",
     "output_type": "stream",
     "text": [
      "Predicted label: 3\n"
     ]
    }
   ],
   "source": [
    "\n",
    "# Inference\n",
    "model.eval()\n",
    "\n",
    "# Example input for inference\n",
    "input_text = \"This is a test text.\"\n",
    "\n",
    "# Preprocess the input for inference\n",
    "input_ids, attention_mask, _ = preprocess_data([input_text], [0])\n",
    "input_ids = input_ids.to(device)\n",
    "attention_mask = attention_mask.to(device)\n",
    "\n",
    "# Perform inference\n",
    "with torch.no_grad():\n",
    "    outputs = model(input_ids, attention_mask=attention_mask)\n",
    "    logits = outputs.logits\n",
    "\n",
    "# Get predicted label\n",
    "predicted_label = torch.argmax(logits, dim=1).item()\n",
    "print(f\"Predicted label: {predicted_label}\")"
   ]
  },
  {
   "cell_type": "code",
   "execution_count": null,
   "id": "e93aef76",
   "metadata": {},
   "outputs": [],
   "source": []
  },
  {
   "cell_type": "code",
   "execution_count": null,
   "id": "9806bbb9",
   "metadata": {},
   "outputs": [],
   "source": []
  },
  {
   "cell_type": "code",
   "execution_count": null,
   "id": "194298dc",
   "metadata": {},
   "outputs": [],
   "source": []
  },
  {
   "cell_type": "code",
   "execution_count": null,
   "id": "639f06d8",
   "metadata": {},
   "outputs": [],
   "source": []
  },
  {
   "cell_type": "code",
   "execution_count": null,
   "id": "6c2f1717",
   "metadata": {},
   "outputs": [],
   "source": []
  },
  {
   "cell_type": "code",
   "execution_count": null,
   "id": "96fda35f",
   "metadata": {},
   "outputs": [],
   "source": []
  },
  {
   "cell_type": "code",
   "execution_count": null,
   "id": "eaba610c",
   "metadata": {},
   "outputs": [],
   "source": []
  },
  {
   "cell_type": "code",
   "execution_count": null,
   "id": "c806694e",
   "metadata": {},
   "outputs": [],
   "source": []
  },
  {
   "cell_type": "markdown",
   "id": "11d23162",
   "metadata": {},
   "source": [
    "## Checking scores with Bert"
   ]
  },
  {
   "cell_type": "code",
   "execution_count": 24,
   "id": "aee17b88",
   "metadata": {},
   "outputs": [],
   "source": [
    "from transformers import BertTokenizer, BertModel\n",
    "import torch\n",
    "from scipy.spatial.distance import cosine\n",
    "import itertools"
   ]
  },
  {
   "cell_type": "code",
   "execution_count": 3,
   "id": "b355e5e3",
   "metadata": {},
   "outputs": [
    {
     "data": {
      "application/vnd.jupyter.widget-view+json": {
       "model_id": "1b59928f7d6147b3a334cbff281d5fb6",
       "version_major": 2,
       "version_minor": 0
      },
      "text/plain": [
       "Downloading (…)solve/main/vocab.txt:   0%|          | 0.00/232k [00:00<?, ?B/s]"
      ]
     },
     "metadata": {},
     "output_type": "display_data"
    },
    {
     "data": {
      "application/vnd.jupyter.widget-view+json": {
       "model_id": "6a8da193e0414f939f385cf323603a69",
       "version_major": 2,
       "version_minor": 0
      },
      "text/plain": [
       "Downloading (…)okenizer_config.json:   0%|          | 0.00/28.0 [00:00<?, ?B/s]"
      ]
     },
     "metadata": {},
     "output_type": "display_data"
    },
    {
     "data": {
      "application/vnd.jupyter.widget-view+json": {
       "model_id": "22c4fbb4a06140fbb3231bfabceeffcf",
       "version_major": 2,
       "version_minor": 0
      },
      "text/plain": [
       "Downloading (…)lve/main/config.json:   0%|          | 0.00/570 [00:00<?, ?B/s]"
      ]
     },
     "metadata": {},
     "output_type": "display_data"
    },
    {
     "data": {
      "application/vnd.jupyter.widget-view+json": {
       "model_id": "69704167b185432dbaa0bd9fc894e2d8",
       "version_major": 2,
       "version_minor": 0
      },
      "text/plain": [
       "Downloading pytorch_model.bin:   0%|          | 0.00/440M [00:00<?, ?B/s]"
      ]
     },
     "metadata": {},
     "output_type": "display_data"
    },
    {
     "name": "stderr",
     "output_type": "stream",
     "text": [
      "Some weights of the model checkpoint at bert-base-uncased were not used when initializing BertModel: ['cls.predictions.transform.dense.bias', 'cls.seq_relationship.bias', 'cls.predictions.decoder.weight', 'cls.predictions.transform.LayerNorm.weight', 'cls.predictions.transform.dense.weight', 'cls.predictions.bias', 'cls.predictions.transform.LayerNorm.bias', 'cls.seq_relationship.weight']\n",
      "- This IS expected if you are initializing BertModel from the checkpoint of a model trained on another task or with another architecture (e.g. initializing a BertForSequenceClassification model from a BertForPreTraining model).\n",
      "- This IS NOT expected if you are initializing BertModel from the checkpoint of a model that you expect to be exactly identical (initializing a BertForSequenceClassification model from a BertForSequenceClassification model).\n"
     ]
    }
   ],
   "source": [
    "# Load BERT tokenizer and model\n",
    "tokenizer = BertTokenizer.from_pretrained('bert-base-uncased')\n",
    "model = BertModel.from_pretrained('bert-base-uncased')"
   ]
  },
  {
   "cell_type": "code",
   "execution_count": 32,
   "id": "58c429dd",
   "metadata": {},
   "outputs": [],
   "source": [
    "# Input words\n",
    "word1 = \"apple\"\n",
    "word2 = \"banana\"\n",
    "word = [word1, word2]"
   ]
  },
  {
   "cell_type": "code",
   "execution_count": 33,
   "id": "a8579bf1",
   "metadata": {},
   "outputs": [],
   "source": [
    "# Tokenize and convert to BERT input format\n",
    "# tokens = tokenizer.encode_plus(word1, word2, add_special_tokens=True, return_tensors='pt')\n",
    "tokens = tokenizer(word, padding=True, truncation=True, return_tensors='pt')\n",
    "input_ids = tokens['input_ids']\n",
    "attention_mask = tokens['attention_mask']"
   ]
  },
  {
   "cell_type": "code",
   "execution_count": 34,
   "id": "0e66a3bb",
   "metadata": {},
   "outputs": [
    {
     "name": "stdout",
     "output_type": "stream",
     "text": [
      "{'input_ids': tensor([[  101,  6207,   102],\n",
      "        [  101, 15212,   102]]), 'token_type_ids': tensor([[0, 0, 0],\n",
      "        [0, 0, 0]]), 'attention_mask': tensor([[1, 1, 1],\n",
      "        [1, 1, 1]])}\n",
      "tensor([[  101,  6207,   102],\n",
      "        [  101, 15212,   102]])\n",
      "tensor([[1, 1, 1],\n",
      "        [1, 1, 1]])\n"
     ]
    }
   ],
   "source": [
    "print(tokens)\n",
    "print(input_ids)\n",
    "print(attention_mask)"
   ]
  },
  {
   "cell_type": "code",
   "execution_count": 35,
   "id": "dcb9b6da",
   "metadata": {},
   "outputs": [],
   "source": [
    "# Obtain BERT embeddings\n",
    "with torch.no_grad():\n",
    "    outputs = model(input_ids, attention_mask=attention_mask)\n",
    "    embeddings = outputs.last_hidden_state.mean(dim=1)  # Average the embeddings across tokens"
   ]
  },
  {
   "cell_type": "code",
   "execution_count": 36,
   "id": "d053709c",
   "metadata": {},
   "outputs": [],
   "source": [
    "# Obtain BERT embeddings\n",
    "with torch.no_grad():\n",
    "    outputs = model(input_ids, attention_mask=attention_mask)\n",
    "    embeddings = outputs.last_hidden_state[:, 1:-1, :].mean(dim=1)  \n",
    "    # Average the embeddings across tokens (excluding special tokens)"
   ]
  },
  {
   "cell_type": "code",
   "execution_count": 37,
   "id": "f83fb06e",
   "metadata": {},
   "outputs": [
    {
     "name": "stdout",
     "output_type": "stream",
     "text": [
      "torch.Size([2, 768])\n",
      "<class 'transformers.modeling_outputs.BaseModelOutputWithPoolingAndCrossAttentions'>\n"
     ]
    }
   ],
   "source": [
    "print(embeddings.shape)\n",
    "print(type(outputs))"
   ]
  },
  {
   "cell_type": "code",
   "execution_count": 38,
   "id": "da6f39f0",
   "metadata": {},
   "outputs": [],
   "source": [
    "# Check if there is only one embedding\n",
    "if embeddings.ndim == 1:\n",
    "    embeddings = embeddings.unsqueeze(0)"
   ]
  },
  {
   "cell_type": "code",
   "execution_count": 40,
   "id": "691c5649",
   "metadata": {},
   "outputs": [],
   "source": [
    "# Calculate cosine similarity distance\n",
    "embedding1 = embeddings[0].numpy()\n",
    "embedding2 = embeddings[1].numpy()\n",
    "distance = cosine(embedding1, embedding2)"
   ]
  },
  {
   "cell_type": "code",
   "execution_count": 41,
   "id": "07f7759f",
   "metadata": {},
   "outputs": [
    {
     "name": "stdout",
     "output_type": "stream",
     "text": [
      "Distance: 0.17003083229064941\n"
     ]
    }
   ],
   "source": [
    "print(\"Distance:\", distance)"
   ]
  },
  {
   "cell_type": "code",
   "execution_count": 25,
   "id": "f86b9294",
   "metadata": {},
   "outputs": [
    {
     "name": "stdout",
     "output_type": "stream",
     "text": [
      "Distance between 'apple' and 'banana': 0.17003083229064941\n",
      "Distance between 'apple' and 'orange': 0.24633169174194336\n",
      "Distance between 'banana' and 'orange': 0.1570427417755127\n"
     ]
    }
   ],
   "source": [
    "# Input words\n",
    "words = [\"apple\", \"banana\", \"orange\"]  # Add or remove words as needed\n",
    "\n",
    "# Tokenize and convert to BERT input format\n",
    "inputs = tokenizer(words, padding=True, truncation=True, return_tensors='pt')\n",
    "input_ids = inputs['input_ids']\n",
    "attention_mask = inputs['attention_mask']\n",
    "\n",
    "# Obtain BERT embeddings\n",
    "with torch.no_grad():\n",
    "    outputs = model(input_ids, attention_mask=attention_mask)\n",
    "    embeddings = outputs.last_hidden_state[:, 1:-1, :].mean(dim=1)  # Average the embeddings across tokens (excluding special tokens)\n",
    "\n",
    "# Calculate cosine similarity distances between pairwise embeddings\n",
    "combinations = list(itertools.combinations(range(len(words)), 2))\n",
    "distances = []\n",
    "for i, j in combinations:\n",
    "    embedding1 = embeddings[i].numpy()\n",
    "    embedding2 = embeddings[j].numpy()\n",
    "    distance = cosine(embedding1, embedding2)\n",
    "    distances.append(distance)\n",
    "\n",
    "# Print the distances\n",
    "for (i, j), distance in zip(combinations, distances):\n",
    "    print(f\"Distance between '{words[i]}' and '{words[j]}': {distance}\")"
   ]
  },
  {
   "cell_type": "code",
   "execution_count": 26,
   "id": "c8bae43e",
   "metadata": {},
   "outputs": [
    {
     "name": "stdout",
     "output_type": "stream",
     "text": [
      "torch.Size([3, 768])\n"
     ]
    }
   ],
   "source": [
    "print(embeddings.shape)"
   ]
  },
  {
   "cell_type": "code",
   "execution_count": 29,
   "id": "f3b2b833",
   "metadata": {},
   "outputs": [
    {
     "name": "stdout",
     "output_type": "stream",
     "text": [
      "{'input_ids': tensor([[  101,  6207,   102],\n",
      "        [  101, 15212,   102],\n",
      "        [  101,  4589,   102]]), 'token_type_ids': tensor([[0, 0, 0],\n",
      "        [0, 0, 0],\n",
      "        [0, 0, 0]]), 'attention_mask': tensor([[1, 1, 1],\n",
      "        [1, 1, 1],\n",
      "        [1, 1, 1]])}\n"
     ]
    }
   ],
   "source": [
    "print(inputs)"
   ]
  },
  {
   "cell_type": "code",
   "execution_count": null,
   "id": "144fac10",
   "metadata": {},
   "outputs": [],
   "source": []
  },
  {
   "cell_type": "code",
   "execution_count": null,
   "id": "69e5e6f3",
   "metadata": {},
   "outputs": [],
   "source": []
  },
  {
   "cell_type": "code",
   "execution_count": null,
   "id": "053e80de",
   "metadata": {},
   "outputs": [],
   "source": []
  },
  {
   "cell_type": "code",
   "execution_count": null,
   "id": "73d10fd1",
   "metadata": {},
   "outputs": [],
   "source": []
  },
  {
   "cell_type": "code",
   "execution_count": 46,
   "id": "cad8f46b",
   "metadata": {},
   "outputs": [],
   "source": [
    "import pandas as pd\n",
    "import torch\n",
    "from sklearn.model_selection import train_test_split\n",
    "from sklearn.metrics import classification_report\n",
    "from transformers import BertTokenizer, BertForSequenceClassification, AdamW\n",
    "from sklearn.preprocessing import LabelEncoder\n",
    "from tqdm import tqdm"
   ]
  },
  {
   "cell_type": "code",
   "execution_count": 27,
   "id": "5b2e87e7",
   "metadata": {},
   "outputs": [],
   "source": [
    "# Split the data into training and testing sets use new_df dataframe\n",
    "train_df, test_df = train_test_split(new_df, test_size=0.2, random_state=42)\n",
    "\n",
    "# Define the label and data columns\n",
    "label_column = 'label'\n",
    "data_column = 'data_value'"
   ]
  },
  {
   "cell_type": "code",
   "execution_count": 28,
   "id": "12507bca",
   "metadata": {},
   "outputs": [],
   "source": [
    "# Load the BERT tokenizer\n",
    "tokenizer = BertTokenizer.from_pretrained('bert-base-uncased')"
   ]
  },
  {
   "cell_type": "code",
   "execution_count": 33,
   "id": "65dbf08f",
   "metadata": {},
   "outputs": [],
   "source": [
    "# Tokenize the text data\n",
    "def tokenize_data(text_data):\n",
    "    tokenized_data = tokenizer.batch_encode_plus(\n",
    "        text_data.apply(lambda x: x[0] if isinstance(x, list) else str(x)),\n",
    "        add_special_tokens=True,\n",
    "        padding='longest',\n",
    "        truncation=True,\n",
    "        return_attention_mask=True,\n",
    "        return_tensors='pt'\n",
    "    )\n",
    "    return tokenized_data"
   ]
  },
  {
   "cell_type": "code",
   "execution_count": 36,
   "id": "a7c9575b",
   "metadata": {},
   "outputs": [],
   "source": [
    "# Prepare the training data\n",
    "train_data = tokenize_data(train_df[data_column])\n",
    "\n",
    "# Encode the labels\n",
    "label_encoder = LabelEncoder()\n",
    "train_labels = label_encoder.fit_transform(train_df[label_column])\n",
    "\n",
    "# Convert the labels to a PyTorch tensor\n",
    "train_labels = torch.tensor(train_labels)\n",
    "\n",
    "# Prepare the testing data\n",
    "test_data = tokenize_data(test_df[data_column])\n",
    "test_labels = label_encoder.transform(test_df[label_column])\n",
    "test_labels = torch.tensor(test_labels)"
   ]
  },
  {
   "cell_type": "code",
   "execution_count": 53,
   "id": "55d77b1e",
   "metadata": {},
   "outputs": [
    {
     "name": "stdout",
     "output_type": "stream",
     "text": [
      "torch.Size([289469])\n"
     ]
    }
   ],
   "source": [
    "type(train_labels)\n",
    "print(train_labels.size())\n"
   ]
  },
  {
   "cell_type": "code",
   "execution_count": 37,
   "id": "8a6d163f",
   "metadata": {},
   "outputs": [
    {
     "name": "stderr",
     "output_type": "stream",
     "text": [
      "Some weights of the model checkpoint at bert-base-uncased were not used when initializing BertForSequenceClassification: ['cls.predictions.transform.LayerNorm.bias', 'cls.predictions.bias', 'cls.predictions.transform.LayerNorm.weight', 'cls.seq_relationship.weight', 'cls.predictions.transform.dense.weight', 'cls.seq_relationship.bias', 'cls.predictions.transform.dense.bias', 'cls.predictions.decoder.weight']\n",
      "- This IS expected if you are initializing BertForSequenceClassification from the checkpoint of a model trained on another task or with another architecture (e.g. initializing a BertForSequenceClassification model from a BertForPreTraining model).\n",
      "- This IS NOT expected if you are initializing BertForSequenceClassification from the checkpoint of a model that you expect to be exactly identical (initializing a BertForSequenceClassification model from a BertForSequenceClassification model).\n",
      "Some weights of BertForSequenceClassification were not initialized from the model checkpoint at bert-base-uncased and are newly initialized: ['classifier.weight', 'classifier.bias']\n",
      "You should probably TRAIN this model on a down-stream task to be able to use it for predictions and inference.\n"
     ]
    }
   ],
   "source": [
    "# Load the pre-trained BERT model for sequence classification\n",
    "model = BertForSequenceClassification.from_pretrained('bert-base-uncased', num_labels=80)"
   ]
  },
  {
   "cell_type": "code",
   "execution_count": 43,
   "id": "365c7579",
   "metadata": {},
   "outputs": [
    {
     "name": "stderr",
     "output_type": "stream",
     "text": [
      "C:\\Users\\Administrator\\anaconda3\\lib\\site-packages\\transformers\\optimization.py:407: FutureWarning: This implementation of AdamW is deprecated and will be removed in a future version. Use the PyTorch implementation torch.optim.AdamW instead, or set `no_deprecation_warning=True` to disable this warning\n",
      "  warnings.warn(\n"
     ]
    }
   ],
   "source": [
    "# Set up the optimizer\n",
    "optimizer = AdamW(model.parameters(), lr=2e-5)"
   ]
  },
  {
   "cell_type": "code",
   "execution_count": 49,
   "id": "7015a310",
   "metadata": {},
   "outputs": [],
   "source": [
    "# Fine-tune BERT\n",
    "model.train()\n",
    "train_batch_size = 2\n",
    "epochs = 2"
   ]
  },
  {
   "cell_type": "code",
   "execution_count": null,
   "id": "47021192",
   "metadata": {},
   "outputs": [],
   "source": [
    "for epoch in range(epochs):\n",
    "    print(f\"Epoch {epoch + 1}/{epochs}\")\n",
    "    \n",
    "    for i in range(0, len(train_data['input_ids']), train_batch_size):\n",
    "        optimizer.zero_grad()\n",
    "        \n",
    "        input_ids = train_data['input_ids'][i:i+train_batch_size].squeeze()\n",
    "        attention_mask = train_data['attention_mask'][i:i+train_batch_size].squeeze()\n",
    "        labels = train_labels[i:i+train_batch_size].long()  # Convert labels to Long data type\n",
    "        \n",
    "        outputs = model(input_ids, attention_mask=attention_mask, labels=labels)\n",
    "        \n",
    "        loss = outputs.loss\n",
    "        loss.backward()\n",
    "        optimizer.step()\n",
    "        \n",
    "        print(f\"Batch {i // train_batch_size + 1}/{len(train_data['input_ids']) // train_batch_size}\")"
   ]
  },
  {
   "cell_type": "code",
   "execution_count": null,
   "id": "b8307f94",
   "metadata": {},
   "outputs": [],
   "source": [
    "for epoch in range(epochs):\n",
    "    print(f\"Epoch {epoch + 1}/{epochs}\")\n",
    "    \n",
    "    progress_bar = tqdm(range(0, len(train_data['input_ids']), train_batch_size), total=len(train_data['input_ids']) // train_batch_size)\n",
    "    \n",
    "    for batch_idx in progress_bar:\n",
    "        optimizer.zero_grad()\n",
    "        \n",
    "        input_ids = train_data['input_ids'][batch_idx:batch_idx+train_batch_size].squeeze()\n",
    "        attention_mask = train_data['attention_mask'][batch_idx:batch_idx+train_batch_size].squeeze()\n",
    "        labels = train_labels[batch_idx:batch_idx+train_batch_size].long()  # Convert labels to Long data type\n",
    "        \n",
    "        outputs = model(input_ids, attention_mask=attention_mask, labels=labels)\n",
    "        \n",
    "        loss = outputs.loss\n",
    "        loss.backward()\n",
    "        optimizer.step()\n",
    "        \n",
    "        progress_bar.set_description(f\"Batch {batch_idx // train_batch_size + 1}/{len(train_data['input_ids']) // train_batch_size}\")\n",
    "        progress_bar.set_postfix(loss=f\"{loss.item():.4f}\", accuracy=f\"{outputs.logits.argmax(dim=1).eq(labels).sum().item() / labels.size(0):.4f}\")"
   ]
  },
  {
   "cell_type": "code",
   "execution_count": null,
   "id": "e33ca765",
   "metadata": {},
   "outputs": [],
   "source": [
    "# Evaluate the model\n",
    "model.eval()"
   ]
  },
  {
   "cell_type": "code",
   "execution_count": null,
   "id": "2606733d",
   "metadata": {},
   "outputs": [],
   "source": [
    "with torch.no_grad():\n",
    "    input_ids = test_data['input_ids'].squeeze()\n",
    "    attention_mask = test_data['attention_mask'].squeeze()\n",
    "    \n",
    "    outputs = model(input_ids, attention_mask=attention_mask)\n",
    "    \n",
    "    predicted_labels = torch.argmax(outputs.logits, dim=1).numpy()"
   ]
  },
  {
   "cell_type": "code",
   "execution_count": null,
   "id": "1df79520",
   "metadata": {},
   "outputs": [],
   "source": [
    "# Generate classification report\n",
    "target_names = df[label_column].unique().tolist()\n",
    "report = classification_report(test_labels, predicted_labels, target_names=target_names)\n",
    "print(report)"
   ]
  },
  {
   "cell_type": "code",
   "execution_count": null,
   "id": "2ea539a4",
   "metadata": {},
   "outputs": [],
   "source": []
  },
  {
   "cell_type": "code",
   "execution_count": null,
   "id": "e807545e",
   "metadata": {},
   "outputs": [],
   "source": []
  },
  {
   "cell_type": "code",
   "execution_count": null,
   "id": "b86c17ce",
   "metadata": {},
   "outputs": [],
   "source": []
  },
  {
   "cell_type": "code",
   "execution_count": null,
   "id": "fdcc6de4",
   "metadata": {},
   "outputs": [],
   "source": []
  },
  {
   "cell_type": "code",
   "execution_count": null,
   "id": "5572de7b",
   "metadata": {},
   "outputs": [],
   "source": []
  },
  {
   "cell_type": "code",
   "execution_count": null,
   "id": "cffe9072",
   "metadata": {},
   "outputs": [],
   "source": []
  },
  {
   "cell_type": "code",
   "execution_count": null,
   "id": "8f58056a",
   "metadata": {},
   "outputs": [],
   "source": []
  },
  {
   "cell_type": "code",
   "execution_count": null,
   "id": "83bbef8a",
   "metadata": {},
   "outputs": [],
   "source": []
  },
  {
   "cell_type": "code",
   "execution_count": null,
   "id": "117bb13b",
   "metadata": {},
   "outputs": [],
   "source": []
  },
  {
   "cell_type": "code",
   "execution_count": null,
   "id": "a591716a",
   "metadata": {},
   "outputs": [],
   "source": []
  },
  {
   "cell_type": "code",
   "execution_count": null,
   "id": "5fd06de6",
   "metadata": {},
   "outputs": [],
   "source": []
  },
  {
   "cell_type": "code",
   "execution_count": null,
   "id": "0e417f66",
   "metadata": {},
   "outputs": [],
   "source": []
  },
  {
   "cell_type": "code",
   "execution_count": null,
   "id": "6d9bbe08",
   "metadata": {},
   "outputs": [],
   "source": []
  },
  {
   "cell_type": "code",
   "execution_count": null,
   "id": "aa7520d2",
   "metadata": {},
   "outputs": [],
   "source": []
  },
  {
   "cell_type": "code",
   "execution_count": null,
   "id": "aa501395",
   "metadata": {},
   "outputs": [],
   "source": []
  }
 ],
 "metadata": {
  "kernelspec": {
   "display_name": "Python 3 (ipykernel)",
   "language": "python",
   "name": "python3"
  },
  "language_info": {
   "codemirror_mode": {
    "name": "ipython",
    "version": 3
   },
   "file_extension": ".py",
   "mimetype": "text/x-python",
   "name": "python",
   "nbconvert_exporter": "python",
   "pygments_lexer": "ipython3",
   "version": "3.9.13"
  }
 },
 "nbformat": 4,
 "nbformat_minor": 5
}
