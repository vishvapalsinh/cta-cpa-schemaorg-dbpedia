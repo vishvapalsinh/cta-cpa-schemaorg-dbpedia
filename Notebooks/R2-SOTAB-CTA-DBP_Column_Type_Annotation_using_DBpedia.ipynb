{
 "cells": [
  {
   "cell_type": "markdown",
   "id": "329c4072",
   "metadata": {},
   "source": [
    "1. Task Description:\n",
    "    - This task is part of the \"Semantic Web Challenge on Tabular Data to Knowledge Graph Matching\" in ISWC 2023.\n",
    "    - It is based on the WDC-SOTAB benchmark.\n",
    "    - The goal is to annotate the semantic types of table columns using pre-defined terms from DBpedia.\n",
    "    - It is a multi-class classification problem where each column can be annotated with only one type.\n",
    "    - The set of pre-defined DBpedia terms consists of **46** terms listed in the \"cta_labels_round2_dbpedia.txt\" file.\n",
    "2. Annotation Instructions:\n",
    "    - Annotate the semantic types of table columns using terms from the \"cta_labels_round2_dbpedia.txt\" file.\n",
    "    - Prepare a CSV file for submission, where each line represents a column prediction.\n",
    "    - The columns in the CSV should be named as follows: \"table_name\", \"column_index\", \"label\".\n",
    "    - The \"table_name\" column should include the full name of the table, including the extension (e.g., Product_corememoriesco.com_September2020_CTA.json.gz).\n",
    "    - The \"column_index\" refers to the position of the column in the table, starting from 0.\n",
    "    - The \"label\" refers to the predicted semantic type, and each column should have only one predicted label.\n",
    "3. Dataset and Files:\n",
    "    - The necessary datasets and files can be found in the provided links.\n",
    "    - The training set is available in the \"sotab_cta_train_round2_dbpedia.csv\" file, which provides the table names, column indices, and ground truth labels for each column.\n",
    "    - The validation set is in the \"sotab_cta_validation_round2_dbpedia.csv\" file, having the same structure as the training set.\n",
    "    - To evaluate predictions on the validation set, you can use the \"SOTAB_Evaluator.py\" script with the command: **`python SOTAB_Evaluator.py /path/to/submission/file /path/to/ground/truth/file`**.\n",
    "    - The test targets are provided in the \"sotab_cta_test_targets_round2_dbpedia.csv\" file, which includes the table name and the target column index.\n",
    "    - All tables are stored in JSON files, where each line represents a row in the table. Use the code snippet **`table_df = pd.read_json(path, compression='gzip', lines=True)`** to open a table.\n",
    "    - The label set for prediction is stored in the \"cta_labels_round2_dbpedia.txt\" file."
   ]
  },
  {
   "cell_type": "code",
   "execution_count": 7,
   "id": "567d208b",
   "metadata": {},
   "outputs": [],
   "source": [
    "import pandas as pd\n",
    "import gzip\n",
    "import json\n",
    "import matplotlib.pyplot as plt\n",
    "import os"
   ]
  },
  {
   "cell_type": "code",
   "execution_count": 8,
   "id": "8338cebe",
   "metadata": {},
   "outputs": [
    {
     "name": "stdout",
     "output_type": "stream",
     "text": [
      "['https://dbpedia.org/ontology/WrittenWork\\n', 'https://dbpedia.org/ontology/Person\\n', 'https://dbpedia.org/ontology/Language\\n', 'https://dbpedia.org/ontology/Organisation\\n', 'https://dbpedia.org/ontology/dateTime\\n', 'https://dbpedia.org/ontology/boolean\\n', 'https://dbpedia.org/ontology/date\\n', 'https://dbpedia.org/ontology/time\\n', 'https://dbpedia.org/ontology/Hotel\\n', 'https://dbpedia.org/ontology/Place\\n', 'https://dbpedia.org/ontology/Country\\n', 'https://dbpedia.org/ontology/Locality\\n', 'https://dbpedia.org/ontology/Street\\n', 'https://dbpedia.org/ontology/Image\\n', 'https://dbpedia.org/ontology/PostalCode\\n', 'https://dbpedia.org/ontology/review\\n', 'https://dbpedia.org/ontology/Identifier\\n', 'https://dbpedia.org/ontology/Currency\\n', 'https://dbpedia.org/ontology/Museum\\n', 'https://dbpedia.org/ontology/Region\\n', 'https://dbpedia.org/ontology/Song\\n', 'https://dbpedia.org/ontology/Album\\n', 'https://dbpedia.org/ontology/MusicalArtist\\n', 'https://dbpedia.org/ontology/price\\n', 'https://dbpedia.org/ontology/address\\n', 'https://dbpedia.org/ontology/day\\n', 'https://dbpedia.org/ontology/List\\n', 'https://dbpedia.org/ontology/energy\\n', 'https://dbpedia.org/ontology/duration\\n', 'https://dbpedia.org/ontology/mass\\n', 'https://dbpedia.org/ontology/Restaurant\\n', 'https://dbpedia.org/ontology/Website\\n', 'https://dbpedia.org/ontology/SportsTeam\\n', 'https://dbpedia.org/ontology/SportsEvent\\n', 'https://dbpedia.org/ontology/TelevisionEpisode\\n', 'https://dbpedia.org/ontology/TelevisionShow\\n', 'https://dbpedia.org/ontology/Book\\n', 'https://dbpedia.org/ontology/Event\\n', 'https://dbpedia.org/ontology/Category\\n', 'https://dbpedia.org/ontology/Company\\n', 'https://dbpedia.org/ontology/Film\\n', 'https://dbpedia.org/ontology/rating\\n', 'https://dbpedia.org/ontology/gender\\n', 'https://dbpedia.org/ontology/distance\\n', 'https://dbpedia.org/ontology/weight\\n', 'https://dbpedia.org/ontology/brand\\n']\n",
      "\n",
      " Totle number of terms in cpa_labels_round2.txt are : 46\n"
     ]
    }
   ],
   "source": [
    "# Read all 80 terms provided in cta_labels_round2.txt\n",
    "file_path_terms = 'dataset\\Round2-SOTAB-CTA-DBP-Datasets\\cta_labels_round2_dbpedia.txt'\n",
    "\n",
    "with open(file_path_terms, 'r') as file:\n",
    "    lines = file.readlines()\n",
    "\n",
    "print(lines)\n",
    "\n",
    "print(f'\\n Totle number of terms in cpa_labels_round2.txt are : {len(lines)}')"
   ]
  },
  {
   "cell_type": "code",
   "execution_count": 9,
   "id": "5eda6e92",
   "metadata": {},
   "outputs": [],
   "source": [
    "# Read a sample file and sources residing in it : File name and data residing in it. \n",
    "file_path_gz = 'dataset/Round2-SOTAB-CTA-Tables/Book_11x17.pt_September2020_CTA.json.gz'  # Replace with the actual file path of your JSON file\n",
    "df = pd.read_json(file_path_gz, lines=True, compression='gzip')"
   ]
  },
  {
   "cell_type": "code",
   "execution_count": 10,
   "id": "b0473922",
   "metadata": {},
   "outputs": [
    {
     "data": {
      "text/html": [
       "<div>\n",
       "<style scoped>\n",
       "    .dataframe tbody tr th:only-of-type {\n",
       "        vertical-align: middle;\n",
       "    }\n",
       "\n",
       "    .dataframe tbody tr th {\n",
       "        vertical-align: top;\n",
       "    }\n",
       "\n",
       "    .dataframe thead th {\n",
       "        text-align: right;\n",
       "    }\n",
       "</style>\n",
       "<table border=\"1\" class=\"dataframe\">\n",
       "  <thead>\n",
       "    <tr style=\"text-align: right;\">\n",
       "      <th></th>\n",
       "      <th>0</th>\n",
       "      <th>1</th>\n",
       "      <th>2</th>\n",
       "      <th>3</th>\n",
       "    </tr>\n",
       "  </thead>\n",
       "  <tbody>\n",
       "    <tr>\n",
       "      <th>0</th>\n",
       "      <td>9789722539739</td>\n",
       "      <td>A Cidade Perdida</td>\n",
       "      <td>728</td>\n",
       "      <td>2020-07-10</td>\n",
       "    </tr>\n",
       "    <tr>\n",
       "      <th>1</th>\n",
       "      <td>9789722531924</td>\n",
       "      <td>A Cúpula - livro 1</td>\n",
       "      <td>704</td>\n",
       "      <td>2016-04-08</td>\n",
       "    </tr>\n",
       "    <tr>\n",
       "      <th>2</th>\n",
       "      <td>9789722527118</td>\n",
       "      <td>Misery</td>\n",
       "      <td>480</td>\n",
       "      <td>2013-09-13</td>\n",
       "    </tr>\n",
       "    <tr>\n",
       "      <th>3</th>\n",
       "      <td>9789722532457</td>\n",
       "      <td>A Cúpula - Livro 2</td>\n",
       "      <td>656</td>\n",
       "      <td>2016-08-05</td>\n",
       "    </tr>\n",
       "    <tr>\n",
       "      <th>4</th>\n",
       "      <td>9789722537636</td>\n",
       "      <td>O Olho de Deus</td>\n",
       "      <td>528</td>\n",
       "      <td>2019-05-10</td>\n",
       "    </tr>\n",
       "  </tbody>\n",
       "</table>\n",
       "</div>"
      ],
      "text/plain": [
       "               0                   1    2           3\n",
       "0  9789722539739    A Cidade Perdida  728  2020-07-10\n",
       "1  9789722531924  A Cúpula - livro 1  704  2016-04-08\n",
       "2  9789722527118              Misery  480  2013-09-13\n",
       "3  9789722532457  A Cúpula - Livro 2  656  2016-08-05\n",
       "4  9789722537636      O Olho de Deus  528  2019-05-10"
      ]
     },
     "execution_count": 10,
     "metadata": {},
     "output_type": "execute_result"
    }
   ],
   "source": [
    "df.head()"
   ]
  },
  {
   "cell_type": "code",
   "execution_count": 11,
   "id": "2aed8816",
   "metadata": {},
   "outputs": [
    {
     "name": "stdout",
     "output_type": "stream",
     "text": [
      "\n",
      " Dimension of the train dataframe are (85561, 3)\n",
      "\n",
      " Dimension of the validaiton dataframe are (731, 3)\n",
      "\n",
      " Dimension of the test dataframe are (681, 2)\n"
     ]
    }
   ],
   "source": [
    "# Reading the provided training, validation, and testing dataset\n",
    "file_path_train = 'dataset\\Round2-SOTAB-CTA-DBP-Datasets\\sotab_cta_train_round2_dbpedia.csv'\n",
    "file_path_validate = 'dataset\\Round2-SOTAB-CTA-DBP-Datasets\\sotab_cta_validation_round2_dbpedia.csv' \n",
    "file_path_test = 'dataset\\Round2-SOTAB-CTA-DBP-Datasets\\sotab_cta_test_targets_round2_dbpedia.csv'\n",
    "\n",
    "df_train = pd.read_csv(file_path_train)\n",
    "df_validate = pd.read_csv(file_path_validate)\n",
    "df_test = pd.read_csv(file_path_test)\n",
    "\n",
    "print(f'\\n Dimension of the train dataframe are {df_train.shape}')\n",
    "print(f'\\n Dimension of the validaiton dataframe are {df_validate.shape}')\n",
    "print(f'\\n Dimension of the test dataframe are {df_test.shape}')"
   ]
  },
  {
   "cell_type": "code",
   "execution_count": 12,
   "id": "97cf21fb",
   "metadata": {},
   "outputs": [
    {
     "name": "stdout",
     "output_type": "stream",
     "text": [
      "Training dataset\n"
     ]
    },
    {
     "data": {
      "text/html": [
       "<div>\n",
       "<style scoped>\n",
       "    .dataframe tbody tr th:only-of-type {\n",
       "        vertical-align: middle;\n",
       "    }\n",
       "\n",
       "    .dataframe tbody tr th {\n",
       "        vertical-align: top;\n",
       "    }\n",
       "\n",
       "    .dataframe thead th {\n",
       "        text-align: right;\n",
       "    }\n",
       "</style>\n",
       "<table border=\"1\" class=\"dataframe\">\n",
       "  <thead>\n",
       "    <tr style=\"text-align: right;\">\n",
       "      <th></th>\n",
       "      <th>table_name</th>\n",
       "      <th>column_index</th>\n",
       "      <th>label</th>\n",
       "    </tr>\n",
       "  </thead>\n",
       "  <tbody>\n",
       "    <tr>\n",
       "      <th>0</th>\n",
       "      <td>Book_11x17.pt_September2020_CTA.json.gz</td>\n",
       "      <td>3</td>\n",
       "      <td>https://dbpedia.org/ontology/date</td>\n",
       "    </tr>\n",
       "    <tr>\n",
       "      <th>1</th>\n",
       "      <td>Book_12min.com_September2020_CTA.json.gz</td>\n",
       "      <td>0</td>\n",
       "      <td>https://dbpedia.org/ontology/Book</td>\n",
       "    </tr>\n",
       "    <tr>\n",
       "      <th>2</th>\n",
       "      <td>Book_12min.com_September2020_CTA.json.gz</td>\n",
       "      <td>2</td>\n",
       "      <td>https://dbpedia.org/ontology/Language</td>\n",
       "    </tr>\n",
       "    <tr>\n",
       "      <th>3</th>\n",
       "      <td>Book_1carpetcleaning.co.uk_September2020_CTA.j...</td>\n",
       "      <td>0</td>\n",
       "      <td>https://dbpedia.org/ontology/Organisation</td>\n",
       "    </tr>\n",
       "    <tr>\n",
       "      <th>4</th>\n",
       "      <td>Book_1carpetcleaning.co.uk_September2020_CTA.j...</td>\n",
       "      <td>7</td>\n",
       "      <td>https://dbpedia.org/ontology/Person</td>\n",
       "    </tr>\n",
       "  </tbody>\n",
       "</table>\n",
       "</div>"
      ],
      "text/plain": [
       "                                          table_name  column_index  \\\n",
       "0            Book_11x17.pt_September2020_CTA.json.gz             3   \n",
       "1           Book_12min.com_September2020_CTA.json.gz             0   \n",
       "2           Book_12min.com_September2020_CTA.json.gz             2   \n",
       "3  Book_1carpetcleaning.co.uk_September2020_CTA.j...             0   \n",
       "4  Book_1carpetcleaning.co.uk_September2020_CTA.j...             7   \n",
       "\n",
       "                                       label  \n",
       "0          https://dbpedia.org/ontology/date  \n",
       "1          https://dbpedia.org/ontology/Book  \n",
       "2      https://dbpedia.org/ontology/Language  \n",
       "3  https://dbpedia.org/ontology/Organisation  \n",
       "4        https://dbpedia.org/ontology/Person  "
      ]
     },
     "execution_count": 12,
     "metadata": {},
     "output_type": "execute_result"
    }
   ],
   "source": [
    "print('Training dataset')\n",
    "df_train.head()"
   ]
  },
  {
   "cell_type": "code",
   "execution_count": 13,
   "id": "78e10a29",
   "metadata": {},
   "outputs": [
    {
     "name": "stdout",
     "output_type": "stream",
     "text": [
      "Validaiton dataset\n"
     ]
    },
    {
     "data": {
      "text/html": [
       "<div>\n",
       "<style scoped>\n",
       "    .dataframe tbody tr th:only-of-type {\n",
       "        vertical-align: middle;\n",
       "    }\n",
       "\n",
       "    .dataframe tbody tr th {\n",
       "        vertical-align: top;\n",
       "    }\n",
       "\n",
       "    .dataframe thead th {\n",
       "        text-align: right;\n",
       "    }\n",
       "</style>\n",
       "<table border=\"1\" class=\"dataframe\">\n",
       "  <thead>\n",
       "    <tr style=\"text-align: right;\">\n",
       "      <th></th>\n",
       "      <th>table_name</th>\n",
       "      <th>column_index</th>\n",
       "      <th>label</th>\n",
       "    </tr>\n",
       "  </thead>\n",
       "  <tbody>\n",
       "    <tr>\n",
       "      <th>0</th>\n",
       "      <td>CreativeWork_1stpreschurchionia.com_September2...</td>\n",
       "      <td>0</td>\n",
       "      <td>https://dbpedia.org/ontology/WrittenWork</td>\n",
       "    </tr>\n",
       "    <tr>\n",
       "      <th>1</th>\n",
       "      <td>CreativeWork_1stpreschurchionia.com_September2...</td>\n",
       "      <td>2</td>\n",
       "      <td>https://dbpedia.org/ontology/Person</td>\n",
       "    </tr>\n",
       "    <tr>\n",
       "      <th>2</th>\n",
       "      <td>CreativeWork_221plus.ie_September2020_CTA.json.gz</td>\n",
       "      <td>2</td>\n",
       "      <td>https://dbpedia.org/ontology/dateTime</td>\n",
       "    </tr>\n",
       "    <tr>\n",
       "      <th>3</th>\n",
       "      <td>CreativeWork_221plus.ie_September2020_CTA.json.gz</td>\n",
       "      <td>3</td>\n",
       "      <td>https://dbpedia.org/ontology/dateTime</td>\n",
       "    </tr>\n",
       "    <tr>\n",
       "      <th>4</th>\n",
       "      <td>CreativeWork_222home.com_September2020_CTA.jso...</td>\n",
       "      <td>2</td>\n",
       "      <td>https://dbpedia.org/ontology/Organisation</td>\n",
       "    </tr>\n",
       "  </tbody>\n",
       "</table>\n",
       "</div>"
      ],
      "text/plain": [
       "                                          table_name  column_index  \\\n",
       "0  CreativeWork_1stpreschurchionia.com_September2...             0   \n",
       "1  CreativeWork_1stpreschurchionia.com_September2...             2   \n",
       "2  CreativeWork_221plus.ie_September2020_CTA.json.gz             2   \n",
       "3  CreativeWork_221plus.ie_September2020_CTA.json.gz             3   \n",
       "4  CreativeWork_222home.com_September2020_CTA.jso...             2   \n",
       "\n",
       "                                       label  \n",
       "0   https://dbpedia.org/ontology/WrittenWork  \n",
       "1        https://dbpedia.org/ontology/Person  \n",
       "2      https://dbpedia.org/ontology/dateTime  \n",
       "3      https://dbpedia.org/ontology/dateTime  \n",
       "4  https://dbpedia.org/ontology/Organisation  "
      ]
     },
     "execution_count": 13,
     "metadata": {},
     "output_type": "execute_result"
    }
   ],
   "source": [
    "print('Validaiton dataset')\n",
    "df_validate.head()"
   ]
  },
  {
   "cell_type": "code",
   "execution_count": 14,
   "id": "5272e91c",
   "metadata": {},
   "outputs": [
    {
     "name": "stdout",
     "output_type": "stream",
     "text": [
      "Test dataset\n"
     ]
    },
    {
     "data": {
      "text/html": [
       "<div>\n",
       "<style scoped>\n",
       "    .dataframe tbody tr th:only-of-type {\n",
       "        vertical-align: middle;\n",
       "    }\n",
       "\n",
       "    .dataframe tbody tr th {\n",
       "        vertical-align: top;\n",
       "    }\n",
       "\n",
       "    .dataframe thead th {\n",
       "        text-align: right;\n",
       "    }\n",
       "</style>\n",
       "<table border=\"1\" class=\"dataframe\">\n",
       "  <thead>\n",
       "    <tr style=\"text-align: right;\">\n",
       "      <th></th>\n",
       "      <th>table_name</th>\n",
       "      <th>column_index</th>\n",
       "    </tr>\n",
       "  </thead>\n",
       "  <tbody>\n",
       "    <tr>\n",
       "      <th>0</th>\n",
       "      <td>CreativeWork_2agenten.com_September2020_CTA.js...</td>\n",
       "      <td>1</td>\n",
       "    </tr>\n",
       "    <tr>\n",
       "      <th>1</th>\n",
       "      <td>CreativeWork_biliranisland.com_September2020_C...</td>\n",
       "      <td>3</td>\n",
       "    </tr>\n",
       "    <tr>\n",
       "      <th>2</th>\n",
       "      <td>CreativeWork_biliranisland.com_September2020_C...</td>\n",
       "      <td>4</td>\n",
       "    </tr>\n",
       "    <tr>\n",
       "      <th>3</th>\n",
       "      <td>CreativeWork_biodiversitylibrary.org_September...</td>\n",
       "      <td>2</td>\n",
       "    </tr>\n",
       "    <tr>\n",
       "      <th>4</th>\n",
       "      <td>CreativeWork_cityofmulberryfl.org_September202...</td>\n",
       "      <td>0</td>\n",
       "    </tr>\n",
       "  </tbody>\n",
       "</table>\n",
       "</div>"
      ],
      "text/plain": [
       "                                          table_name  column_index\n",
       "0  CreativeWork_2agenten.com_September2020_CTA.js...             1\n",
       "1  CreativeWork_biliranisland.com_September2020_C...             3\n",
       "2  CreativeWork_biliranisland.com_September2020_C...             4\n",
       "3  CreativeWork_biodiversitylibrary.org_September...             2\n",
       "4  CreativeWork_cityofmulberryfl.org_September202...             0"
      ]
     },
     "execution_count": 14,
     "metadata": {},
     "output_type": "execute_result"
    }
   ],
   "source": [
    "print('Test dataset')\n",
    "df_test.head()"
   ]
  },
  {
   "cell_type": "markdown",
   "id": "ac5d4d95",
   "metadata": {},
   "source": [
    "### Functional Data Analysis (FDA) on Train dataset"
   ]
  },
  {
   "cell_type": "code",
   "execution_count": 15,
   "id": "5116db31",
   "metadata": {},
   "outputs": [
    {
     "data": {
      "text/html": [
       "<div>\n",
       "<style scoped>\n",
       "    .dataframe tbody tr th:only-of-type {\n",
       "        vertical-align: middle;\n",
       "    }\n",
       "\n",
       "    .dataframe tbody tr th {\n",
       "        vertical-align: top;\n",
       "    }\n",
       "\n",
       "    .dataframe thead th {\n",
       "        text-align: right;\n",
       "    }\n",
       "</style>\n",
       "<table border=\"1\" class=\"dataframe\">\n",
       "  <thead>\n",
       "    <tr style=\"text-align: right;\">\n",
       "      <th></th>\n",
       "      <th>table_name</th>\n",
       "      <th>column_index</th>\n",
       "      <th>label</th>\n",
       "    </tr>\n",
       "  </thead>\n",
       "  <tbody>\n",
       "    <tr>\n",
       "      <th>0</th>\n",
       "      <td>Book_11x17.pt_September2020_CTA.json.gz</td>\n",
       "      <td>3</td>\n",
       "      <td>https://dbpedia.org/ontology/date</td>\n",
       "    </tr>\n",
       "    <tr>\n",
       "      <th>1</th>\n",
       "      <td>Book_12min.com_September2020_CTA.json.gz</td>\n",
       "      <td>0</td>\n",
       "      <td>https://dbpedia.org/ontology/Book</td>\n",
       "    </tr>\n",
       "    <tr>\n",
       "      <th>2</th>\n",
       "      <td>Book_12min.com_September2020_CTA.json.gz</td>\n",
       "      <td>2</td>\n",
       "      <td>https://dbpedia.org/ontology/Language</td>\n",
       "    </tr>\n",
       "    <tr>\n",
       "      <th>3</th>\n",
       "      <td>Book_1carpetcleaning.co.uk_September2020_CTA.j...</td>\n",
       "      <td>0</td>\n",
       "      <td>https://dbpedia.org/ontology/Organisation</td>\n",
       "    </tr>\n",
       "    <tr>\n",
       "      <th>4</th>\n",
       "      <td>Book_1carpetcleaning.co.uk_September2020_CTA.j...</td>\n",
       "      <td>7</td>\n",
       "      <td>https://dbpedia.org/ontology/Person</td>\n",
       "    </tr>\n",
       "  </tbody>\n",
       "</table>\n",
       "</div>"
      ],
      "text/plain": [
       "                                          table_name  column_index  \\\n",
       "0            Book_11x17.pt_September2020_CTA.json.gz             3   \n",
       "1           Book_12min.com_September2020_CTA.json.gz             0   \n",
       "2           Book_12min.com_September2020_CTA.json.gz             2   \n",
       "3  Book_1carpetcleaning.co.uk_September2020_CTA.j...             0   \n",
       "4  Book_1carpetcleaning.co.uk_September2020_CTA.j...             7   \n",
       "\n",
       "                                       label  \n",
       "0          https://dbpedia.org/ontology/date  \n",
       "1          https://dbpedia.org/ontology/Book  \n",
       "2      https://dbpedia.org/ontology/Language  \n",
       "3  https://dbpedia.org/ontology/Organisation  \n",
       "4        https://dbpedia.org/ontology/Person  "
      ]
     },
     "execution_count": 15,
     "metadata": {},
     "output_type": "execute_result"
    }
   ],
   "source": [
    "# Look at the head of the train dataset\n",
    "df_train.head()"
   ]
  },
  {
   "cell_type": "code",
   "execution_count": 16,
   "id": "9e403d3a",
   "metadata": {},
   "outputs": [
    {
     "data": {
      "text/plain": [
       "<pandas.core.groupby.generic.DataFrameGroupBy object at 0x0000024A00EAD4C0>"
      ]
     },
     "execution_count": 16,
     "metadata": {},
     "output_type": "execute_result"
    }
   ],
   "source": [
    "# Create a sample with labels which occures atleast 2 or 3 times\n",
    "\n",
    "# Make a groupby with the specific column --> here it is label\n",
    "grouped = df_train.groupby('label')\n",
    "grouped"
   ]
  },
  {
   "cell_type": "code",
   "execution_count": 17,
   "id": "ef35d67a",
   "metadata": {},
   "outputs": [],
   "source": [
    "# Capturing specific raws which can be processed on the machine\n",
    "\n",
    "# df_train_5 = df_train[:1000]\n",
    "df_train_5 = grouped.apply(lambda x: x.sample(n=15))\n",
    "df_train_5 = df_train_5.reset_index(drop=True)"
   ]
  },
  {
   "cell_type": "code",
   "execution_count": 18,
   "id": "230aa3c3",
   "metadata": {},
   "outputs": [
    {
     "name": "stdout",
     "output_type": "stream",
     "text": [
      "Total number of samples in dataset are: 256683\n",
      "Total number of unique tables present in training dataset: 37631\n",
      "Total number of unique labels present in training dataset: 46\n"
     ]
    }
   ],
   "source": [
    "print(f\"Total number of samples in dataset are: {df_train.size}\")\n",
    "print(f\"Total number of unique tables present in training dataset: {df_train['table_name'].nunique()}\")\n",
    "print(f\"Total number of unique labels present in training dataset: {df_train['label'].nunique()}\")\n",
    "\n",
    "# print(f'Highest number of column idex is: {df_train[\"column_index\"].max}')"
   ]
  },
  {
   "cell_type": "code",
   "execution_count": 19,
   "id": "eb2c90a7",
   "metadata": {},
   "outputs": [
    {
     "data": {
      "text/plain": [
       "29"
      ]
     },
     "execution_count": 19,
     "metadata": {},
     "output_type": "execute_result"
    }
   ],
   "source": [
    "df_train['column_index'].max()"
   ]
  },
  {
   "cell_type": "code",
   "execution_count": 20,
   "id": "1deb7814",
   "metadata": {},
   "outputs": [],
   "source": [
    "# Maximum number of column_index a table can have\n",
    "maximum_no_of_column_by_table = df_train.groupby('table_name')['column_index'].max() + 1"
   ]
  },
  {
   "cell_type": "code",
   "execution_count": 21,
   "id": "375e371c",
   "metadata": {},
   "outputs": [],
   "source": [
    "maximum_no_of_column_by_table_to_df = maximum_no_of_column_by_table.reset_index()"
   ]
  },
  {
   "cell_type": "code",
   "execution_count": 22,
   "id": "5fc094c1",
   "metadata": {},
   "outputs": [
    {
     "data": {
      "text/html": [
       "<div>\n",
       "<style scoped>\n",
       "    .dataframe tbody tr th:only-of-type {\n",
       "        vertical-align: middle;\n",
       "    }\n",
       "\n",
       "    .dataframe tbody tr th {\n",
       "        vertical-align: top;\n",
       "    }\n",
       "\n",
       "    .dataframe thead th {\n",
       "        text-align: right;\n",
       "    }\n",
       "</style>\n",
       "<table border=\"1\" class=\"dataframe\">\n",
       "  <thead>\n",
       "    <tr style=\"text-align: right;\">\n",
       "      <th></th>\n",
       "      <th>table_name</th>\n",
       "      <th>column_index</th>\n",
       "    </tr>\n",
       "  </thead>\n",
       "  <tbody>\n",
       "    <tr>\n",
       "      <th>0</th>\n",
       "      <td>Book_11x17.pt_September2020_CTA.json.gz</td>\n",
       "      <td>4</td>\n",
       "    </tr>\n",
       "    <tr>\n",
       "      <th>1</th>\n",
       "      <td>Book_12min.com_September2020_CTA.json.gz</td>\n",
       "      <td>3</td>\n",
       "    </tr>\n",
       "    <tr>\n",
       "      <th>2</th>\n",
       "      <td>Book_1carpetcleaning.co.uk_September2020_CTA.j...</td>\n",
       "      <td>8</td>\n",
       "    </tr>\n",
       "    <tr>\n",
       "      <th>3</th>\n",
       "      <td>Book_247creative.de_September2020_CTA.json.gz</td>\n",
       "      <td>7</td>\n",
       "    </tr>\n",
       "    <tr>\n",
       "      <th>4</th>\n",
       "      <td>Book_24symbols.com_September2020_CTA.json.gz</td>\n",
       "      <td>5</td>\n",
       "    </tr>\n",
       "  </tbody>\n",
       "</table>\n",
       "</div>"
      ],
      "text/plain": [
       "                                          table_name  column_index\n",
       "0            Book_11x17.pt_September2020_CTA.json.gz             4\n",
       "1           Book_12min.com_September2020_CTA.json.gz             3\n",
       "2  Book_1carpetcleaning.co.uk_September2020_CTA.j...             8\n",
       "3      Book_247creative.de_September2020_CTA.json.gz             7\n",
       "4       Book_24symbols.com_September2020_CTA.json.gz             5"
      ]
     },
     "execution_count": 22,
     "metadata": {},
     "output_type": "execute_result"
    }
   ],
   "source": [
    "maximum_no_of_column_by_table_to_df.head()"
   ]
  },
  {
   "cell_type": "code",
   "execution_count": 23,
   "id": "0cfae287",
   "metadata": {},
   "outputs": [],
   "source": [
    "value_counts = maximum_no_of_column_by_table_to_df['column_index'].value_counts().sort_index()"
   ]
  },
  {
   "cell_type": "code",
   "execution_count": 24,
   "id": "707294e1",
   "metadata": {},
   "outputs": [
    {
     "data": {
      "image/png": "[encoded data removed]",
      "text/plain": [
       "<Figure size 1000x600 with 1 Axes>"
      ]
     },
     "metadata": {},
     "output_type": "display_data"
    }
   ],
   "source": [
    "# setting a figure size\n",
    "plt.figure(figsize=(10, 6))\n",
    "\n",
    "# plotting the bar chart\n",
    "ax = value_counts.plot(kind='bar', width=0.8)\n",
    "\n",
    "# settting the labels and title\n",
    "plt.xlabel('Total number of coulumns')\n",
    "plt.ylabel('Number of tables')\n",
    "plt.title('Number of columns, tables have')\n",
    "\n",
    "# Add count values on top of each bar\n",
    "for i, v in enumerate(value_counts):\n",
    "    ax.text(i, v, str(v), ha='center', va='bottom', rotation=45, fontsize=8)\n",
    "\n",
    "# displaying the chart\n",
    "plt.show()\n",
    "\n",
    "# # Print the value counts\n",
    "# print(\"Value Counts:\")\n",
    "# print(value_counts)"
   ]
  },
  {
   "cell_type": "code",
   "execution_count": null,
   "id": "b0212ba7",
   "metadata": {},
   "outputs": [],
   "source": []
  },
  {
   "cell_type": "markdown",
   "id": "16db6b37",
   "metadata": {},
   "source": [
    "#### Prepapring the input file dataset "
   ]
  },
  {
   "cell_type": "code",
   "execution_count": 25,
   "id": "1e3d63a6",
   "metadata": {},
   "outputs": [],
   "source": [
    "# Path to the folder where the tables are stored\n",
    "folder_path = 'dataset/Round2-SOTAB-CTA-Tables/'\n",
    "\n",
    "# A column 'data_value' will work as a input dataset to our model\n",
    "df_train_5['data_value'] = None\n",
    "\n",
    "# Iterate over each row in the dataframe\n",
    "for index, row in df_train_5.iterrows():\n",
    "    table_name = row['table_name']\n",
    "    column_name = row['column_index']\n",
    "    \n",
    "    # Check if the table file exists in the folder\n",
    "    table_file_path = os.path.join(folder_path, table_name)  # Assuming the tables are stored as CSV files\n",
    "    \n",
    "    if os.path.isfile(table_file_path):\n",
    "        # Load the table file into a dataframe\n",
    "        table_df = pd.read_json(table_file_path, lines=True, compression='gzip')\n",
    "        \n",
    "        # Check if the column exists in the table dataframe\n",
    "        if column_name in table_df.columns:\n",
    "            # Fetch the column data\n",
    "            column_data = table_df[column_name]\n",
    "            \n",
    "            # Assign the column data to the 'data_value' column in the original dataframe\n",
    "            df_train_5.at[index, 'data_value'] = column_data.tolist()\n",
    "            \n",
    "            # Do something with the column data\n",
    "            # For example, print the first 5 values\n",
    "#             print(f\"Table: {table_name}, Column: {column_name}\")\n",
    "#             print(column_data.head())\n",
    "#             print()\n",
    "        else:\n",
    "            print(f\"Column '{column_name}' does not exist in table '{table_name}'.\")\n",
    "    else:\n",
    "        print(f\"Table '{table_name}' does not exist in the folder.\")\n",
    "\n"
   ]
  },
  {
   "cell_type": "code",
   "execution_count": 26,
   "id": "f1c53d14",
   "metadata": {},
   "outputs": [
    {
     "data": {
      "text/html": [
       "<div>\n",
       "<style scoped>\n",
       "    .dataframe tbody tr th:only-of-type {\n",
       "        vertical-align: middle;\n",
       "    }\n",
       "\n",
       "    .dataframe tbody tr th {\n",
       "        vertical-align: top;\n",
       "    }\n",
       "\n",
       "    .dataframe thead th {\n",
       "        text-align: right;\n",
       "    }\n",
       "</style>\n",
       "<table border=\"1\" class=\"dataframe\">\n",
       "  <thead>\n",
       "    <tr style=\"text-align: right;\">\n",
       "      <th></th>\n",
       "      <th>table_name</th>\n",
       "      <th>column_index</th>\n",
       "      <th>label</th>\n",
       "      <th>data_value</th>\n",
       "    </tr>\n",
       "  </thead>\n",
       "  <tbody>\n",
       "    <tr>\n",
       "      <th>0</th>\n",
       "      <td>MusicRecording_watchfuleye.com_September2020_C...</td>\n",
       "      <td>3</td>\n",
       "      <td>https://dbpedia.org/ontology/Album</td>\n",
       "      <td>[Tangent, Early Work, Tangent, Early Work, Tan...</td>\n",
       "    </tr>\n",
       "    <tr>\n",
       "      <th>1</th>\n",
       "      <td>MusicRecording_theanxietyeffect.net_September2...</td>\n",
       "      <td>3</td>\n",
       "      <td>https://dbpedia.org/ontology/Album</td>\n",
       "      <td>[The Anxiety Effect E.P., Neon Raid, Neon Raid...</td>\n",
       "    </tr>\n",
       "    <tr>\n",
       "      <th>2</th>\n",
       "      <td>MusicAlbum_hotlbr.com_September2020_CTA.json.gz</td>\n",
       "      <td>0</td>\n",
       "      <td>https://dbpedia.org/ontology/Album</td>\n",
       "      <td>[P Flow Ft HudzPro – Sexy Lady, ELLE P DA FIYA...</td>\n",
       "    </tr>\n",
       "    <tr>\n",
       "      <th>3</th>\n",
       "      <td>MusicRecording_lntmusic.com_September2020_CTA....</td>\n",
       "      <td>3</td>\n",
       "      <td>https://dbpedia.org/ontology/Album</td>\n",
       "      <td>[Worth It., Moonlit Memories EP, Moonlit Memor...</td>\n",
       "    </tr>\n",
       "    <tr>\n",
       "      <th>4</th>\n",
       "      <td>MusicRecording_davestanleyband.com_September20...</td>\n",
       "      <td>2</td>\n",
       "      <td>https://dbpedia.org/ontology/Album</td>\n",
       "      <td>[Dave Stanley Band, None, None, Dave Stanley B...</td>\n",
       "    </tr>\n",
       "    <tr>\n",
       "      <th>...</th>\n",
       "      <td>...</td>\n",
       "      <td>...</td>\n",
       "      <td>...</td>\n",
       "      <td>...</td>\n",
       "    </tr>\n",
       "    <tr>\n",
       "      <th>685</th>\n",
       "      <td>Product_thepashm.com_September2020_CTA.json.gz</td>\n",
       "      <td>4</td>\n",
       "      <td>https://dbpedia.org/ontology/weight</td>\n",
       "      <td>[None, None, 6.3oz, 10.0oz, 10.0oz, 8.0oz, 10....</td>\n",
       "    </tr>\n",
       "    <tr>\n",
       "      <th>686</th>\n",
       "      <td>Product_lojamises.com.br_September2020_CTA.jso...</td>\n",
       "      <td>2</td>\n",
       "      <td>https://dbpedia.org/ontology/weight</td>\n",
       "      <td>[185 g, 159 g, 185 g, 120 g, 159 g, 329 g, 195...</td>\n",
       "    </tr>\n",
       "    <tr>\n",
       "      <th>687</th>\n",
       "      <td>Product_vesuviustreamline.com_September2020_CT...</td>\n",
       "      <td>2</td>\n",
       "      <td>https://dbpedia.org/ontology/weight</td>\n",
       "      <td>[1.000 Kgs, 4.000 Kgs, 0.300 Kgs, 0.200 Kgs, 0...</td>\n",
       "    </tr>\n",
       "    <tr>\n",
       "      <th>688</th>\n",
       "      <td>Product_bachelorettepartyfun.com_September2020...</td>\n",
       "      <td>7</td>\n",
       "      <td>https://dbpedia.org/ontology/weight</td>\n",
       "      <td>[1.55 lbs, 1.25 lbs, 0.15 lbs, 0.20 lbs, 0.32 ...</td>\n",
       "    </tr>\n",
       "    <tr>\n",
       "      <th>689</th>\n",
       "      <td>Product_newbalance.se_September2020_CTA.json.gz</td>\n",
       "      <td>2</td>\n",
       "      <td>https://dbpedia.org/ontology/weight</td>\n",
       "      <td>[272 grams (9.6 oz), None, None, 406 grams (14...</td>\n",
       "    </tr>\n",
       "  </tbody>\n",
       "</table>\n",
       "<p>690 rows × 4 columns</p>\n",
       "</div>"
      ],
      "text/plain": [
       "                                            table_name  column_index  \\\n",
       "0    MusicRecording_watchfuleye.com_September2020_C...             3   \n",
       "1    MusicRecording_theanxietyeffect.net_September2...             3   \n",
       "2      MusicAlbum_hotlbr.com_September2020_CTA.json.gz             0   \n",
       "3    MusicRecording_lntmusic.com_September2020_CTA....             3   \n",
       "4    MusicRecording_davestanleyband.com_September20...             2   \n",
       "..                                                 ...           ...   \n",
       "685     Product_thepashm.com_September2020_CTA.json.gz             4   \n",
       "686  Product_lojamises.com.br_September2020_CTA.jso...             2   \n",
       "687  Product_vesuviustreamline.com_September2020_CT...             2   \n",
       "688  Product_bachelorettepartyfun.com_September2020...             7   \n",
       "689    Product_newbalance.se_September2020_CTA.json.gz             2   \n",
       "\n",
       "                                   label  \\\n",
       "0     https://dbpedia.org/ontology/Album   \n",
       "1     https://dbpedia.org/ontology/Album   \n",
       "2     https://dbpedia.org/ontology/Album   \n",
       "3     https://dbpedia.org/ontology/Album   \n",
       "4     https://dbpedia.org/ontology/Album   \n",
       "..                                   ...   \n",
       "685  https://dbpedia.org/ontology/weight   \n",
       "686  https://dbpedia.org/ontology/weight   \n",
       "687  https://dbpedia.org/ontology/weight   \n",
       "688  https://dbpedia.org/ontology/weight   \n",
       "689  https://dbpedia.org/ontology/weight   \n",
       "\n",
       "                                            data_value  \n",
       "0    [Tangent, Early Work, Tangent, Early Work, Tan...  \n",
       "1    [The Anxiety Effect E.P., Neon Raid, Neon Raid...  \n",
       "2    [P Flow Ft HudzPro – Sexy Lady, ELLE P DA FIYA...  \n",
       "3    [Worth It., Moonlit Memories EP, Moonlit Memor...  \n",
       "4    [Dave Stanley Band, None, None, Dave Stanley B...  \n",
       "..                                                 ...  \n",
       "685  [None, None, 6.3oz, 10.0oz, 10.0oz, 8.0oz, 10....  \n",
       "686  [185 g, 159 g, 185 g, 120 g, 159 g, 329 g, 195...  \n",
       "687  [1.000 Kgs, 4.000 Kgs, 0.300 Kgs, 0.200 Kgs, 0...  \n",
       "688  [1.55 lbs, 1.25 lbs, 0.15 lbs, 0.20 lbs, 0.32 ...  \n",
       "689  [272 grams (9.6 oz), None, None, 406 grams (14...  \n",
       "\n",
       "[690 rows x 4 columns]"
      ]
     },
     "execution_count": 26,
     "metadata": {},
     "output_type": "execute_result"
    }
   ],
   "source": [
    "df_train_5"
   ]
  },
  {
   "cell_type": "code",
   "execution_count": 27,
   "id": "32e31e76",
   "metadata": {},
   "outputs": [
    {
     "data": {
      "text/html": [
       "<div>\n",
       "<style scoped>\n",
       "    .dataframe tbody tr th:only-of-type {\n",
       "        vertical-align: middle;\n",
       "    }\n",
       "\n",
       "    .dataframe tbody tr th {\n",
       "        vertical-align: top;\n",
       "    }\n",
       "\n",
       "    .dataframe thead th {\n",
       "        text-align: right;\n",
       "    }\n",
       "</style>\n",
       "<table border=\"1\" class=\"dataframe\">\n",
       "  <thead>\n",
       "    <tr style=\"text-align: right;\">\n",
       "      <th></th>\n",
       "      <th>label</th>\n",
       "      <th>data_value</th>\n",
       "    </tr>\n",
       "  </thead>\n",
       "  <tbody>\n",
       "    <tr>\n",
       "      <th>0</th>\n",
       "      <td>https://dbpedia.org/ontology/Album</td>\n",
       "      <td>[Tangent, Early Work, Tangent, Early Work, Tan...</td>\n",
       "    </tr>\n",
       "    <tr>\n",
       "      <th>1</th>\n",
       "      <td>https://dbpedia.org/ontology/Album</td>\n",
       "      <td>[The Anxiety Effect E.P., Neon Raid, Neon Raid...</td>\n",
       "    </tr>\n",
       "    <tr>\n",
       "      <th>2</th>\n",
       "      <td>https://dbpedia.org/ontology/Album</td>\n",
       "      <td>[P Flow Ft HudzPro – Sexy Lady, ELLE P DA FIYA...</td>\n",
       "    </tr>\n",
       "    <tr>\n",
       "      <th>3</th>\n",
       "      <td>https://dbpedia.org/ontology/Album</td>\n",
       "      <td>[Worth It., Moonlit Memories EP, Moonlit Memor...</td>\n",
       "    </tr>\n",
       "    <tr>\n",
       "      <th>4</th>\n",
       "      <td>https://dbpedia.org/ontology/Album</td>\n",
       "      <td>[Dave Stanley Band, None, None, Dave Stanley B...</td>\n",
       "    </tr>\n",
       "    <tr>\n",
       "      <th>...</th>\n",
       "      <td>...</td>\n",
       "      <td>...</td>\n",
       "    </tr>\n",
       "    <tr>\n",
       "      <th>685</th>\n",
       "      <td>https://dbpedia.org/ontology/weight</td>\n",
       "      <td>[None, None, 6.3oz, 10.0oz, 10.0oz, 8.0oz, 10....</td>\n",
       "    </tr>\n",
       "    <tr>\n",
       "      <th>686</th>\n",
       "      <td>https://dbpedia.org/ontology/weight</td>\n",
       "      <td>[185 g, 159 g, 185 g, 120 g, 159 g, 329 g, 195...</td>\n",
       "    </tr>\n",
       "    <tr>\n",
       "      <th>687</th>\n",
       "      <td>https://dbpedia.org/ontology/weight</td>\n",
       "      <td>[1.000 Kgs, 4.000 Kgs, 0.300 Kgs, 0.200 Kgs, 0...</td>\n",
       "    </tr>\n",
       "    <tr>\n",
       "      <th>688</th>\n",
       "      <td>https://dbpedia.org/ontology/weight</td>\n",
       "      <td>[1.55 lbs, 1.25 lbs, 0.15 lbs, 0.20 lbs, 0.32 ...</td>\n",
       "    </tr>\n",
       "    <tr>\n",
       "      <th>689</th>\n",
       "      <td>https://dbpedia.org/ontology/weight</td>\n",
       "      <td>[272 grams (9.6 oz), None, None, 406 grams (14...</td>\n",
       "    </tr>\n",
       "  </tbody>\n",
       "</table>\n",
       "<p>690 rows × 2 columns</p>\n",
       "</div>"
      ],
      "text/plain": [
       "                                   label  \\\n",
       "0     https://dbpedia.org/ontology/Album   \n",
       "1     https://dbpedia.org/ontology/Album   \n",
       "2     https://dbpedia.org/ontology/Album   \n",
       "3     https://dbpedia.org/ontology/Album   \n",
       "4     https://dbpedia.org/ontology/Album   \n",
       "..                                   ...   \n",
       "685  https://dbpedia.org/ontology/weight   \n",
       "686  https://dbpedia.org/ontology/weight   \n",
       "687  https://dbpedia.org/ontology/weight   \n",
       "688  https://dbpedia.org/ontology/weight   \n",
       "689  https://dbpedia.org/ontology/weight   \n",
       "\n",
       "                                            data_value  \n",
       "0    [Tangent, Early Work, Tangent, Early Work, Tan...  \n",
       "1    [The Anxiety Effect E.P., Neon Raid, Neon Raid...  \n",
       "2    [P Flow Ft HudzPro – Sexy Lady, ELLE P DA FIYA...  \n",
       "3    [Worth It., Moonlit Memories EP, Moonlit Memor...  \n",
       "4    [Dave Stanley Band, None, None, Dave Stanley B...  \n",
       "..                                                 ...  \n",
       "685  [None, None, 6.3oz, 10.0oz, 10.0oz, 8.0oz, 10....  \n",
       "686  [185 g, 159 g, 185 g, 120 g, 159 g, 329 g, 195...  \n",
       "687  [1.000 Kgs, 4.000 Kgs, 0.300 Kgs, 0.200 Kgs, 0...  \n",
       "688  [1.55 lbs, 1.25 lbs, 0.15 lbs, 0.20 lbs, 0.32 ...  \n",
       "689  [272 grams (9.6 oz), None, None, 406 grams (14...  \n",
       "\n",
       "[690 rows x 2 columns]"
      ]
     },
     "execution_count": 27,
     "metadata": {},
     "output_type": "execute_result"
    }
   ],
   "source": [
    "df_train_5_ml = df_train_5[['label','data_value']]\n",
    "df_train_5_ml"
   ]
  },
  {
   "cell_type": "code",
   "execution_count": null,
   "id": "f04bbb00",
   "metadata": {},
   "outputs": [],
   "source": []
  },
  {
   "cell_type": "code",
   "execution_count": null,
   "id": "3548a853",
   "metadata": {},
   "outputs": [],
   "source": []
  },
  {
   "cell_type": "code",
   "execution_count": null,
   "id": "95095858",
   "metadata": {},
   "outputs": [],
   "source": []
  },
  {
   "cell_type": "code",
   "execution_count": null,
   "id": "a3567de9",
   "metadata": {},
   "outputs": [],
   "source": []
  },
  {
   "cell_type": "code",
   "execution_count": null,
   "id": "f03affd1",
   "metadata": {},
   "outputs": [],
   "source": []
  },
  {
   "cell_type": "code",
   "execution_count": null,
   "id": "f8e4d93b",
   "metadata": {},
   "outputs": [],
   "source": []
  },
  {
   "cell_type": "code",
   "execution_count": null,
   "id": "402d974d",
   "metadata": {},
   "outputs": [],
   "source": []
  },
  {
   "cell_type": "code",
   "execution_count": null,
   "id": "d7e72c6d",
   "metadata": {},
   "outputs": [],
   "source": []
  },
  {
   "cell_type": "markdown",
   "id": "c324c963",
   "metadata": {},
   "source": [
    "## Do some ML "
   ]
  },
  {
   "cell_type": "code",
   "execution_count": 29,
   "id": "b89b958c",
   "metadata": {},
   "outputs": [],
   "source": [
    "from sklearn.model_selection import train_test_split\n",
    "from sklearn.feature_extraction.text import CountVectorizer\n",
    "from sklearn.linear_model import LogisticRegression\n",
    "from sklearn.metrics import precision_score, recall_score, f1_score, classification_report"
   ]
  },
  {
   "cell_type": "code",
   "execution_count": 30,
   "id": "334dbb90",
   "metadata": {},
   "outputs": [],
   "source": [
    "new_df = df_train_5_ml.explode('data_value', ignore_index=True).apply(pd.Series.explode)"
   ]
  },
  {
   "cell_type": "code",
   "execution_count": 31,
   "id": "1bf5cc69",
   "metadata": {},
   "outputs": [
    {
     "data": {
      "text/plain": [
       "46"
      ]
     },
     "execution_count": 31,
     "metadata": {},
     "output_type": "execute_result"
    }
   ],
   "source": [
    "new_df['label'].nunique()"
   ]
  },
  {
   "cell_type": "code",
   "execution_count": 32,
   "id": "e03d7346",
   "metadata": {},
   "outputs": [
    {
     "name": "stdout",
     "output_type": "stream",
     "text": [
      "['https://dbpedia.org/ontology/Album' 'https://dbpedia.org/ontology/Book'\n",
      " 'https://dbpedia.org/ontology/Category'\n",
      " 'https://dbpedia.org/ontology/Company'\n",
      " 'https://dbpedia.org/ontology/Country'\n",
      " 'https://dbpedia.org/ontology/Currency'\n",
      " 'https://dbpedia.org/ontology/Event' 'https://dbpedia.org/ontology/Film'\n",
      " 'https://dbpedia.org/ontology/Hotel'\n",
      " 'https://dbpedia.org/ontology/Identifier'\n",
      " 'https://dbpedia.org/ontology/Image'\n",
      " 'https://dbpedia.org/ontology/Language'\n",
      " 'https://dbpedia.org/ontology/List'\n",
      " 'https://dbpedia.org/ontology/Locality'\n",
      " 'https://dbpedia.org/ontology/Museum'\n",
      " 'https://dbpedia.org/ontology/MusicalArtist'\n",
      " 'https://dbpedia.org/ontology/Organisation'\n",
      " 'https://dbpedia.org/ontology/Person'\n",
      " 'https://dbpedia.org/ontology/Place'\n",
      " 'https://dbpedia.org/ontology/PostalCode'\n",
      " 'https://dbpedia.org/ontology/Region'\n",
      " 'https://dbpedia.org/ontology/Restaurant'\n",
      " 'https://dbpedia.org/ontology/Song'\n",
      " 'https://dbpedia.org/ontology/SportsEvent'\n",
      " 'https://dbpedia.org/ontology/SportsTeam'\n",
      " 'https://dbpedia.org/ontology/Street'\n",
      " 'https://dbpedia.org/ontology/TelevisionEpisode'\n",
      " 'https://dbpedia.org/ontology/TelevisionShow'\n",
      " 'https://dbpedia.org/ontology/Website'\n",
      " 'https://dbpedia.org/ontology/WrittenWork'\n",
      " 'https://dbpedia.org/ontology/address'\n",
      " 'https://dbpedia.org/ontology/boolean'\n",
      " 'https://dbpedia.org/ontology/brand' 'https://dbpedia.org/ontology/date'\n",
      " 'https://dbpedia.org/ontology/dateTime'\n",
      " 'https://dbpedia.org/ontology/day'\n",
      " 'https://dbpedia.org/ontology/distance'\n",
      " 'https://dbpedia.org/ontology/duration'\n",
      " 'https://dbpedia.org/ontology/energy'\n",
      " 'https://dbpedia.org/ontology/gender' 'https://dbpedia.org/ontology/mass'\n",
      " 'https://dbpedia.org/ontology/price'\n",
      " 'https://dbpedia.org/ontology/rating'\n",
      " 'https://dbpedia.org/ontology/review' 'https://dbpedia.org/ontology/time'\n",
      " 'https://dbpedia.org/ontology/weight']\n"
     ]
    }
   ],
   "source": [
    "unique_labels = new_df['label'].unique()\n",
    "print(unique_labels)"
   ]
  },
  {
   "cell_type": "code",
   "execution_count": 33,
   "id": "f73334c8",
   "metadata": {},
   "outputs": [],
   "source": [
    "# Split the data into training and testing sets\n",
    "X_train, X_test, y_train, y_test = train_test_split(new_df['data_value'], new_df['label'], test_size=0.2, stratify=new_df['label'], random_state=42)"
   ]
  },
  {
   "cell_type": "code",
   "execution_count": 34,
   "id": "049f0ed2",
   "metadata": {},
   "outputs": [
    {
     "name": "stdout",
     "output_type": "stream",
     "text": [
      "(144380,)\n"
     ]
    }
   ],
   "source": [
    "print(y_train.shape)"
   ]
  },
  {
   "cell_type": "raw",
   "id": "16e03cf4",
   "metadata": {},
   "source": [
    "y_train"
   ]
  },
  {
   "cell_type": "code",
   "execution_count": 35,
   "id": "df94fe34",
   "metadata": {},
   "outputs": [],
   "source": [
    "# Convert X_train and X_test to lists of strings\n",
    "X_train = [str(x) for x in X_train]\n",
    "X_test = [str(x) for x in X_test]\n",
    "\n",
    "# Create an instance of CountVectorizer\n",
    "vectorizer = CountVectorizer()\n",
    "\n",
    "# Fit the vectorizer on the training data and transform the training and testing data\n",
    "X_train_vec = vectorizer.fit_transform(X_train)\n",
    "X_test_vec = vectorizer.transform(X_test)"
   ]
  },
  {
   "cell_type": "code",
   "execution_count": 36,
   "id": "30b90c89",
   "metadata": {},
   "outputs": [
    {
     "name": "stderr",
     "output_type": "stream",
     "text": [
      "C:\\Users\\Administrator\\anaconda3\\lib\\site-packages\\sklearn\\linear_model\\_logistic.py:814: ConvergenceWarning: lbfgs failed to converge (status=1):\n",
      "STOP: TOTAL NO. of ITERATIONS REACHED LIMIT.\n",
      "\n",
      "Increase the number of iterations (max_iter) or scale the data as shown in:\n",
      "    https://scikit-learn.org/stable/modules/preprocessing.html\n",
      "Please also refer to the documentation for alternative solver options:\n",
      "    https://scikit-learn.org/stable/modules/linear_model.html#logistic-regression\n",
      "  n_iter_i = _check_optimize_result(\n"
     ]
    },
    {
     "data": {
      "text/plain": [
       "LogisticRegression()"
      ]
     },
     "execution_count": 36,
     "metadata": {},
     "output_type": "execute_result"
    }
   ],
   "source": [
    "# Create an instance of the Logistic Regression model\n",
    "model = LogisticRegression()\n",
    "\n",
    "# Train the model\n",
    "model.fit(X_train_vec, y_train)"
   ]
  },
  {
   "cell_type": "code",
   "execution_count": 37,
   "id": "b5db9224",
   "metadata": {},
   "outputs": [
    {
     "name": "stdout",
     "output_type": "stream",
     "text": [
      "Accuracy: 0.7960382324421665\n"
     ]
    }
   ],
   "source": [
    "# Evaluate the model\n",
    "accuracy = model.score(X_test_vec, y_test)\n",
    "print(f\"Accuracy: {accuracy}\")"
   ]
  },
  {
   "cell_type": "code",
   "execution_count": 38,
   "id": "23893604",
   "metadata": {},
   "outputs": [],
   "source": [
    "# Make predictions on the test data\n",
    "y_pred = model.predict(X_test_vec)"
   ]
  },
  {
   "cell_type": "code",
   "execution_count": null,
   "id": "3f3b3bdd",
   "metadata": {},
   "outputs": [],
   "source": []
  },
  {
   "cell_type": "code",
   "execution_count": 42,
   "id": "78ba8495",
   "metadata": {},
   "outputs": [
    {
     "name": "stdout",
     "output_type": "stream",
     "text": [
      "Precision: 0.8955612770294398\n",
      "Recall: 0.7087267657523736\n",
      "F1 score: 0.7694985281768744\n"
     ]
    }
   ],
   "source": [
    "# Calculate precision, recall, and F1 score\n",
    "precision_macro = precision_score(y_test, y_pred, average='macro')\n",
    "recall_macro = recall_score(y_test, y_pred, average='macro')\n",
    "f1_macro = f1_score(y_test, y_pred, average='macro')\n",
    "\n",
    "print(f\"Precision: {precision_macro}\")\n",
    "print(f\"Recall: {recall_macro}\")\n",
    "print(f\"F1 score: {f1_macro}\")"
   ]
  },
  {
   "cell_type": "code",
   "execution_count": 40,
   "id": "5d280d11",
   "metadata": {},
   "outputs": [],
   "source": [
    "# new_lang = ['en-US']\n",
    "# new_lang_vec = vectorizer.transform(new_dates)\n",
    "\n",
    "# predictions = model.predict(new_lang_vec)\n",
    "# print(predictions)"
   ]
  },
  {
   "cell_type": "code",
   "execution_count": 41,
   "id": "cd6daf86",
   "metadata": {},
   "outputs": [
    {
     "name": "stdout",
     "output_type": "stream",
     "text": [
      "                                                precision    recall  f1-score   support\n",
      "\n",
      "            https://dbpedia.org/ontology/Album       0.69      0.21      0.33       579\n",
      "             https://dbpedia.org/ontology/Book       0.79      0.39      0.52       374\n",
      "         https://dbpedia.org/ontology/Category       0.94      0.80      0.87       515\n",
      "          https://dbpedia.org/ontology/Company       0.99      0.78      0.87       266\n",
      "          https://dbpedia.org/ontology/Country       0.90      0.89      0.89       407\n",
      "         https://dbpedia.org/ontology/Currency       0.99      1.00      1.00       288\n",
      "            https://dbpedia.org/ontology/Event       0.99      0.65      0.78       103\n",
      "             https://dbpedia.org/ontology/Film       0.71      0.64      0.67      2795\n",
      "            https://dbpedia.org/ontology/Hotel       0.94      0.91      0.93      1375\n",
      "       https://dbpedia.org/ontology/Identifier       0.68      0.19      0.30       238\n",
      "            https://dbpedia.org/ontology/Image       1.00      0.98      0.99       656\n",
      "         https://dbpedia.org/ontology/Language       0.99      0.99      0.99      1446\n",
      "             https://dbpedia.org/ontology/List       0.98      0.95      0.97      1052\n",
      "         https://dbpedia.org/ontology/Locality       0.97      0.73      0.83       470\n",
      "           https://dbpedia.org/ontology/Museum       0.92      0.62      0.74       204\n",
      "    https://dbpedia.org/ontology/MusicalArtist       0.96      0.89      0.92        61\n",
      "     https://dbpedia.org/ontology/Organisation       0.93      0.58      0.72       115\n",
      "           https://dbpedia.org/ontology/Person       1.00      0.85      0.92       183\n",
      "            https://dbpedia.org/ontology/Place       0.91      0.76      0.83       206\n",
      "       https://dbpedia.org/ontology/PostalCode       1.00      0.34      0.51       259\n",
      "           https://dbpedia.org/ontology/Region       0.92      0.85      0.88      1061\n",
      "       https://dbpedia.org/ontology/Restaurant       0.88      0.50      0.64       439\n",
      "             https://dbpedia.org/ontology/Song       0.60      0.60      0.60      2454\n",
      "      https://dbpedia.org/ontology/SportsEvent       0.96      0.84      0.90       315\n",
      "       https://dbpedia.org/ontology/SportsTeam       0.74      0.45      0.56       406\n",
      "           https://dbpedia.org/ontology/Street       0.81      0.69      0.74       181\n",
      "https://dbpedia.org/ontology/TelevisionEpisode       0.94      0.88      0.91      3181\n",
      "   https://dbpedia.org/ontology/TelevisionShow       0.63      0.95      0.76      3478\n",
      "          https://dbpedia.org/ontology/Website       1.00      0.89      0.94       749\n",
      "      https://dbpedia.org/ontology/WrittenWork       0.89      0.50      0.64       202\n",
      "          https://dbpedia.org/ontology/address       0.94      0.60      0.73       131\n",
      "          https://dbpedia.org/ontology/boolean       0.92      1.00      0.96       139\n",
      "            https://dbpedia.org/ontology/brand       0.93      0.53      0.67      1019\n",
      "             https://dbpedia.org/ontology/date       0.99      0.98      0.98       630\n",
      "         https://dbpedia.org/ontology/dateTime       0.96      0.61      0.75       148\n",
      "              https://dbpedia.org/ontology/day       0.99      0.99      0.99      1368\n",
      "         https://dbpedia.org/ontology/distance       0.91      0.75      0.83       322\n",
      "         https://dbpedia.org/ontology/duration       0.89      0.53      0.66       209\n",
      "           https://dbpedia.org/ontology/energy       0.99      0.35      0.51       325\n",
      "           https://dbpedia.org/ontology/gender       1.00      1.00      1.00      2390\n",
      "             https://dbpedia.org/ontology/mass       0.85      0.23      0.36       341\n",
      "            https://dbpedia.org/ontology/price       0.79      0.52      0.62       702\n",
      "           https://dbpedia.org/ontology/rating       0.51      0.96      0.66      2915\n",
      "           https://dbpedia.org/ontology/review       0.98      0.79      0.87       800\n",
      "             https://dbpedia.org/ontology/time       0.94      0.88      0.91       289\n",
      "           https://dbpedia.org/ontology/weight       0.96      0.59      0.73       309\n",
      "\n",
      "                                      accuracy                           0.80     36095\n",
      "                                     macro avg       0.90      0.71      0.77     36095\n",
      "                                  weighted avg       0.83      0.80      0.79     36095\n",
      "\n"
     ]
    }
   ],
   "source": [
    "report = classification_report(y_test, y_pred)\n",
    "print(report)"
   ]
  },
  {
   "cell_type": "code",
   "execution_count": null,
   "id": "92506850",
   "metadata": {},
   "outputs": [],
   "source": []
  },
  {
   "cell_type": "code",
   "execution_count": null,
   "id": "bfc3d4a9",
   "metadata": {},
   "outputs": [],
   "source": []
  },
  {
   "cell_type": "code",
   "execution_count": null,
   "id": "a10ab812",
   "metadata": {},
   "outputs": [],
   "source": []
  },
  {
   "cell_type": "code",
   "execution_count": null,
   "id": "583390da",
   "metadata": {},
   "outputs": [],
   "source": []
  },
  {
   "cell_type": "code",
   "execution_count": null,
   "id": "668ae0f7",
   "metadata": {},
   "outputs": [],
   "source": []
  },
  {
   "cell_type": "code",
   "execution_count": null,
   "id": "f52e9929",
   "metadata": {},
   "outputs": [],
   "source": []
  },
  {
   "cell_type": "code",
   "execution_count": null,
   "id": "9cd9d094",
   "metadata": {},
   "outputs": [],
   "source": []
  },
  {
   "cell_type": "markdown",
   "id": "17cf2af1",
   "metadata": {},
   "source": [
    "### Preparing the submission files for the competition"
   ]
  },
  {
   "cell_type": "code",
   "execution_count": 36,
   "id": "f2d1c5eb",
   "metadata": {},
   "outputs": [],
   "source": [
    "df_test_4 = df_test[:]"
   ]
  },
  {
   "cell_type": "code",
   "execution_count": 37,
   "id": "3565bbd3",
   "metadata": {},
   "outputs": [
    {
     "data": {
      "text/html": [
       "<div>\n",
       "<style scoped>\n",
       "    .dataframe tbody tr th:only-of-type {\n",
       "        vertical-align: middle;\n",
       "    }\n",
       "\n",
       "    .dataframe tbody tr th {\n",
       "        vertical-align: top;\n",
       "    }\n",
       "\n",
       "    .dataframe thead th {\n",
       "        text-align: right;\n",
       "    }\n",
       "</style>\n",
       "<table border=\"1\" class=\"dataframe\">\n",
       "  <thead>\n",
       "    <tr style=\"text-align: right;\">\n",
       "      <th></th>\n",
       "      <th>table_name</th>\n",
       "      <th>column_index</th>\n",
       "    </tr>\n",
       "  </thead>\n",
       "  <tbody>\n",
       "    <tr>\n",
       "      <th>0</th>\n",
       "      <td>CreativeWork_2agenten.com_September2020_CTA.js...</td>\n",
       "      <td>1</td>\n",
       "    </tr>\n",
       "    <tr>\n",
       "      <th>1</th>\n",
       "      <td>CreativeWork_biliranisland.com_September2020_C...</td>\n",
       "      <td>3</td>\n",
       "    </tr>\n",
       "    <tr>\n",
       "      <th>2</th>\n",
       "      <td>CreativeWork_biliranisland.com_September2020_C...</td>\n",
       "      <td>4</td>\n",
       "    </tr>\n",
       "    <tr>\n",
       "      <th>3</th>\n",
       "      <td>CreativeWork_biodiversitylibrary.org_September...</td>\n",
       "      <td>2</td>\n",
       "    </tr>\n",
       "    <tr>\n",
       "      <th>4</th>\n",
       "      <td>CreativeWork_cityofmulberryfl.org_September202...</td>\n",
       "      <td>0</td>\n",
       "    </tr>\n",
       "    <tr>\n",
       "      <th>...</th>\n",
       "      <td>...</td>\n",
       "      <td>...</td>\n",
       "    </tr>\n",
       "    <tr>\n",
       "      <th>676</th>\n",
       "      <td>Product_badcattoys.com_September2020_CTA.json.gz</td>\n",
       "      <td>6</td>\n",
       "    </tr>\n",
       "    <tr>\n",
       "      <th>677</th>\n",
       "      <td>Product_badcattoys.com_September2020_CTA.json.gz</td>\n",
       "      <td>21</td>\n",
       "    </tr>\n",
       "    <tr>\n",
       "      <th>678</th>\n",
       "      <td>Product_badcattoys.com_September2020_CTA.json.gz</td>\n",
       "      <td>23</td>\n",
       "    </tr>\n",
       "    <tr>\n",
       "      <th>679</th>\n",
       "      <td>Product_badcattoys.com_September2020_CTA.json.gz</td>\n",
       "      <td>26</td>\n",
       "    </tr>\n",
       "    <tr>\n",
       "      <th>680</th>\n",
       "      <td>SportsEvent_cuescore.com_September2020_CTA.jso...</td>\n",
       "      <td>1</td>\n",
       "    </tr>\n",
       "  </tbody>\n",
       "</table>\n",
       "<p>681 rows × 2 columns</p>\n",
       "</div>"
      ],
      "text/plain": [
       "                                            table_name  column_index\n",
       "0    CreativeWork_2agenten.com_September2020_CTA.js...             1\n",
       "1    CreativeWork_biliranisland.com_September2020_C...             3\n",
       "2    CreativeWork_biliranisland.com_September2020_C...             4\n",
       "3    CreativeWork_biodiversitylibrary.org_September...             2\n",
       "4    CreativeWork_cityofmulberryfl.org_September202...             0\n",
       "..                                                 ...           ...\n",
       "676   Product_badcattoys.com_September2020_CTA.json.gz             6\n",
       "677   Product_badcattoys.com_September2020_CTA.json.gz            21\n",
       "678   Product_badcattoys.com_September2020_CTA.json.gz            23\n",
       "679   Product_badcattoys.com_September2020_CTA.json.gz            26\n",
       "680  SportsEvent_cuescore.com_September2020_CTA.jso...             1\n",
       "\n",
       "[681 rows x 2 columns]"
      ]
     },
     "execution_count": 37,
     "metadata": {},
     "output_type": "execute_result"
    }
   ],
   "source": [
    "df_test_4 "
   ]
  },
  {
   "cell_type": "code",
   "execution_count": null,
   "id": "e3bc5141",
   "metadata": {},
   "outputs": [],
   "source": []
  },
  {
   "cell_type": "code",
   "execution_count": 38,
   "id": "c9502531",
   "metadata": {},
   "outputs": [
    {
     "name": "stderr",
     "output_type": "stream",
     "text": [
      "C:\\Users\\Administrator\\AppData\\Local\\Temp\\ipykernel_21720\\1498760386.py:4: SettingWithCopyWarning: \n",
      "A value is trying to be set on a copy of a slice from a DataFrame.\n",
      "Try using .loc[row_indexer,col_indexer] = value instead\n",
      "\n",
      "See the caveats in the documentation: https://pandas.pydata.org/pandas-docs/stable/user_guide/indexing.html#returning-a-view-versus-a-copy\n",
      "  df_test_4['data_value'] = None\n"
     ]
    }
   ],
   "source": [
    "# Path to the folder where the tables are stored\n",
    "folder_path = 'dataset/Round2-SOTAB-CTA-Tables/'\n",
    "# A column 'data_value' will work as a input dataset to our model\n",
    "df_test_4['data_value'] = None\n",
    "\n",
    "# Iterate over each row in the dataframe\n",
    "for index, row in df_test_4.iterrows():\n",
    "    table_name = row['table_name']\n",
    "    column_name = row['column_index']\n",
    "    \n",
    "    # Check if the table file exists in the folder\n",
    "    table_file_path = os.path.join(folder_path, table_name)  # Assuming the tables are stored as CSV files\n",
    "    \n",
    "    if os.path.isfile(table_file_path):\n",
    "        # Load the table file into a dataframe\n",
    "        table_df = pd.read_json(table_file_path, lines=True, compression='gzip')\n",
    "        \n",
    "        # Check if the column exists in the table dataframe\n",
    "        if column_name in table_df.columns:\n",
    "            # Fetch the column data\n",
    "            column_data = table_df[column_name]\n",
    "            \n",
    "            # Assign the column data to the 'data_value' column in the original dataframe\n",
    "            df_test_4.at[index, 'data_value'] = column_data.tolist()\n",
    "            \n",
    "            # Do something with the column data\n",
    "            # For example, print the first 5 values\n",
    "#             print(f\"Table: {table_name}, Column: {column_name}\")\n",
    "#             print(column_data.head())\n",
    "#             print()\n",
    "        else:\n",
    "            print(f\"Column '{column_name}' does not exist in table '{table_name}'.\")\n",
    "    else:\n",
    "        print(f\"Table '{table_name}' does not exist in the folder.\")"
   ]
  },
  {
   "cell_type": "code",
   "execution_count": 39,
   "id": "9191372a",
   "metadata": {},
   "outputs": [
    {
     "name": "stdout",
     "output_type": "stream",
     "text": [
      "CreativeWork_2agenten.com_September2020_CTA.json.gz\n"
     ]
    },
    {
     "data": {
      "text/html": [
       "<div>\n",
       "<style scoped>\n",
       "    .dataframe tbody tr th:only-of-type {\n",
       "        vertical-align: middle;\n",
       "    }\n",
       "\n",
       "    .dataframe tbody tr th {\n",
       "        vertical-align: top;\n",
       "    }\n",
       "\n",
       "    .dataframe thead th {\n",
       "        text-align: right;\n",
       "    }\n",
       "</style>\n",
       "<table border=\"1\" class=\"dataframe\">\n",
       "  <thead>\n",
       "    <tr style=\"text-align: right;\">\n",
       "      <th></th>\n",
       "      <th>table_name</th>\n",
       "      <th>column_index</th>\n",
       "      <th>data_value</th>\n",
       "    </tr>\n",
       "  </thead>\n",
       "  <tbody>\n",
       "    <tr>\n",
       "      <th>0</th>\n",
       "      <td>CreativeWork_2agenten.com_September2020_CTA.js...</td>\n",
       "      <td>1</td>\n",
       "      <td>[[JACOBIN MAGAZINE, PANDA EXPRESS RESTAURANTS,...</td>\n",
       "    </tr>\n",
       "    <tr>\n",
       "      <th>1</th>\n",
       "      <td>CreativeWork_biliranisland.com_September2020_C...</td>\n",
       "      <td>3</td>\n",
       "      <td>[None, Caibiran Jingle, 2ND MAYOR GERARD ROGER...</td>\n",
       "    </tr>\n",
       "    <tr>\n",
       "      <th>2</th>\n",
       "      <td>CreativeWork_biliranisland.com_September2020_C...</td>\n",
       "      <td>4</td>\n",
       "      <td>[None, Jalmz, Jalmz, Jalmz, None, Jalmz, Jalmz...</td>\n",
       "    </tr>\n",
       "    <tr>\n",
       "      <th>3</th>\n",
       "      <td>CreativeWork_biodiversitylibrary.org_September...</td>\n",
       "      <td>2</td>\n",
       "      <td>[English, English, English, None, English, Eng...</td>\n",
       "    </tr>\n",
       "    <tr>\n",
       "      <th>4</th>\n",
       "      <td>CreativeWork_cityofmulberryfl.org_September202...</td>\n",
       "      <td>0</td>\n",
       "      <td>[None, Party Affiliation Matters for President...</td>\n",
       "    </tr>\n",
       "    <tr>\n",
       "      <th>...</th>\n",
       "      <td>...</td>\n",
       "      <td>...</td>\n",
       "      <td>...</td>\n",
       "    </tr>\n",
       "    <tr>\n",
       "      <th>676</th>\n",
       "      <td>Product_badcattoys.com_September2020_CTA.json.gz</td>\n",
       "      <td>6</td>\n",
       "      <td>[Dechra, FEANDREA, HealthyPets, Dkeli, None, V...</td>\n",
       "    </tr>\n",
       "    <tr>\n",
       "      <th>677</th>\n",
       "      <td>Product_badcattoys.com_September2020_CTA.json.gz</td>\n",
       "      <td>21</td>\n",
       "      <td>[2.5, 17.7, 3.0, 17.5, 2.0, nan, 6.25, 6.69, 4...</td>\n",
       "    </tr>\n",
       "    <tr>\n",
       "      <th>678</th>\n",
       "      <td>Product_badcattoys.com_September2020_CTA.json.gz</td>\n",
       "      <td>23</td>\n",
       "      <td>[8.0, 58.3, 6.0, 39.0, 4.8, nan, 8.25, 5.51, 5...</td>\n",
       "    </tr>\n",
       "    <tr>\n",
       "      <th>679</th>\n",
       "      <td>Product_badcattoys.com_September2020_CTA.json.gz</td>\n",
       "      <td>26</td>\n",
       "      <td>[2.5, 23.6, 3.0, 34.0, 3.9, nan, 6.25, 8.27, 6...</td>\n",
       "    </tr>\n",
       "    <tr>\n",
       "      <th>680</th>\n",
       "      <td>SportsEvent_cuescore.com_September2020_CTA.jso...</td>\n",
       "      <td>1</td>\n",
       "      <td>[Rack N Roll In-House Handicap 9 Ball Series 2...</td>\n",
       "    </tr>\n",
       "  </tbody>\n",
       "</table>\n",
       "<p>681 rows × 3 columns</p>\n",
       "</div>"
      ],
      "text/plain": [
       "                                            table_name  column_index  \\\n",
       "0    CreativeWork_2agenten.com_September2020_CTA.js...             1   \n",
       "1    CreativeWork_biliranisland.com_September2020_C...             3   \n",
       "2    CreativeWork_biliranisland.com_September2020_C...             4   \n",
       "3    CreativeWork_biodiversitylibrary.org_September...             2   \n",
       "4    CreativeWork_cityofmulberryfl.org_September202...             0   \n",
       "..                                                 ...           ...   \n",
       "676   Product_badcattoys.com_September2020_CTA.json.gz             6   \n",
       "677   Product_badcattoys.com_September2020_CTA.json.gz            21   \n",
       "678   Product_badcattoys.com_September2020_CTA.json.gz            23   \n",
       "679   Product_badcattoys.com_September2020_CTA.json.gz            26   \n",
       "680  SportsEvent_cuescore.com_September2020_CTA.jso...             1   \n",
       "\n",
       "                                            data_value  \n",
       "0    [[JACOBIN MAGAZINE, PANDA EXPRESS RESTAURANTS,...  \n",
       "1    [None, Caibiran Jingle, 2ND MAYOR GERARD ROGER...  \n",
       "2    [None, Jalmz, Jalmz, Jalmz, None, Jalmz, Jalmz...  \n",
       "3    [English, English, English, None, English, Eng...  \n",
       "4    [None, Party Affiliation Matters for President...  \n",
       "..                                                 ...  \n",
       "676  [Dechra, FEANDREA, HealthyPets, Dkeli, None, V...  \n",
       "677  [2.5, 17.7, 3.0, 17.5, 2.0, nan, 6.25, 6.69, 4...  \n",
       "678  [8.0, 58.3, 6.0, 39.0, 4.8, nan, 8.25, 5.51, 5...  \n",
       "679  [2.5, 23.6, 3.0, 34.0, 3.9, nan, 6.25, 8.27, 6...  \n",
       "680  [Rack N Roll In-House Handicap 9 Ball Series 2...  \n",
       "\n",
       "[681 rows x 3 columns]"
      ]
     },
     "execution_count": 39,
     "metadata": {},
     "output_type": "execute_result"
    }
   ],
   "source": [
    "print(df_test_4.iloc[0,0])\n",
    "df_test_4"
   ]
  },
  {
   "cell_type": "code",
   "execution_count": 40,
   "id": "5ce89f3f",
   "metadata": {},
   "outputs": [],
   "source": [
    "# # Read a sample file and sources residing in it : File name and data residing in it. \n",
    "# file_path_gz = 'dataset/Round2-SOTAB-CTA-Tables/CreativeWork_2agenten.com_September2020_CTA.json.gz'  # Replace with the actual file path of your JSON file\n",
    "# df = pd.read_json(file_path_gz, lines=True, compression='gzip')"
   ]
  },
  {
   "cell_type": "code",
   "execution_count": 41,
   "id": "0cbf5cf7",
   "metadata": {},
   "outputs": [],
   "source": [
    "df_test_4 = df_test_4.explode('data_value')"
   ]
  },
  {
   "cell_type": "code",
   "execution_count": 42,
   "id": "35741a7e",
   "metadata": {},
   "outputs": [
    {
     "data": {
      "text/html": [
       "<div>\n",
       "<style scoped>\n",
       "    .dataframe tbody tr th:only-of-type {\n",
       "        vertical-align: middle;\n",
       "    }\n",
       "\n",
       "    .dataframe tbody tr th {\n",
       "        vertical-align: top;\n",
       "    }\n",
       "\n",
       "    .dataframe thead th {\n",
       "        text-align: right;\n",
       "    }\n",
       "</style>\n",
       "<table border=\"1\" class=\"dataframe\">\n",
       "  <thead>\n",
       "    <tr style=\"text-align: right;\">\n",
       "      <th></th>\n",
       "      <th>table_name</th>\n",
       "      <th>column_index</th>\n",
       "      <th>data_value</th>\n",
       "    </tr>\n",
       "  </thead>\n",
       "  <tbody>\n",
       "    <tr>\n",
       "      <th>0</th>\n",
       "      <td>CreativeWork_2agenten.com_September2020_CTA.js...</td>\n",
       "      <td>1</td>\n",
       "      <td>[JACOBIN MAGAZINE, PANDA EXPRESS RESTAURANTS, ...</td>\n",
       "    </tr>\n",
       "    <tr>\n",
       "      <th>0</th>\n",
       "      <td>CreativeWork_2agenten.com_September2020_CTA.js...</td>\n",
       "      <td>1</td>\n",
       "      <td>[HANDSOME FRANK, AIRBNB MAGAZINE, DE BUITENKAN...</td>\n",
       "    </tr>\n",
       "    <tr>\n",
       "      <th>0</th>\n",
       "      <td>CreativeWork_2agenten.com_September2020_CTA.js...</td>\n",
       "      <td>1</td>\n",
       "      <td>[DEVK, BAHN, WAGEN EINS MAGAZINE, LIBERAL MAGA...</td>\n",
       "    </tr>\n",
       "    <tr>\n",
       "      <th>0</th>\n",
       "      <td>CreativeWork_2agenten.com_September2020_CTA.js...</td>\n",
       "      <td>1</td>\n",
       "      <td>[DEVIANNE, ROOSTER, BIG TOOL, SKINBIOTIC, HIGH...</td>\n",
       "    </tr>\n",
       "    <tr>\n",
       "      <th>0</th>\n",
       "      <td>CreativeWork_2agenten.com_September2020_CTA.js...</td>\n",
       "      <td>1</td>\n",
       "      <td>[PERSONAL WORK, ABSOLUT VODKA, ACNE, BONAFYDE,...</td>\n",
       "    </tr>\n",
       "    <tr>\n",
       "      <th>...</th>\n",
       "      <td>...</td>\n",
       "      <td>...</td>\n",
       "      <td>...</td>\n",
       "    </tr>\n",
       "    <tr>\n",
       "      <th>680</th>\n",
       "      <td>SportsEvent_cuescore.com_September2020_CTA.jso...</td>\n",
       "      <td>1</td>\n",
       "      <td>Rack N Roll Ninth Annual 9 Ball Scotch Doubles...</td>\n",
       "    </tr>\n",
       "    <tr>\n",
       "      <th>680</th>\n",
       "      <td>SportsEvent_cuescore.com_September2020_CTA.jso...</td>\n",
       "      <td>1</td>\n",
       "      <td>I Turniej Amatorskiej Ligi Bilardowej LaSezam ...</td>\n",
       "    </tr>\n",
       "    <tr>\n",
       "      <th>680</th>\n",
       "      <td>SportsEvent_cuescore.com_September2020_CTA.jso...</td>\n",
       "      <td>1</td>\n",
       "      <td>5th Mezz Cues - Stella Artois Open Main Event</td>\n",
       "    </tr>\n",
       "    <tr>\n",
       "      <th>680</th>\n",
       "      <td>SportsEvent_cuescore.com_September2020_CTA.jso...</td>\n",
       "      <td>1</td>\n",
       "      <td>Huistoernooi House of billiards Arnhem</td>\n",
       "    </tr>\n",
       "    <tr>\n",
       "      <th>680</th>\n",
       "      <td>SportsEvent_cuescore.com_September2020_CTA.jso...</td>\n",
       "      <td>1</td>\n",
       "      <td>Diamond Hall Ranking Tournament (14)</td>\n",
       "    </tr>\n",
       "  </tbody>\n",
       "</table>\n",
       "<p>249681 rows × 3 columns</p>\n",
       "</div>"
      ],
      "text/plain": [
       "                                            table_name  column_index  \\\n",
       "0    CreativeWork_2agenten.com_September2020_CTA.js...             1   \n",
       "0    CreativeWork_2agenten.com_September2020_CTA.js...             1   \n",
       "0    CreativeWork_2agenten.com_September2020_CTA.js...             1   \n",
       "0    CreativeWork_2agenten.com_September2020_CTA.js...             1   \n",
       "0    CreativeWork_2agenten.com_September2020_CTA.js...             1   \n",
       "..                                                 ...           ...   \n",
       "680  SportsEvent_cuescore.com_September2020_CTA.jso...             1   \n",
       "680  SportsEvent_cuescore.com_September2020_CTA.jso...             1   \n",
       "680  SportsEvent_cuescore.com_September2020_CTA.jso...             1   \n",
       "680  SportsEvent_cuescore.com_September2020_CTA.jso...             1   \n",
       "680  SportsEvent_cuescore.com_September2020_CTA.jso...             1   \n",
       "\n",
       "                                            data_value  \n",
       "0    [JACOBIN MAGAZINE, PANDA EXPRESS RESTAURANTS, ...  \n",
       "0    [HANDSOME FRANK, AIRBNB MAGAZINE, DE BUITENKAN...  \n",
       "0    [DEVK, BAHN, WAGEN EINS MAGAZINE, LIBERAL MAGA...  \n",
       "0    [DEVIANNE, ROOSTER, BIG TOOL, SKINBIOTIC, HIGH...  \n",
       "0    [PERSONAL WORK, ABSOLUT VODKA, ACNE, BONAFYDE,...  \n",
       "..                                                 ...  \n",
       "680  Rack N Roll Ninth Annual 9 Ball Scotch Doubles...  \n",
       "680  I Turniej Amatorskiej Ligi Bilardowej LaSezam ...  \n",
       "680      5th Mezz Cues - Stella Artois Open Main Event  \n",
       "680             Huistoernooi House of billiards Arnhem  \n",
       "680               Diamond Hall Ranking Tournament (14)  \n",
       "\n",
       "[249681 rows x 3 columns]"
      ]
     },
     "execution_count": 42,
     "metadata": {},
     "output_type": "execute_result"
    }
   ],
   "source": [
    "df_test_4"
   ]
  },
  {
   "cell_type": "code",
   "execution_count": 43,
   "id": "1b355d54",
   "metadata": {},
   "outputs": [],
   "source": [
    "df_explosion = df_test_4.explode('data_value', ignore_index=True).apply(pd.Series.explode)"
   ]
  },
  {
   "cell_type": "code",
   "execution_count": 44,
   "id": "73e69381",
   "metadata": {},
   "outputs": [
    {
     "data": {
      "text/html": [
       "<div>\n",
       "<style scoped>\n",
       "    .dataframe tbody tr th:only-of-type {\n",
       "        vertical-align: middle;\n",
       "    }\n",
       "\n",
       "    .dataframe tbody tr th {\n",
       "        vertical-align: top;\n",
       "    }\n",
       "\n",
       "    .dataframe thead th {\n",
       "        text-align: right;\n",
       "    }\n",
       "</style>\n",
       "<table border=\"1\" class=\"dataframe\">\n",
       "  <thead>\n",
       "    <tr style=\"text-align: right;\">\n",
       "      <th></th>\n",
       "      <th>table_name</th>\n",
       "      <th>column_index</th>\n",
       "      <th>data_value</th>\n",
       "    </tr>\n",
       "  </thead>\n",
       "  <tbody>\n",
       "    <tr>\n",
       "      <th>0</th>\n",
       "      <td>CreativeWork_2agenten.com_September2020_CTA.js...</td>\n",
       "      <td>1</td>\n",
       "      <td>JACOBIN MAGAZINE</td>\n",
       "    </tr>\n",
       "    <tr>\n",
       "      <th>1</th>\n",
       "      <td>CreativeWork_2agenten.com_September2020_CTA.js...</td>\n",
       "      <td>1</td>\n",
       "      <td>PANDA EXPRESS RESTAURANTS</td>\n",
       "    </tr>\n",
       "    <tr>\n",
       "      <th>2</th>\n",
       "      <td>CreativeWork_2agenten.com_September2020_CTA.js...</td>\n",
       "      <td>1</td>\n",
       "      <td>STARBUCKS</td>\n",
       "    </tr>\n",
       "    <tr>\n",
       "      <th>3</th>\n",
       "      <td>CreativeWork_2agenten.com_September2020_CTA.js...</td>\n",
       "      <td>1</td>\n",
       "      <td>CB2 FURNITURE</td>\n",
       "    </tr>\n",
       "    <tr>\n",
       "      <th>4</th>\n",
       "      <td>CreativeWork_2agenten.com_September2020_CTA.js...</td>\n",
       "      <td>1</td>\n",
       "      <td>L'OCCITANE</td>\n",
       "    </tr>\n",
       "    <tr>\n",
       "      <th>...</th>\n",
       "      <td>...</td>\n",
       "      <td>...</td>\n",
       "      <td>...</td>\n",
       "    </tr>\n",
       "    <tr>\n",
       "      <th>356324</th>\n",
       "      <td>SportsEvent_cuescore.com_September2020_CTA.jso...</td>\n",
       "      <td>1</td>\n",
       "      <td>Rack N Roll Ninth Annual 9 Ball Scotch Doubles...</td>\n",
       "    </tr>\n",
       "    <tr>\n",
       "      <th>356325</th>\n",
       "      <td>SportsEvent_cuescore.com_September2020_CTA.jso...</td>\n",
       "      <td>1</td>\n",
       "      <td>I Turniej Amatorskiej Ligi Bilardowej LaSezam ...</td>\n",
       "    </tr>\n",
       "    <tr>\n",
       "      <th>356326</th>\n",
       "      <td>SportsEvent_cuescore.com_September2020_CTA.jso...</td>\n",
       "      <td>1</td>\n",
       "      <td>5th Mezz Cues - Stella Artois Open Main Event</td>\n",
       "    </tr>\n",
       "    <tr>\n",
       "      <th>356327</th>\n",
       "      <td>SportsEvent_cuescore.com_September2020_CTA.jso...</td>\n",
       "      <td>1</td>\n",
       "      <td>Huistoernooi House of billiards Arnhem</td>\n",
       "    </tr>\n",
       "    <tr>\n",
       "      <th>356328</th>\n",
       "      <td>SportsEvent_cuescore.com_September2020_CTA.jso...</td>\n",
       "      <td>1</td>\n",
       "      <td>Diamond Hall Ranking Tournament (14)</td>\n",
       "    </tr>\n",
       "  </tbody>\n",
       "</table>\n",
       "<p>356445 rows × 3 columns</p>\n",
       "</div>"
      ],
      "text/plain": [
       "                                               table_name  column_index  \\\n",
       "0       CreativeWork_2agenten.com_September2020_CTA.js...             1   \n",
       "1       CreativeWork_2agenten.com_September2020_CTA.js...             1   \n",
       "2       CreativeWork_2agenten.com_September2020_CTA.js...             1   \n",
       "3       CreativeWork_2agenten.com_September2020_CTA.js...             1   \n",
       "4       CreativeWork_2agenten.com_September2020_CTA.js...             1   \n",
       "...                                                   ...           ...   \n",
       "356324  SportsEvent_cuescore.com_September2020_CTA.jso...             1   \n",
       "356325  SportsEvent_cuescore.com_September2020_CTA.jso...             1   \n",
       "356326  SportsEvent_cuescore.com_September2020_CTA.jso...             1   \n",
       "356327  SportsEvent_cuescore.com_September2020_CTA.jso...             1   \n",
       "356328  SportsEvent_cuescore.com_September2020_CTA.jso...             1   \n",
       "\n",
       "                                               data_value  \n",
       "0                                        JACOBIN MAGAZINE  \n",
       "1                               PANDA EXPRESS RESTAURANTS  \n",
       "2                                               STARBUCKS  \n",
       "3                                           CB2 FURNITURE  \n",
       "4                                              L'OCCITANE  \n",
       "...                                                   ...  \n",
       "356324  Rack N Roll Ninth Annual 9 Ball Scotch Doubles...  \n",
       "356325  I Turniej Amatorskiej Ligi Bilardowej LaSezam ...  \n",
       "356326      5th Mezz Cues - Stella Artois Open Main Event  \n",
       "356327             Huistoernooi House of billiards Arnhem  \n",
       "356328               Diamond Hall Ranking Tournament (14)  \n",
       "\n",
       "[356445 rows x 3 columns]"
      ]
     },
     "execution_count": 44,
     "metadata": {},
     "output_type": "execute_result"
    }
   ],
   "source": [
    "df_explosion"
   ]
  },
  {
   "cell_type": "code",
   "execution_count": 45,
   "id": "f6d978bf",
   "metadata": {},
   "outputs": [
    {
     "name": "stdout",
     "output_type": "stream",
     "text": [
      "table_name          0\n",
      "column_index        0\n",
      "data_value      39522\n",
      "dtype: int64\n"
     ]
    }
   ],
   "source": [
    "# Count the NaN values in each column\n",
    "nan_count_column = df_explosion.isna().sum()\n",
    "print(nan_count_column)"
   ]
  },
  {
   "cell_type": "code",
   "execution_count": 46,
   "id": "37f4313c",
   "metadata": {},
   "outputs": [
    {
     "name": "stdout",
     "output_type": "stream",
     "text": [
      "<class 'pandas.core.series.Series'>\n",
      "PANDA EXPRESS RESTAURANTS\n"
     ]
    }
   ],
   "source": [
    "X_test_test = df_explosion['data_value']\n",
    "print(type(X_test_test))\n",
    "print(X_test_test[1])"
   ]
  },
  {
   "cell_type": "code",
   "execution_count": 47,
   "id": "3d3a4a13",
   "metadata": {},
   "outputs": [],
   "source": [
    "# Convert X_train and X_test to lists of strings\n",
    "X_test_test = [str(x) for x in X_test_test]\n",
    "\n",
    "\n",
    "# Fit the vectorizer on the training data and transform the training and testing data\n",
    "X_test_test_vec = vectorizer.transform(X_test_test)"
   ]
  },
  {
   "cell_type": "code",
   "execution_count": 48,
   "id": "447a46f3",
   "metadata": {},
   "outputs": [
    {
     "name": "stdout",
     "output_type": "stream",
     "text": [
      "(356445, 55393)\n",
      "(24080, 55393)\n",
      "(96319, 55393)\n"
     ]
    }
   ],
   "source": [
    "print(X_test_test_vec.shape)\n",
    "print(X_test_vec.shape)\n",
    "print(X_train_vec.shape)"
   ]
  },
  {
   "cell_type": "code",
   "execution_count": 49,
   "id": "80ff3d43",
   "metadata": {},
   "outputs": [],
   "source": [
    "# Make predictions on the test_test data\n",
    "y_pred_test = model.predict(X_test_test_vec)"
   ]
  },
  {
   "cell_type": "code",
   "execution_count": 50,
   "id": "2c36f36c",
   "metadata": {},
   "outputs": [
    {
     "name": "stdout",
     "output_type": "stream",
     "text": [
      "(356445,)\n",
      "<class 'numpy.ndarray'>\n"
     ]
    }
   ],
   "source": [
    "print(y_pred_test.shape)\n",
    "print(type(y_pred_test))"
   ]
  },
  {
   "cell_type": "code",
   "execution_count": 61,
   "id": "1424c992",
   "metadata": {},
   "outputs": [],
   "source": [
    "# Convert the NumPy array to a DataFrame\n",
    "y_pred_test_df = pd.DataFrame({'label': y_pred_test})\n",
    "\n",
    "# Reset the index of df_explosion\n",
    "df_explosion.reset_index(drop=True, inplace=True)\n",
    "\n",
    "# Reset the index of y_pred_test_df\n",
    "y_pred_test_df.reset_index(drop=True, inplace=True)\n",
    "\n",
    "# Concatenate the original DataFrame and the array DataFrame along the column axis\n",
    "PAAV_DBP_R2CTA = pd.concat([df_explosion, y_pred_test_df], axis=1)"
   ]
  },
  {
   "cell_type": "code",
   "execution_count": 62,
   "id": "68cc5d0a",
   "metadata": {},
   "outputs": [
    {
     "data": {
      "text/html": [
       "<div>\n",
       "<style scoped>\n",
       "    .dataframe tbody tr th:only-of-type {\n",
       "        vertical-align: middle;\n",
       "    }\n",
       "\n",
       "    .dataframe tbody tr th {\n",
       "        vertical-align: top;\n",
       "    }\n",
       "\n",
       "    .dataframe thead th {\n",
       "        text-align: right;\n",
       "    }\n",
       "</style>\n",
       "<table border=\"1\" class=\"dataframe\">\n",
       "  <thead>\n",
       "    <tr style=\"text-align: right;\">\n",
       "      <th></th>\n",
       "      <th>table_name</th>\n",
       "      <th>column_index</th>\n",
       "      <th>data_value</th>\n",
       "      <th>label</th>\n",
       "    </tr>\n",
       "  </thead>\n",
       "  <tbody>\n",
       "    <tr>\n",
       "      <th>0</th>\n",
       "      <td>CreativeWork_2agenten.com_September2020_CTA.js...</td>\n",
       "      <td>1</td>\n",
       "      <td>JACOBIN MAGAZINE</td>\n",
       "      <td>https://dbpedia.org/ontology/brand</td>\n",
       "    </tr>\n",
       "    <tr>\n",
       "      <th>1</th>\n",
       "      <td>CreativeWork_2agenten.com_September2020_CTA.js...</td>\n",
       "      <td>1</td>\n",
       "      <td>PANDA EXPRESS RESTAURANTS</td>\n",
       "      <td>https://dbpedia.org/ontology/Restaurant</td>\n",
       "    </tr>\n",
       "    <tr>\n",
       "      <th>2</th>\n",
       "      <td>CreativeWork_2agenten.com_September2020_CTA.js...</td>\n",
       "      <td>1</td>\n",
       "      <td>STARBUCKS</td>\n",
       "      <td>https://dbpedia.org/ontology/brand</td>\n",
       "    </tr>\n",
       "    <tr>\n",
       "      <th>3</th>\n",
       "      <td>CreativeWork_2agenten.com_September2020_CTA.js...</td>\n",
       "      <td>1</td>\n",
       "      <td>CB2 FURNITURE</td>\n",
       "      <td>https://dbpedia.org/ontology/brand</td>\n",
       "    </tr>\n",
       "    <tr>\n",
       "      <th>4</th>\n",
       "      <td>CreativeWork_2agenten.com_September2020_CTA.js...</td>\n",
       "      <td>1</td>\n",
       "      <td>L'OCCITANE</td>\n",
       "      <td>https://dbpedia.org/ontology/brand</td>\n",
       "    </tr>\n",
       "    <tr>\n",
       "      <th>...</th>\n",
       "      <td>...</td>\n",
       "      <td>...</td>\n",
       "      <td>...</td>\n",
       "      <td>...</td>\n",
       "    </tr>\n",
       "    <tr>\n",
       "      <th>356440</th>\n",
       "      <td>SportsEvent_cuescore.com_September2020_CTA.jso...</td>\n",
       "      <td>1</td>\n",
       "      <td>Rack N Roll Ninth Annual 9 Ball Scotch Doubles...</td>\n",
       "      <td>https://dbpedia.org/ontology/Film</td>\n",
       "    </tr>\n",
       "    <tr>\n",
       "      <th>356441</th>\n",
       "      <td>SportsEvent_cuescore.com_September2020_CTA.jso...</td>\n",
       "      <td>1</td>\n",
       "      <td>I Turniej Amatorskiej Ligi Bilardowej LaSezam ...</td>\n",
       "      <td>https://dbpedia.org/ontology/date</td>\n",
       "    </tr>\n",
       "    <tr>\n",
       "      <th>356442</th>\n",
       "      <td>SportsEvent_cuescore.com_September2020_CTA.jso...</td>\n",
       "      <td>1</td>\n",
       "      <td>5th Mezz Cues - Stella Artois Open Main Event</td>\n",
       "      <td>https://dbpedia.org/ontology/Event</td>\n",
       "    </tr>\n",
       "    <tr>\n",
       "      <th>356443</th>\n",
       "      <td>SportsEvent_cuescore.com_September2020_CTA.jso...</td>\n",
       "      <td>1</td>\n",
       "      <td>Huistoernooi House of billiards Arnhem</td>\n",
       "      <td>https://dbpedia.org/ontology/Museum</td>\n",
       "    </tr>\n",
       "    <tr>\n",
       "      <th>356444</th>\n",
       "      <td>SportsEvent_cuescore.com_September2020_CTA.jso...</td>\n",
       "      <td>1</td>\n",
       "      <td>Diamond Hall Ranking Tournament (14)</td>\n",
       "      <td>https://dbpedia.org/ontology/TelevisionShow</td>\n",
       "    </tr>\n",
       "  </tbody>\n",
       "</table>\n",
       "<p>356445 rows × 4 columns</p>\n",
       "</div>"
      ],
      "text/plain": [
       "                                               table_name  column_index  \\\n",
       "0       CreativeWork_2agenten.com_September2020_CTA.js...             1   \n",
       "1       CreativeWork_2agenten.com_September2020_CTA.js...             1   \n",
       "2       CreativeWork_2agenten.com_September2020_CTA.js...             1   \n",
       "3       CreativeWork_2agenten.com_September2020_CTA.js...             1   \n",
       "4       CreativeWork_2agenten.com_September2020_CTA.js...             1   \n",
       "...                                                   ...           ...   \n",
       "356440  SportsEvent_cuescore.com_September2020_CTA.jso...             1   \n",
       "356441  SportsEvent_cuescore.com_September2020_CTA.jso...             1   \n",
       "356442  SportsEvent_cuescore.com_September2020_CTA.jso...             1   \n",
       "356443  SportsEvent_cuescore.com_September2020_CTA.jso...             1   \n",
       "356444  SportsEvent_cuescore.com_September2020_CTA.jso...             1   \n",
       "\n",
       "                                               data_value  \\\n",
       "0                                        JACOBIN MAGAZINE   \n",
       "1                               PANDA EXPRESS RESTAURANTS   \n",
       "2                                               STARBUCKS   \n",
       "3                                           CB2 FURNITURE   \n",
       "4                                              L'OCCITANE   \n",
       "...                                                   ...   \n",
       "356440  Rack N Roll Ninth Annual 9 Ball Scotch Doubles...   \n",
       "356441  I Turniej Amatorskiej Ligi Bilardowej LaSezam ...   \n",
       "356442      5th Mezz Cues - Stella Artois Open Main Event   \n",
       "356443             Huistoernooi House of billiards Arnhem   \n",
       "356444               Diamond Hall Ranking Tournament (14)   \n",
       "\n",
       "                                              label  \n",
       "0                https://dbpedia.org/ontology/brand  \n",
       "1           https://dbpedia.org/ontology/Restaurant  \n",
       "2                https://dbpedia.org/ontology/brand  \n",
       "3                https://dbpedia.org/ontology/brand  \n",
       "4                https://dbpedia.org/ontology/brand  \n",
       "...                                             ...  \n",
       "356440            https://dbpedia.org/ontology/Film  \n",
       "356441            https://dbpedia.org/ontology/date  \n",
       "356442           https://dbpedia.org/ontology/Event  \n",
       "356443          https://dbpedia.org/ontology/Museum  \n",
       "356444  https://dbpedia.org/ontology/TelevisionShow  \n",
       "\n",
       "[356445 rows x 4 columns]"
      ]
     },
     "execution_count": 62,
     "metadata": {},
     "output_type": "execute_result"
    }
   ],
   "source": [
    "PAAV_DBP_R2CTA "
   ]
  },
  {
   "cell_type": "code",
   "execution_count": 63,
   "id": "6fab49ba",
   "metadata": {},
   "outputs": [
    {
     "data": {
      "text/html": [
       "<div>\n",
       "<style scoped>\n",
       "    .dataframe tbody tr th:only-of-type {\n",
       "        vertical-align: middle;\n",
       "    }\n",
       "\n",
       "    .dataframe tbody tr th {\n",
       "        vertical-align: top;\n",
       "    }\n",
       "\n",
       "    .dataframe thead th {\n",
       "        text-align: right;\n",
       "    }\n",
       "</style>\n",
       "<table border=\"1\" class=\"dataframe\">\n",
       "  <thead>\n",
       "    <tr style=\"text-align: right;\">\n",
       "      <th></th>\n",
       "      <th>table_name</th>\n",
       "      <th>column_index</th>\n",
       "      <th>label</th>\n",
       "    </tr>\n",
       "  </thead>\n",
       "  <tbody>\n",
       "    <tr>\n",
       "      <th>0</th>\n",
       "      <td>CreativeWork_2agenten.com_September2020_CTA.js...</td>\n",
       "      <td>1</td>\n",
       "      <td>https://dbpedia.org/ontology/brand</td>\n",
       "    </tr>\n",
       "    <tr>\n",
       "      <th>1</th>\n",
       "      <td>CreativeWork_2agenten.com_September2020_CTA.js...</td>\n",
       "      <td>1</td>\n",
       "      <td>https://dbpedia.org/ontology/Restaurant</td>\n",
       "    </tr>\n",
       "    <tr>\n",
       "      <th>2</th>\n",
       "      <td>CreativeWork_2agenten.com_September2020_CTA.js...</td>\n",
       "      <td>1</td>\n",
       "      <td>https://dbpedia.org/ontology/brand</td>\n",
       "    </tr>\n",
       "    <tr>\n",
       "      <th>3</th>\n",
       "      <td>CreativeWork_2agenten.com_September2020_CTA.js...</td>\n",
       "      <td>1</td>\n",
       "      <td>https://dbpedia.org/ontology/brand</td>\n",
       "    </tr>\n",
       "    <tr>\n",
       "      <th>4</th>\n",
       "      <td>CreativeWork_2agenten.com_September2020_CTA.js...</td>\n",
       "      <td>1</td>\n",
       "      <td>https://dbpedia.org/ontology/brand</td>\n",
       "    </tr>\n",
       "    <tr>\n",
       "      <th>...</th>\n",
       "      <td>...</td>\n",
       "      <td>...</td>\n",
       "      <td>...</td>\n",
       "    </tr>\n",
       "    <tr>\n",
       "      <th>356440</th>\n",
       "      <td>SportsEvent_cuescore.com_September2020_CTA.jso...</td>\n",
       "      <td>1</td>\n",
       "      <td>https://dbpedia.org/ontology/Film</td>\n",
       "    </tr>\n",
       "    <tr>\n",
       "      <th>356441</th>\n",
       "      <td>SportsEvent_cuescore.com_September2020_CTA.jso...</td>\n",
       "      <td>1</td>\n",
       "      <td>https://dbpedia.org/ontology/date</td>\n",
       "    </tr>\n",
       "    <tr>\n",
       "      <th>356442</th>\n",
       "      <td>SportsEvent_cuescore.com_September2020_CTA.jso...</td>\n",
       "      <td>1</td>\n",
       "      <td>https://dbpedia.org/ontology/Event</td>\n",
       "    </tr>\n",
       "    <tr>\n",
       "      <th>356443</th>\n",
       "      <td>SportsEvent_cuescore.com_September2020_CTA.jso...</td>\n",
       "      <td>1</td>\n",
       "      <td>https://dbpedia.org/ontology/Museum</td>\n",
       "    </tr>\n",
       "    <tr>\n",
       "      <th>356444</th>\n",
       "      <td>SportsEvent_cuescore.com_September2020_CTA.jso...</td>\n",
       "      <td>1</td>\n",
       "      <td>https://dbpedia.org/ontology/TelevisionShow</td>\n",
       "    </tr>\n",
       "  </tbody>\n",
       "</table>\n",
       "<p>356445 rows × 3 columns</p>\n",
       "</div>"
      ],
      "text/plain": [
       "                                               table_name  column_index  \\\n",
       "0       CreativeWork_2agenten.com_September2020_CTA.js...             1   \n",
       "1       CreativeWork_2agenten.com_September2020_CTA.js...             1   \n",
       "2       CreativeWork_2agenten.com_September2020_CTA.js...             1   \n",
       "3       CreativeWork_2agenten.com_September2020_CTA.js...             1   \n",
       "4       CreativeWork_2agenten.com_September2020_CTA.js...             1   \n",
       "...                                                   ...           ...   \n",
       "356440  SportsEvent_cuescore.com_September2020_CTA.jso...             1   \n",
       "356441  SportsEvent_cuescore.com_September2020_CTA.jso...             1   \n",
       "356442  SportsEvent_cuescore.com_September2020_CTA.jso...             1   \n",
       "356443  SportsEvent_cuescore.com_September2020_CTA.jso...             1   \n",
       "356444  SportsEvent_cuescore.com_September2020_CTA.jso...             1   \n",
       "\n",
       "                                              label  \n",
       "0                https://dbpedia.org/ontology/brand  \n",
       "1           https://dbpedia.org/ontology/Restaurant  \n",
       "2                https://dbpedia.org/ontology/brand  \n",
       "3                https://dbpedia.org/ontology/brand  \n",
       "4                https://dbpedia.org/ontology/brand  \n",
       "...                                             ...  \n",
       "356440            https://dbpedia.org/ontology/Film  \n",
       "356441            https://dbpedia.org/ontology/date  \n",
       "356442           https://dbpedia.org/ontology/Event  \n",
       "356443          https://dbpedia.org/ontology/Museum  \n",
       "356444  https://dbpedia.org/ontology/TelevisionShow  \n",
       "\n",
       "[356445 rows x 3 columns]"
      ]
     },
     "execution_count": 63,
     "metadata": {},
     "output_type": "execute_result"
    }
   ],
   "source": [
    "PAAV_DBP_R2CTA_SUB = PAAV_SCH_R2CTA[['table_name','column_index', 'label']]\n",
    "PAAV_DBP_R2CTA_SUB"
   ]
  },
  {
   "cell_type": "code",
   "execution_count": 64,
   "id": "8a1e476c",
   "metadata": {},
   "outputs": [],
   "source": [
    "# Group by 'table_name' and 'column_index', and find the label that occurred the maximum times\n",
    "PAAV_DBP_R2CTA_SUB = PAAV_DBP_R2CTA_SUB.groupby(['table_name', 'column_index'])['label'].apply(lambda x: x.value_counts().idxmax()).reset_index()"
   ]
  },
  {
   "cell_type": "code",
   "execution_count": 65,
   "id": "52cce5eb",
   "metadata": {},
   "outputs": [
    {
     "data": {
      "text/html": [
       "<div>\n",
       "<style scoped>\n",
       "    .dataframe tbody tr th:only-of-type {\n",
       "        vertical-align: middle;\n",
       "    }\n",
       "\n",
       "    .dataframe tbody tr th {\n",
       "        vertical-align: top;\n",
       "    }\n",
       "\n",
       "    .dataframe thead th {\n",
       "        text-align: right;\n",
       "    }\n",
       "</style>\n",
       "<table border=\"1\" class=\"dataframe\">\n",
       "  <thead>\n",
       "    <tr style=\"text-align: right;\">\n",
       "      <th></th>\n",
       "      <th>table_name</th>\n",
       "      <th>column_index</th>\n",
       "      <th>label</th>\n",
       "    </tr>\n",
       "  </thead>\n",
       "  <tbody>\n",
       "    <tr>\n",
       "      <th>0</th>\n",
       "      <td>Book_artforum.sk_September2020_CTA.json.gz</td>\n",
       "      <td>0</td>\n",
       "      <td>https://dbpedia.org/ontology/brand</td>\n",
       "    </tr>\n",
       "    <tr>\n",
       "      <th>1</th>\n",
       "      <td>Book_auth-e83.co.uk_September2020_CTA.json.gz</td>\n",
       "      <td>6</td>\n",
       "      <td>https://dbpedia.org/ontology/Language</td>\n",
       "    </tr>\n",
       "    <tr>\n",
       "      <th>2</th>\n",
       "      <td>Book_auth-e83.co.uk_September2020_CTA.json.gz</td>\n",
       "      <td>9</td>\n",
       "      <td>https://dbpedia.org/ontology/brand</td>\n",
       "    </tr>\n",
       "    <tr>\n",
       "      <th>3</th>\n",
       "      <td>Book_ayshazencats.co.uk_September2020_CTA.json.gz</td>\n",
       "      <td>5</td>\n",
       "      <td>https://dbpedia.org/ontology/Language</td>\n",
       "    </tr>\n",
       "    <tr>\n",
       "      <th>4</th>\n",
       "      <td>Book_ayshazencats.co.uk_September2020_CTA.json.gz</td>\n",
       "      <td>7</td>\n",
       "      <td>https://dbpedia.org/ontology/brand</td>\n",
       "    </tr>\n",
       "  </tbody>\n",
       "</table>\n",
       "</div>"
      ],
      "text/plain": [
       "                                          table_name  column_index  \\\n",
       "0         Book_artforum.sk_September2020_CTA.json.gz             0   \n",
       "1      Book_auth-e83.co.uk_September2020_CTA.json.gz             6   \n",
       "2      Book_auth-e83.co.uk_September2020_CTA.json.gz             9   \n",
       "3  Book_ayshazencats.co.uk_September2020_CTA.json.gz             5   \n",
       "4  Book_ayshazencats.co.uk_September2020_CTA.json.gz             7   \n",
       "\n",
       "                                   label  \n",
       "0     https://dbpedia.org/ontology/brand  \n",
       "1  https://dbpedia.org/ontology/Language  \n",
       "2     https://dbpedia.org/ontology/brand  \n",
       "3  https://dbpedia.org/ontology/Language  \n",
       "4     https://dbpedia.org/ontology/brand  "
      ]
     },
     "execution_count": 65,
     "metadata": {},
     "output_type": "execute_result"
    }
   ],
   "source": [
    "PAAV_DBP_R2CTA_SUB.head()"
   ]
  },
  {
   "cell_type": "code",
   "execution_count": 66,
   "id": "5db4bbe3",
   "metadata": {},
   "outputs": [
    {
     "data": {
      "text/html": [
       "<div>\n",
       "<style scoped>\n",
       "    .dataframe tbody tr th:only-of-type {\n",
       "        vertical-align: middle;\n",
       "    }\n",
       "\n",
       "    .dataframe tbody tr th {\n",
       "        vertical-align: top;\n",
       "    }\n",
       "\n",
       "    .dataframe thead th {\n",
       "        text-align: right;\n",
       "    }\n",
       "</style>\n",
       "<table border=\"1\" class=\"dataframe\">\n",
       "  <thead>\n",
       "    <tr style=\"text-align: right;\">\n",
       "      <th></th>\n",
       "      <th>table_name</th>\n",
       "      <th>column_index</th>\n",
       "    </tr>\n",
       "  </thead>\n",
       "  <tbody>\n",
       "    <tr>\n",
       "      <th>0</th>\n",
       "      <td>CreativeWork_2agenten.com_September2020_CTA.js...</td>\n",
       "      <td>1</td>\n",
       "    </tr>\n",
       "    <tr>\n",
       "      <th>1</th>\n",
       "      <td>CreativeWork_biliranisland.com_September2020_C...</td>\n",
       "      <td>3</td>\n",
       "    </tr>\n",
       "    <tr>\n",
       "      <th>2</th>\n",
       "      <td>CreativeWork_biliranisland.com_September2020_C...</td>\n",
       "      <td>4</td>\n",
       "    </tr>\n",
       "    <tr>\n",
       "      <th>3</th>\n",
       "      <td>CreativeWork_biodiversitylibrary.org_September...</td>\n",
       "      <td>2</td>\n",
       "    </tr>\n",
       "    <tr>\n",
       "      <th>4</th>\n",
       "      <td>CreativeWork_cityofmulberryfl.org_September202...</td>\n",
       "      <td>0</td>\n",
       "    </tr>\n",
       "  </tbody>\n",
       "</table>\n",
       "</div>"
      ],
      "text/plain": [
       "                                          table_name  column_index\n",
       "0  CreativeWork_2agenten.com_September2020_CTA.js...             1\n",
       "1  CreativeWork_biliranisland.com_September2020_C...             3\n",
       "2  CreativeWork_biliranisland.com_September2020_C...             4\n",
       "3  CreativeWork_biodiversitylibrary.org_September...             2\n",
       "4  CreativeWork_cityofmulberryfl.org_September202...             0"
      ]
     },
     "execution_count": 66,
     "metadata": {},
     "output_type": "execute_result"
    }
   ],
   "source": [
    "df_test.head()"
   ]
  },
  {
   "cell_type": "code",
   "execution_count": 67,
   "id": "7b9d8fc3",
   "metadata": {},
   "outputs": [
    {
     "name": "stdout",
     "output_type": "stream",
     "text": [
      "The DataFrames have the same set of values in the 'table_name' column.\n",
      "The shpae of the generated file is :(681, 3) \n"
     ]
    }
   ],
   "source": [
    "# Get the unique values of the column in both DataFrames\n",
    "unique_values_df_test = set(df_test['table_name'])\n",
    "unique_values_PAAV_DBP_R2CTA_SUB = set(PAAV_DBP_R2CTA_SUB['table_name'])\n",
    "\n",
    "# Check if the unique values are the same\n",
    "if unique_values_df_test == unique_values_PAAV_DBP_R2CTA_SUB:\n",
    "    print(\"The DataFrames have the same set of values in the 'table_name' column.\")\n",
    "else:\n",
    "    print(\"The DataFrames do not have the same set of values in the 'table_name' column.\")\n",
    "    \n",
    "    \n",
    "# Checking the shape of the file \n",
    "print(f\"The shpae of the generated file is :{PAAV_DBP_R2CTA_SUB.shape} \")    "
   ]
  },
  {
   "cell_type": "code",
   "execution_count": null,
   "id": "23baf863",
   "metadata": {},
   "outputs": [],
   "source": []
  },
  {
   "cell_type": "code",
   "execution_count": 68,
   "id": "fb617bca",
   "metadata": {},
   "outputs": [],
   "source": [
    "# Save the DataFrame as a CSV file\n",
    "PAAV_DBP_R2CTA_SUB.to_csv('DREIFLUSS_sotab_cta_test_targets_round2_dbpedia_R2-SOTAB-CTA-DBP.csv', index=False)"
   ]
  },
  {
   "cell_type": "code",
   "execution_count": null,
   "id": "f70ef502",
   "metadata": {},
   "outputs": [],
   "source": []
  },
  {
   "cell_type": "code",
   "execution_count": null,
   "id": "f37dd50b",
   "metadata": {},
   "outputs": [],
   "source": []
  }
 ],
 "metadata": {
  "kernelspec": {
   "display_name": "Python 3 (ipykernel)",
   "language": "python",
   "name": "python3"
  },
  "language_info": {
   "codemirror_mode": {
    "name": "ipython",
    "version": 3
   },
   "file_extension": ".py",
   "mimetype": "text/x-python",
   "name": "python",
   "nbconvert_exporter": "python",
   "pygments_lexer": "ipython3",
   "version": "3.9.13"
  }
 },
 "nbformat": 4,
 "nbformat_minor": 5
}
